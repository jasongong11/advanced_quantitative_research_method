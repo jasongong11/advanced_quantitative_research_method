{
 "cells": [
  {
   "cell_type": "markdown",
   "id": "10158854-fa49-4850-a978-130515532dcb",
   "metadata": {
    "editable": true,
    "slideshow": {
     "slide_type": ""
    },
    "tags": [
     "lecture_note"
    ]
   },
   "source": [
    "# Simple Linear Regression\n",
    "\n",
    "### Xuanjun (Jason) Gong"
   ]
  },
  {
   "cell_type": "markdown",
   "id": "975d00e9-f5ae-4a30-b821-4f219b57b55e",
   "metadata": {
    "editable": true,
    "slideshow": {
     "slide_type": "slide"
    },
    "tags": [
     "lecture_note"
    ]
   },
   "source": [
    "## Regression model Ingredients\n",
    "\n",
    "In regression models, we have a set of independent (predictor) variables and one response (dependent) variable. \n",
    "\n",
    "Note: when we have multiple dependent variables, either use multivariate regression model or build several regression models independently for each dependent variable. \n",
    "\n",
    "For regression models, we will have a fixed component, denoted as $X$, consisting of independent variables and the intercept (we will talk about intercept a bit later), as well as a random component which accounts for the random distribution of response variables given $X$.\n",
    "\n",
    "Thus, a big difference between correlation and regression is that\n",
    "\n",
    "- Correlation treats both independent variable and dependent variable as random variables\n",
    "- Regression consider only dependent variable as a random variable, and consider the predictors as fixed and known values. "
   ]
  },
  {
   "cell_type": "markdown",
   "id": "1898504c-b6ef-4e17-bf8d-2abf432755d1",
   "metadata": {
    "editable": true,
    "slideshow": {
     "slide_type": "slide"
    },
    "tags": [
     "lecture_note"
    ]
   },
   "source": [
    "## Regression model Ingredients\n",
    "\n",
    "![regression1](./img/regression_model.png)"
   ]
  },
  {
   "cell_type": "markdown",
   "id": "e22df143-2c2d-48c5-a955-bef1cc0c7e8b",
   "metadata": {
    "editable": true,
    "slideshow": {
     "slide_type": "slide"
    },
    "tags": [
     "lecture_note"
    ]
   },
   "source": [
    "## Regression model \n",
    "\n",
    "### Data Example\n",
    "\n",
    "Suppose we want to know if there is a linear relationship between children's height and the average of their parent's height. \n",
    "\n",
    "Here is a dataset of 1886 Galton's observations on children's and their parents' heights.\n"
   ]
  },
  {
   "cell_type": "code",
   "execution_count": 1,
   "id": "a2e5b36e-87c5-4026-ae8b-dccf4cc1176a",
   "metadata": {
    "editable": true,
    "slideshow": {
     "slide_type": "slide"
    },
    "tags": [
     "lecture_note"
    ]
   },
   "outputs": [
    {
     "data": {
      "text/html": [
       "<div>\n",
       "<style scoped>\n",
       "    .dataframe tbody tr th:only-of-type {\n",
       "        vertical-align: middle;\n",
       "    }\n",
       "\n",
       "    .dataframe tbody tr th {\n",
       "        vertical-align: top;\n",
       "    }\n",
       "\n",
       "    .dataframe thead th {\n",
       "        text-align: right;\n",
       "    }\n",
       "</style>\n",
       "<table border=\"1\" class=\"dataframe\">\n",
       "  <thead>\n",
       "    <tr style=\"text-align: right;\">\n",
       "      <th></th>\n",
       "      <th>rownames</th>\n",
       "      <th>family</th>\n",
       "      <th>father</th>\n",
       "      <th>mother</th>\n",
       "      <th>midparentHeight</th>\n",
       "      <th>children</th>\n",
       "      <th>childNum</th>\n",
       "      <th>gender</th>\n",
       "      <th>childHeight</th>\n",
       "      <th>midparentHeight_bins</th>\n",
       "    </tr>\n",
       "  </thead>\n",
       "  <tbody>\n",
       "    <tr>\n",
       "      <th>0</th>\n",
       "      <td>1</td>\n",
       "      <td>001</td>\n",
       "      <td>78.5</td>\n",
       "      <td>67.0</td>\n",
       "      <td>75.43</td>\n",
       "      <td>4</td>\n",
       "      <td>1</td>\n",
       "      <td>male</td>\n",
       "      <td>73.2</td>\n",
       "      <td>74.8785</td>\n",
       "    </tr>\n",
       "    <tr>\n",
       "      <th>1</th>\n",
       "      <td>2</td>\n",
       "      <td>001</td>\n",
       "      <td>78.5</td>\n",
       "      <td>67.0</td>\n",
       "      <td>75.43</td>\n",
       "      <td>4</td>\n",
       "      <td>2</td>\n",
       "      <td>female</td>\n",
       "      <td>69.2</td>\n",
       "      <td>74.8785</td>\n",
       "    </tr>\n",
       "    <tr>\n",
       "      <th>2</th>\n",
       "      <td>3</td>\n",
       "      <td>001</td>\n",
       "      <td>78.5</td>\n",
       "      <td>67.0</td>\n",
       "      <td>75.43</td>\n",
       "      <td>4</td>\n",
       "      <td>3</td>\n",
       "      <td>female</td>\n",
       "      <td>69.0</td>\n",
       "      <td>74.8785</td>\n",
       "    </tr>\n",
       "    <tr>\n",
       "      <th>3</th>\n",
       "      <td>4</td>\n",
       "      <td>001</td>\n",
       "      <td>78.5</td>\n",
       "      <td>67.0</td>\n",
       "      <td>75.43</td>\n",
       "      <td>4</td>\n",
       "      <td>4</td>\n",
       "      <td>female</td>\n",
       "      <td>69.0</td>\n",
       "      <td>74.8785</td>\n",
       "    </tr>\n",
       "    <tr>\n",
       "      <th>4</th>\n",
       "      <td>5</td>\n",
       "      <td>002</td>\n",
       "      <td>75.5</td>\n",
       "      <td>66.5</td>\n",
       "      <td>73.66</td>\n",
       "      <td>4</td>\n",
       "      <td>1</td>\n",
       "      <td>male</td>\n",
       "      <td>73.5</td>\n",
       "      <td>73.7755</td>\n",
       "    </tr>\n",
       "  </tbody>\n",
       "</table>\n",
       "</div>"
      ],
      "text/plain": [
       "   rownames family  father  mother  midparentHeight  children  childNum  \\\n",
       "0         1    001    78.5    67.0            75.43         4         1   \n",
       "1         2    001    78.5    67.0            75.43         4         2   \n",
       "2         3    001    78.5    67.0            75.43         4         3   \n",
       "3         4    001    78.5    67.0            75.43         4         4   \n",
       "4         5    002    75.5    66.5            73.66         4         1   \n",
       "\n",
       "   gender  childHeight midparentHeight_bins  \n",
       "0    male         73.2              74.8785  \n",
       "1  female         69.2              74.8785  \n",
       "2  female         69.0              74.8785  \n",
       "3  female         69.0              74.8785  \n",
       "4    male         73.5              73.7755  "
      ]
     },
     "execution_count": 1,
     "metadata": {},
     "output_type": "execute_result"
    }
   ],
   "source": [
    "import pandas as pd\n",
    "import numpy as np\n",
    "import seaborn as sns\n",
    "from scipy import stats\n",
    "from matplotlib import pyplot as plt\n",
    "\n",
    "children_height_df = pd.read_csv(\"./data/GaltonFamilies.csv\")\n",
    "# q=[0, 0.1, 0.2, 0.3, 0.4, 0.5, 0.6, 0.7, 0.8, 0.9, 1]\n",
    "children_height_df[\"midparentHeight_bins\"] = pd.cut(children_height_df[\"midparentHeight\"],\n",
    "                                                     bins=10)\n",
    "children_height_df[\"midparentHeight_bins\"] = children_height_df.midparentHeight_bins.apply(lambda x:x.mid)\n",
    "children_height_df.head()"
   ]
  },
  {
   "cell_type": "code",
   "execution_count": 2,
   "id": "0eef4842-1925-43af-a043-2919c3fafee2",
   "metadata": {
    "editable": true,
    "slideshow": {
     "slide_type": "slide"
    },
    "tags": [
     "lecture_note"
    ]
   },
   "outputs": [
    {
     "data": {
      "image/png": "[encoded data removed]",
      "text/plain": [
       "<Figure size 640x480 with 1 Axes>"
      ]
     },
     "metadata": {},
     "output_type": "display_data"
    }
   ],
   "source": [
    "sns.scatterplot(data=children_height_df, x=\"midparentHeight\", y=\"childHeight\")\n",
    "sns.lineplot(data=children_height_df, x=\"midparentHeight_bins\", y=\"childHeight\",\n",
    "             err_style=\"bars\", marker='o', color=\"red\", errorbar=\"sd\")\n",
    "plt.show()"
   ]
  },
  {
   "cell_type": "markdown",
   "id": "00df531d-e4fa-49dc-9692-68bace8d3821",
   "metadata": {
    "editable": true,
    "slideshow": {
     "slide_type": "slide"
    },
    "tags": [
     "lecture_note"
    ]
   },
   "source": [
    "## Regression Ingredient\n",
    "\n",
    "From the visualization of the data, we can observe that\n",
    "\n",
    "1. The average children's height is approximately in a straight line across each bin of the mid parent height.\n",
    "2. The degree of dispersion (variance) is roughly the same across each bin."
   ]
  },
  {
   "cell_type": "markdown",
   "id": "f19f35fb-0ac2-40f7-87fd-2dcc5d5ac41b",
   "metadata": {
    "editable": true,
    "slideshow": {
     "slide_type": "slide"
    },
    "tags": [
     "lecture_note"
    ]
   },
   "source": [
    "## Regression Ingredient\n",
    "\n",
    "Thus, for a simple regression model, we specify two components:\n",
    "\n",
    "### Fixed component\n",
    "\n",
    "The mean of the childrens' height $Y$ is a linear function of midparent's height $X$.\n",
    "\n",
    "$$\n",
    "E[Y] = \\beta_0 + \\beta_1 X\n",
    "$$\n",
    "\n",
    "### Random component\n",
    "The distribution of children's height have a constant variance.\n",
    "$$\n",
    "Var(Y) = \\sigma^2\n",
    "$$\n",
    "\n",
    "\n",
    "Given $X_i$, $Y_i$ is the sum of two components, the fixed component $\\beta_0 + \\beta_1 X_i$ and the random component $\\epsilon_i$"
   ]
  },
  {
   "cell_type": "markdown",
   "id": "fa9f1f8d-2793-4a4a-b510-0ebccf96420a",
   "metadata": {
    "editable": true,
    "slideshow": {
     "slide_type": "slide"
    },
    "tags": [
     "lecture_note"
    ]
   },
   "source": [
    "## Regression Ingredient\n",
    "\n",
    "Adding them together, we will have a simple linear regression model\n",
    "\n",
    "$$\n",
    "Y_i = \\beta_0 + \\beta_1 X_i + \\epsilon_i \\ \\ \\ \\ \\ i=1,2,...,n\n",
    "\\\\\n",
    "Var(\\epsilon_i) = \\sigma^2\n",
    "$$\n",
    "\n",
    "$Y_i$ is the $i$th random sample of the response variable. $X_i$ is the $i$th random sample of the predictor variable. \n",
    "\n",
    "### Random errors \n",
    "$\\epsilon_i$: **uncorrelated, zero mean, equal-variance random** variable.\n",
    "\n",
    "### Model parameters\n",
    "$\\beta_0$ is the regression intercept, $\\beta_1$ is the regression slope, $\\sigma^2$ is the error variance.\n"
   ]
  },
  {
   "cell_type": "markdown",
   "id": "ce8f6148-8e43-46f1-b4e1-47badbfa3cfc",
   "metadata": {
    "editable": true,
    "slideshow": {
     "slide_type": "slide"
    },
    "tags": [
     "lecture_note"
    ]
   },
   "source": [
    "## Regression Model\n",
    "\n",
    "A regression model says:\n",
    "\n",
    "1. The response variable $Y_i$ is a random variable.\n",
    "2. The mean of the response variable depends on $X_i$ linearly.\n",
    "3. The variance of $Y_i$ is a constant, and not dependently on $X_i$.\n",
    "4. Response variable samples $Y_i$ and $Y_j$ ($i \\neq j$) are uncorrelated."
   ]
  },
  {
   "cell_type": "markdown",
   "id": "452aed56-7b7f-42fa-8e9e-58e2fd411597",
   "metadata": {
    "editable": true,
    "slideshow": {
     "slide_type": "slide"
    },
    "tags": [
     "lecture_note"
    ]
   },
   "source": [
    "## Regression Ingredient\n",
    "\n",
    "![regression3](./img/reg_beta.jpg)"
   ]
  },
  {
   "cell_type": "markdown",
   "id": "25b20e6f-5fd6-48f9-96ef-59c42c5cf25d",
   "metadata": {
    "editable": true,
    "slideshow": {
     "slide_type": "slide"
    },
    "tags": [
     "lecture_note"
    ]
   },
   "source": [
    "## Regression Line\n",
    "\n",
    "The regression line is $Y = \\beta_0 + \\beta_1 X$ is the fixed component of the regression model. \n",
    "\n",
    "### Regression slope $\\beta_1$\n",
    "\n",
    "The change in mean of $Y$ per unit change in $X$\n",
    "\n",
    "### Regression intercept $\\beta_0$\n",
    "\n",
    "The value of $E[Y]$ when $X=0$"
   ]
  },
  {
   "cell_type": "markdown",
   "id": "9d767780-19a3-42f1-8855-20d868748079",
   "metadata": {
    "editable": true,
    "slideshow": {
     "slide_type": "slide"
    },
    "tags": [
     "lecture_note"
    ]
   },
   "source": [
    "## Regression model estimate\n",
    "\n",
    "Given a set of random samples of size $N$:  $(X_1, Y_2), (X_2, Y_2), ..., (X_N, Y_N)$\n",
    "\n",
    "How do we estimate the regression parameter $\\beta_0$ and $\\beta_1$? And find the regression line $Y = \\beta_0 + \\beta_1 X$\n",
    "\n",
    "We need a method to find the pointe estimate of the parameters $\\hat{beta_0}$, $\\hat{\\beta_1}$\n",
    "\n",
    "### Method of Least Squares (Ordinary Least Square Method; OLS)\n",
    "\n",
    "The Ordinary Least Square method (OLS) consider the deviation between the observed dependent variable $Y_i$ and the expected response variable based on the regression model $\\hat{\\beta_0} + \\hat{\\beta_1}$ as the model error $e_i$.\n",
    "\n",
    "$$\n",
    "e_i = Y_i - \\hat{Y_i} = Y_i - (\\hat{\\beta_0} + \\hat{\\beta_1}X_i)\n",
    "$$\n",
    "\n",
    "Then the OLS method aims to minimize the sum of the squared errors $e_i^2$."
   ]
  },
  {
   "cell_type": "markdown",
   "id": "48fbd274-2587-44cb-8a08-caa6487aa6dc",
   "metadata": {
    "editable": true,
    "slideshow": {
     "slide_type": "slide"
    },
    "tags": [
     "lecture_note"
    ]
   },
   "source": [
    "## Regression model estimate\n",
    "\n",
    "<div>\n",
    "<img src=\"./img/residuals.png\" width=\"500\"/>\n",
    "</div>\n",
    "\n",
    "We can denote the sum of the least square errors as $Q$\n",
    "\n",
    "$$\n",
    "Q(\\hat{\\beta_0}, \\hat{\\beta_1}) = \\sum e_i^2 = \\sum (Y_i-(\\hat{\\beta_0} + \\hat{\\beta_1}X_i))\n",
    "$$\n",
    "\n",
    "The estimate $\\hat{\\beta_0}$ and $\\hat{\\beta_1}$ minimize $Q$ is the OLS estimator of the regression line. "
   ]
  },
  {
   "cell_type": "markdown",
   "id": "2f49501f-3c83-41bb-911f-e180fec8fbc9",
   "metadata": {
    "editable": true,
    "slideshow": {
     "slide_type": "slide"
    },
    "tags": [
     "lecture_note"
    ]
   },
   "source": [
    "## Regression model estimate\n",
    "\n",
    "$Q$ is a function of $\\hat{\\beta_0}$ and $\\hat{\\beta_1}$\n",
    "\n",
    "Consider the following two regression model with different $\\hat{\\beta_0}$ and $\\hat{\\beta_1}$ with data\n",
    "\n",
    "| index | X | Y |\n",
    "| --- | --- | --- |\n",
    "| 0 | 1 | -2 | \n",
    "| 1 | 2  |  0  |\n",
    "| 2 | 3  |  0  |\n"
   ]
  },
  {
   "cell_type": "markdown",
   "id": "0aec497b-fba8-4295-914e-a8283d0700b4",
   "metadata": {
    "editable": true,
    "slideshow": {
     "slide_type": "slide"
    },
    "tags": [
     "lecture_note"
    ]
   },
   "source": [
    "## Regression model estimate\n",
    "\n",
    "Which line minimizes $Q = \\sum e_i^2$\n",
    "\n",
    "A | B\n",
    "- | - \n",
    "![alt](./img/q_function_comparison_1.png) | ![alt](./img/q_function_comparison_2.png)\n"
   ]
  },
  {
   "cell_type": "markdown",
   "id": "98c88d4f-80e9-4828-9043-712ffce25482",
   "metadata": {
    "editable": true,
    "slideshow": {
     "slide_type": "slide"
    },
    "tags": [
     "lecture_note"
    ]
   },
   "source": [
    "## Regression model estimate\n",
    "\n",
    "How do we find the pointe estimate of $\\hat{\\beta_0}$ and $\\hat{\\beta_1}$? \n",
    "\n",
    "There are two solutions:\n",
    "\n",
    "1. Numerically solve this minimization task $\\hat{\\beta_0}, \\hat{\\beta_1} = \\underset{\\hat{\\beta_0}, \\hat{\\beta_1}}{argmin}( Q(\\hat{\\beta_0}, \\hat{\\beta_1}))$\n",
    "2. Analytically solve this function $Q(\\hat{\\beta_0}, \\hat{\\beta_1})$.\n",
    "\n",
    "$$\n",
    "\\frac{d Q(\\hat{\\beta_0}, \\hat{\\beta_1})}{d \\hat{\\beta_0}} = 0\n",
    "$$\n",
    "$$\n",
    "\\frac{d Q(\\hat{\\beta_0}, \\hat{\\beta_1})}{d \\hat{\\beta_1}} = 0\n",
    "$$"
   ]
  },
  {
   "cell_type": "markdown",
   "id": "9fcf6887-d581-4beb-a802-a536ddff79aa",
   "metadata": {
    "editable": true,
    "slideshow": {
     "slide_type": "slide"
    },
    "tags": [
     "lecture_note"
    ]
   },
   "source": [
    "## Solving the OLS problem\n",
    "\n",
    "The analytical solution to the OLS problem requires a little bit of calculus\n",
    "\n",
    "$$\n",
    "\\begin{align}\n",
    "\\frac{d Q(\\hat{\\beta_0}, \\hat{\\beta_1})}{d \\hat{\\beta_0}} &= 0\n",
    "\\\\\n",
    "\\frac{d \\sum (Y_i-\\hat{\\beta_0}-\\hat{\\beta_1}X_i)^2}{d \\hat{\\beta_0}} &= 0\n",
    "\\\\\n",
    "\\frac{d \\sum (Y_i-\\hat{\\beta_0}-\\hat{\\beta_1}X_i)^2}{d(X_i-\\hat{\\beta_0}-\\hat{\\beta_1}X_i)} \\frac{d(Y_i-\\hat{\\beta_0}-\\hat{\\beta_1}X_i)}{d\\hat{\\beta_0}} &=0 \\ \\ \\ \\ \\text{By Chain Rule}\n",
    "\\\\\n",
    "2 \\sum(Y_i-\\hat{\\beta_0}-\\hat{\\beta_1}X_i) * -1 &= 0\n",
    "\\\\\n",
    "-2 \\sum(Y_i-\\hat{\\beta_0}-\\hat{\\beta_1}X_i) &= 0\n",
    "\\\\\n",
    "\\sum(Y_i-\\hat{\\beta_0}-\\hat{\\beta_1}X_i) &= 0\n",
    "\\\\\n",
    "\\sum Y_i -n\\hat{\\beta_0} -\\hat{\\beta_1}\\sum X_i &=0\n",
    "\\\\\n",
    "\\sum Y_i &= n\\hat{\\beta_0} + \\hat{\\beta_1}\\sum X_i\n",
    "\\end{align}\n",
    "$$\n"
   ]
  },
  {
   "cell_type": "markdown",
   "id": "66a095a4-a440-439e-94c4-7dea976067df",
   "metadata": {
    "editable": true,
    "slideshow": {
     "slide_type": "slide"
    },
    "tags": [
     "lecture_note"
    ]
   },
   "source": [
    "## Solving the OLS problem\n",
    "\n",
    "$$\n",
    "\\begin{align}\n",
    "\\frac{d Q(\\hat{\\beta_0}, \\hat{\\beta_1})}{d \\hat{\\beta_1}} &= 0\n",
    "\\\\\n",
    "\\frac{d \\sum (Y_i-\\hat{\\beta_0}-\\hat{\\beta_1}X_i)^2}{d \\hat{\\beta_1}} &= 0\n",
    "\\\\\n",
    "\\frac{d \\sum (Y_i-\\hat{\\beta_0}-\\hat{\\beta_1}X_i)^2}{d(Y_i-\\hat{\\beta_0}-\\hat{\\beta_1}X_i)} \\frac{d(Y_i-\\hat{\\beta_0}-\\hat{\\beta_1}X_i)}{d\\hat{\\beta_1}} &=0 \\ \\ \\ \\ \\text{By Chain Rule}\n",
    "\\\\\n",
    "2 \\sum(Y_i-\\hat{\\beta_0}-\\hat{\\beta_1}X_i) * (-X_i) &= 0\n",
    "\\\\\n",
    "-2 \\sum(X_i Y_i-\\hat{\\beta_0}X_i-\\hat{\\beta_1}X_i) &= 0\n",
    "\\\\\n",
    "\\sum(X_i Y_i-\\hat{\\beta_0}X_i-\\hat{\\beta_1}X_i) &= 0\n",
    "\\\\\n",
    "\\sum X_i Y_i &= \\hat{\\beta_0}\\sum X_i + \\hat{\\beta_1}\\sum X_i^2\n",
    "\\end{align}\n",
    "$$"
   ]
  },
  {
   "cell_type": "markdown",
   "id": "06ab41ad-dbe4-4a2a-8e33-5f770cf20886",
   "metadata": {
    "editable": true,
    "slideshow": {
     "slide_type": "slide"
    },
    "tags": [
     "lecture_note"
    ]
   },
   "source": [
    "## Regression parameter point estimate\n",
    "\n",
    "By solving the minimization problem of the sum of residual squared, we can arrive at two equations.\n",
    "\n",
    "$$\n",
    "\\sum Y_i = n\\hat{\\beta_0} + \\hat{\\beta_1}\\sum X_i\n",
    "$$\n",
    "$$\n",
    "\\sum X_i Y_i = \\hat{\\beta_0} \\sum X_i + \\hat{\\beta_1}\\sum X_i^2\n",
    "$$\n",
    "\n",
    "These two equations are called **Normal Equations**.\n",
    "\n",
    "By solving these two equations, we will have the point estimate for the regression intercept $b_0$ and slope $b_1$.\n",
    "\n",
    "$$\n",
    "b_0 = \\hat{\\beta_0} = \\bar{Y} - \\hat{\\beta_1} \\bar{X}\n",
    "$$\n",
    "$$\n",
    "\\begin{align}\n",
    "b_1 = \\hat{\\beta_1} &= \\frac{\\sum_{i=1}^n (X_i-\\bar{X})(Y_i - \\bar{Y})}{\\sum_{i=1}^n (X_i - \\bar{X})^2}\n",
    "\\\\\n",
    "& = \\frac{\\sum_{i=1}^n X_i Y_i -n \\bar{X}\\bar{Y}}{\\sum_{i=1}^n X_i^2 - n\\bar{X}^2}\n",
    "\\end{align}\n",
    "$$"
   ]
  },
  {
   "cell_type": "markdown",
   "id": "f18c55ee-93c5-4138-b941-08438947f55b",
   "metadata": {
    "editable": true,
    "slideshow": {
     "slide_type": "slide"
    },
    "tags": [
     "lecture_note"
    ]
   },
   "source": [
    "## Regression Example\n",
    "\n",
    "We are interested in the spreading patterns of misinformation, and hypothesized that the emotion valence (positive vs. negative) have a linear relationship with the virality of the message on social media. \n",
    "\n",
    "We define messsage virality as our dependent variable $Y$, and the valence of the message as our independent variable $X$.\n",
    "\n",
    "We randomly sampled 5 messsages and measured their corresponding valence value $X$ and virality $Y$, shown in the following table. \n",
    "\n",
    "\n",
    "| index | X | Y |\n",
    "| --- | --- | --- |\n",
    "| 0 | -1 | 3 | \n",
    "| 1 | 0  |  1  |\n",
    "| 2 | -3  |  5  |\n",
    "| 3 | 2  |  0  |\n",
    "| 4 | 1  |  1  |\n",
    "\n",
    "How do we test the relationship between message valence and message virality? "
   ]
  },
  {
   "cell_type": "markdown",
   "id": "861a6c37-7f35-4250-8837-28bc1d7e4ce8",
   "metadata": {
    "editable": true,
    "slideshow": {
     "slide_type": "slide"
    },
    "tags": [
     "lecture_note"
    ]
   },
   "source": [
    "## Computing the regression intercept and slope\n",
    "\n",
    "We construct the regression model\n",
    "\n",
    "$$\n",
    "Y_i = \\beta_0 + \\beta_1 X_i + \\epsilon_i \\  \\text{, $\\epsilon_i$ is uncorrelated, zero mean, and constant variance}\n",
    "$$\n",
    "\n",
    "Then we need to find the point estimate of regression intercept $b_0$ and the regression slope $b_1$. \n",
    "\n",
    "Using the OSL analytical solution, we use the formula:\n",
    "\n",
    "$$\n",
    "\\begin{align}\n",
    "\\sum X_i Y_i &= -17 \\ \\ \\ \\ \\sum X_i^2 =15\n",
    "\\\\\n",
    "\\bar{X} &= -\\frac{1}{5} \\ \\ \\ \\ \\ \\ \\ \\bar{Y} = 2\n",
    "\\end{align}\n",
    "$$\n",
    "\n",
    "$$\n",
    "\\begin{align}\n",
    "b_1=\\hat{\\beta_1} &= \\frac{\\sum_{i=1}^n X_i Y_i -n \\bar{X}\\bar{Y}}{\\sum_{i=1}^n X_i^2 - n\\bar{X}^2}\n",
    "\\\\\n",
    "&= \\frac{-15-5*(-\\frac{1}{5})*2}{15-5*(-\\frac{1}{5})^2} = -\\frac{75}{74} = -1.014\n",
    "\\end{align}\n",
    "$$\n",
    "\n",
    "\n",
    "\n",
    "$$\n",
    "\\begin{align}\n",
    "b_0=\\hat{\\beta_0} &= \\bar{Y}-b_1\\bar{X}\n",
    "\\\\\n",
    "&= 2-(-\\frac{75}{74})(-\\frac{1}{5}) = \\frac{133}{74} = 1.797\n",
    "\\end{align}\n",
    "$$"
   ]
  },
  {
   "cell_type": "markdown",
   "id": "3f975ce7-8a4e-49c2-b94f-e1daf74a1329",
   "metadata": {
    "editable": true,
    "slideshow": {
     "slide_type": "slide"
    },
    "tags": [
     "lecture_note"
    ]
   },
   "source": [
    "## Computing the regression intercept and slope\n",
    "\n",
    "Thus, we have the estimated regression line: \n",
    "\n",
    "$$\n",
    "Y = 1.797 - 1.014 X\n",
    "$$\n",
    "\n",
    "The relationship between valence and virality is that\n",
    "\n",
    "1. For each unit of increase in valence, there will be 1.014 unit decrease in message virality.\n",
    "2. When the the valence equals to 0 (neither positive nor negative), the message virality is 1.797.\n"
   ]
  },
  {
   "cell_type": "markdown",
   "id": "9955ea11-4f87-4fc5-a162-b7f758d1ee59",
   "metadata": {
    "editable": true,
    "slideshow": {
     "slide_type": "slide"
    },
    "tags": [
     "lecture_note"
    ]
   },
   "source": [
    "![reg_estimate](./img/regression_estimate.png)"
   ]
  },
  {
   "cell_type": "markdown",
   "id": "b4bf9e13-e254-4eaf-9c81-bf5a0364507c",
   "metadata": {
    "editable": true,
    "slideshow": {
     "slide_type": "slide"
    },
    "tags": [
     "lecture_note"
    ]
   },
   "source": [
    "## Relationship between correlation and simple regression slope\n",
    "\n",
    "The OSL solution for the regression slope is \n",
    "\n",
    "Previously, we have also shown that the estimate of Covariance and Correlation between the two variables are\n",
    "\n",
    "$$\n",
    "\\begin{align}\n",
    "\\widehat{Cov(X, Y)} = \\frac{\\sum (X_i - \\bar{X})(Y_i -\\bar{Y})}{n-1}\n",
    "\\\\\n",
    "r_{x, y} = \\frac{\\sum (X_i - \\bar{X})(Y_i -\\bar{Y})}{\\sqrt{\\sum (X_i-\\bar{X})^2} \\sqrt{\\sum (Y_i-\\bar{Y})^2}}\n",
    "\\\\\n",
    "S_x^2 = \\frac{\\sum (X_i -\\bar{X})^2}{n-1} \\ \\ \\ \\ \\ \\ \\ \\ S_y^2 =  \\frac{\\sum (Y_i -\\bar{Y})^2}{n-1}\n",
    "\\end{align}\n",
    "$$\n",
    "\n",
    "Together, we will find out that \n",
    "\n",
    "$$\n",
    "\\hat{\\beta_1} = \\frac{\\sum_{i=1}^n (X_i-\\bar{X})(Y_i - \\bar{Y})}{\\sum_{i=1}^n (X_i - \\bar{X})^2} = r_{x, y} \\frac{S_y}{S_x} = \\frac{\\widehat{Cov(X,Y)}}{S_x^2}\n",
    "$$"
   ]
  },
  {
   "cell_type": "markdown",
   "id": "a928ef96-9ec8-42fc-bb1b-41c26f411cf2",
   "metadata": {
    "editable": true,
    "slideshow": {
     "slide_type": "slide"
    },
    "tags": [
     "lecture_note"
    ]
   },
   "source": [
    "## Properties of regression line\n",
    "\n",
    "1. The regression line always pass through $(\\bar{X}, \\bar{Y})$ and $(0, \\hat{\\beta_1})$\n",
    "\n",
    "$$\n",
    "\\hat{Y} = \\hat{\\beta_0} + \\hat{\\beta_1}X \\ \\ \\ \\ \\ \\ \\ \\hat{\\beta_0} = \\bar{Y} - \\hat{\\beta_1}\\bar{X}\n",
    "$$\n",
    "\n",
    "$$\n",
    "\\hat{Y} = (\\bar{Y}-\\hat{\\beta_1}\\bar{X}) + \\hat{\\beta_1}X\n",
    "$$\n",
    "\n",
    "Thus when $X = \\bar{X}$, the regression line will pass on $Y$: $\\hat{Y} = \\bar{Y}$\n",
    "\n",
    "And when $X = 0$, the regression line will pass on $Y$: $\\hat{Y} = \\hat{\\beta_1}$"
   ]
  },
  {
   "cell_type": "markdown",
   "id": "27dfc4b5-0a68-42b0-b8b5-06d8916bbfdf",
   "metadata": {
    "editable": true,
    "slideshow": {
     "slide_type": "slide"
    },
    "tags": [
     "lecture_note"
    ]
   },
   "source": [
    "![reg_line_1](./img/regression_line_property_1.png)"
   ]
  },
  {
   "cell_type": "markdown",
   "id": "33cebfde-774a-4c85-911a-b60470b1d877",
   "metadata": {
    "editable": true,
    "slideshow": {
     "slide_type": "slide"
    },
    "tags": [
     "lecture_note"
    ]
   },
   "source": [
    "## Properties of regression line\n",
    "2. For one standard deviation change in $X$ will lead to $r_{x,y}$ unit of standard deviation of change in $Y$.\n",
    "\n",
    "$$\n",
    "\\begin{align}\n",
    "\\hat{Y_1} &= \\hat{\\beta_0} + \\hat{\\beta_1}X_1 = \\hat{\\beta_0} + r_{x,y}\\frac{S_y}{S_x}X_1\n",
    "\\\\\n",
    "X_2 &= X_1 + S_x\n",
    "\\\\\n",
    "\\hat{Y_2} &= \\hat{\\beta_0} + r_{x,y}\\frac{S_y}{S_x}X_2\n",
    "\\\\\n",
    "&= \\hat{\\beta_0} + r_{x,y}\\frac{S_y}{S_x}(X_1 + S_x)\n",
    "\\\\\n",
    "&= \\hat{\\beta_0} + r_{x,y}\\frac{S_y}{S_x}X_1 + r_{x,y}\\frac{S_y}{S_x}S_x\n",
    "\\\\\n",
    "&= \\hat{\\beta_0} + r_{x,y}\\frac{S_y}{S_x}X_1 + r_{x,y}S_y \n",
    "\\\\\n",
    "&= \\hat{Y_1} + r_{x,y}S_y\n",
    "\\end{align}\n",
    "$$\n"
   ]
  },
  {
   "cell_type": "markdown",
   "id": "55eddc82-f028-44c5-8fcd-93b8608daa47",
   "metadata": {
    "editable": true,
    "slideshow": {
     "slide_type": "slide"
    },
    "tags": [
     "lecture_note"
    ]
   },
   "source": [
    "![reg_line_2](./img/regression_line_property_2.png)"
   ]
  },
  {
   "cell_type": "markdown",
   "id": "61839a51-3e79-462a-b19f-e30173bc5bf1",
   "metadata": {
    "editable": true,
    "slideshow": {
     "slide_type": "slide"
    },
    "tags": [
     "lecture_note"
    ]
   },
   "source": [
    "## Properties of regression line\n",
    "\n",
    "3. If we standardize the data $X_i'=\\frac{X_i-\\bar{X}}{S_x}$, $Y_i'=\\frac{Y_i-\\bar{Y}}{S_y}$, then the regression slope of the standardized data of $X$ and $Y$ is the correlation between $X$ and $Y$ $\\hat{\\beta_1}=r_{x,y}$, and the regression intercept will become 0\n",
    "\n",
    "$$\\hat{\\beta_1} = r_{x,y}$$\n",
    "$$\\hat{\\beta_0}=0$$\n",
    "\n",
    "Because $S_x' = 1$ and $S_y' = 1$, thus $\\hat{\\beta_1} = r_{x, y} \\frac{S_y'}{S_x'}=1$\n",
    "\n",
    "Also $\\bar{X'} = 0$ and $\\bar{Y'}=0$, the regression line of the standardized data will pass through $(\\bar{X'}, \\bar{Y'}) = (0,0)$, thus $\\hat{\\beta_0}=0$\n",
    "\n"
   ]
  },
  {
   "cell_type": "markdown",
   "id": "29faad0a-644d-4c4d-b28a-881d8a9d2142",
   "metadata": {
    "editable": true,
    "slideshow": {
     "slide_type": "slide"
    },
    "tags": [
     "lecture_note"
    ]
   },
   "source": [
    "![reg_line_3](./img/regression_line_property_3.png)"
   ]
  },
  {
   "cell_type": "markdown",
   "id": "c071d4e7-127e-46e0-ae22-755a7e9493ed",
   "metadata": {
    "editable": true,
    "slideshow": {
     "slide_type": "slide"
    },
    "tags": [
     "lecture_note"
    ]
   },
   "source": [
    "## Properties of OLS estimate\n",
    "\n",
    "Using OLS method, we estimated regression intercept $\\beta_0$ and regression slope $\\beta_1$. \n",
    "\n",
    "$$\\hat{\\beta_1} = b_1 = \\frac{\\sum_{i=1}^n (X_i-\\bar{X})(Y_i - \\bar{Y})}{\\sum_{i=1}^n (X_i - \\bar{X})^2}$$\n",
    "$$\\hat{\\beta_0} = b_0 = \\bar{Y} - \\hat{\\beta_1} \\bar{X}$$\n",
    "\n",
    "You may wonder how good this estimate is compared to alternative estimate methods.\n",
    "\n",
    "Based on **Gauss-Markov Theorem**, OLS estimates are **unbiased** estimators of $\\beta_0$ and $\\beta_1$, and among all possible unbiased estimators, they have the minimum variance. \n",
    "\n",
    "In order to better understand our OLS estimators, we need to discover the variance of these estimators. \n",
    "\n",
    "Thus, we need to look at the random component of the regression model $\\epsilon_i$"
   ]
  },
  {
   "cell_type": "markdown",
   "id": "c07f324d-8dab-4c32-a7a9-b69939fc1a66",
   "metadata": {
    "editable": true,
    "slideshow": {
     "slide_type": "slide"
    },
    "tags": [
     "lecture_note"
    ]
   },
   "source": [
    "## Fitted value and residuals\n",
    "\n",
    "**Fitted value** are predictions of the regression line. Given a value of $X_i$, what is the $Y$ value on the regression line. It is the estimated dependent variable $\\hat{Y_i}$\n",
    "\n",
    "$$\n",
    "\\hat{Y_i} = \\hat{\\beta_0} + \\hat{\\beta_1} X_i = \\bar{Y} + \\hat{\\beta_1}(X_i-\\bar{X})\n",
    "$$\n",
    "\n",
    "**Residuals** $e_i$ are the differences or errors between the observed values and their respective fitted value. \n",
    "\n",
    "$$\n",
    "\\begin{align}\n",
    "e_i=Y_i-\\hat{Y_i} &= Y_i-(\\hat{\\beta_0} + \\hat{\\beta_1} X_i)\n",
    "\\\\\n",
    "&= (Y_i-\\bar{Y}) - \\hat{\\beta_1}(X_i-\\bar{X})\n",
    "\\end{align}\n",
    "$$\n"
   ]
  },
  {
   "cell_type": "markdown",
   "id": "6696a27f-ab1a-4b7f-8dcb-907044fae6ea",
   "metadata": {
    "editable": true,
    "slideshow": {
     "slide_type": "slide"
    },
    "tags": [
     "lecture_note"
    ]
   },
   "source": [
    "![residual](./img/fitted_and_residuals.png)"
   ]
  },
  {
   "cell_type": "markdown",
   "id": "dbe9db61-aeb1-4d27-bb92-4d56402f4eda",
   "metadata": {
    "editable": true,
    "slideshow": {
     "slide_type": "slide"
    },
    "tags": [
     "lecture_note"
    ]
   },
   "source": [
    "## Properties of residuals\n",
    "\n",
    "1. Sum of residuals equals to 0 : $\\sum_{i=1}^n e_i= 0$\n",
    "\n",
    "$$\n",
    "\\begin{align}\n",
    "e_i &= (Y_i-\\bar{Y})-\\hat{\\beta_1}(X_i-\\bar{X})\n",
    "\\\\\n",
    "\\sum e_i &= \\sum [(Y_i-\\bar{Y})-\\hat{\\beta_1}(X_i-\\bar{X})]\n",
    "\\\\\n",
    "&= \\sum (Y_i-\\bar{Y}) -\\hat{\\beta_1}\\sum(X_i-\\bar{X})\n",
    "\\\\\n",
    "&= \\sum Y_i -\\sum \\bar{Y} -\\hat{\\beta_1}(\\sum X_i - \\sum \\bar{X})\n",
    "\\\\\n",
    "&=  n\\bar{Y} - n\\bar{Y} -\\hat{\\beta_1}(n\\bar{X}-n\\bar{X})\n",
    "\\\\\n",
    "&= 0 - \\hat{\\beta_1} 0\n",
    "\\\\\n",
    "&= 0\n",
    "\\end{align}\n",
    "$$"
   ]
  },
  {
   "cell_type": "markdown",
   "id": "0c9619db-8958-495f-b7c4-ab6e6ff08f56",
   "metadata": {
    "editable": true,
    "slideshow": {
     "slide_type": "slide"
    },
    "tags": [
     "lecture_note"
    ]
   },
   "source": [
    "## Properties of residuals\n",
    "\n",
    "2. $\\sum_{i=1}^n X_ie_i= 0$\n",
    "\n",
    "$$\n",
    "\\begin{align}\n",
    "\\sum_{i=1}^n X_ie_i &= \\sum X_i [Y_i - \\bar{Y}-\\hat{\\beta_1}(X_i-\\bar{X})]\n",
    "\\\\\n",
    "&= \\sum(X_iY_i-X_i\\bar{Y}-X_i\\hat{\\beta_1}X_i+\\hat{\\beta_1}X_i\\bar{X})\n",
    "\\\\\n",
    "&= \\sum X_iY_i -\\bar{Y}\\sum X_i - \\hat{\\beta_1}\\sum X_i^2 + \\hat{\\beta_1}\\bar{X}\\sum X_i\n",
    "\\\\\n",
    "&= \\sum X_iY_i -n\\bar{X}\\bar{Y} - \\hat{\\beta_1}\\sum X_i^2 + \\hat{\\beta_1}n\\bar{X}^2\n",
    "\\\\\n",
    "&= \\sum X_iY_i - n\\bar{X}\\bar{Y} - \\hat{\\beta_1}(\\sum X_i^2-n\\bar{X}^2)\n",
    "\\\\\n",
    "&\\text{Given that $\\hat{\\beta_1} = \\frac{\\sum X_iY_i - n\\bar{X}\\bar{Y}}{\\sum X_i^2 -n\\bar{X}^2}$}\n",
    "\\\\\n",
    "\\sum_{i=1}^n X_ie_i&= \\sum X_iY_i - n\\bar{X}\\bar{Y} - \\frac{\\sum X_iY_i -n \\bar{X}\\bar{Y}}{\\sum X_i^2-n\\bar{X}^2}(\\sum X_i^2-n\\bar{X}^2)\n",
    "\\\\\n",
    "&= \\sum X_iY_i -n\\bar{X}\\bar{Y}-\\sum X_iY_i + n\\bar{X}\\bar{Y}\n",
    "\\\\\n",
    "&= 0\n",
    "\\end{align}\n",
    "$$"
   ]
  },
  {
   "cell_type": "markdown",
   "id": "f603c3d8-3486-4f4b-8418-ae11a32e7dfb",
   "metadata": {
    "editable": true,
    "slideshow": {
     "slide_type": "slide"
    },
    "tags": [
     "lecture_note"
    ]
   },
   "source": [
    "## Properties of residuals\n",
    "3. Combining the previous two properties, we will have $\\sum_{i=1}^n \\hat{Y_i}e_i = 0$\n",
    "\n",
    "$$\n",
    "\\begin{align}\n",
    "\\hat{Y_i} &= \\hat{\\beta_0} + \\hat{\\beta_1}X_i\n",
    "\\\\\n",
    "\\sum_{i=1}^n \\hat{Y_i}e_i &= \\sum (\\hat{\\beta_0} + \\hat{\\beta_1}X_i) e_i\n",
    "\\\\\n",
    "&= \\sum \\hat{\\beta_0} e_i + \\sum \\hat{\\beta_1} X_i e_i\n",
    "\\\\\n",
    "&= \\hat{\\beta_0} \\sum e_i + \\hat{\\beta_1} \\sum X_i e_i\n",
    "\\\\\n",
    "&= \\hat{\\beta_0} * 0 + 0 * \\hat{\\beta_1} \\ \\ \\ \\ \\ \\text{Given $\\sum e_i = 0$ and $\\sum X_i e_i = 0$}\n",
    "\\\\\n",
    "&=0\n",
    "\\end{align}\n",
    "$$\n"
   ]
  },
  {
   "cell_type": "markdown",
   "id": "d95befc4-9492-49be-be4d-1c8f7518f7ff",
   "metadata": {
    "editable": true,
    "slideshow": {
     "slide_type": "slide"
    },
    "tags": [
     "lecture_note"
    ]
   },
   "source": [
    "## Properties of residuals\n",
    "\n",
    "In summary, regression residuals (the random component) are considered a random variable $\\epsilon_i = Y_i-(\\beta_0 + \\beta_1 X_i)$, and its random samples $e_i = Y_i-(\\hat{\\beta_0}+ \\hat{\\beta_1}X_i)$ are constrained by two rules.\n",
    "\n",
    "1. $\\sum_{i=1}^n e_i= 0$\n",
    "2. $\\sum_{i=1}^n X_ie_i= 0$\n",
    "\n",
    "It has a mean of 0, and we define the variance of errors as $\\sigma^2$, thus we have \n",
    "\n",
    "1. $E[\\epsilon_i] = 0$\n",
    "2. $Var(\\epsilon_i) = \\sigma^2$\n"
   ]
  },
  {
   "cell_type": "markdown",
   "id": "1d5a48a0-5dd0-46ce-a578-b3d3a70ad883",
   "metadata": {
    "editable": true,
    "slideshow": {
     "slide_type": "slide"
    },
    "tags": [
     "lecture_note"
    ]
   },
   "source": [
    "## Estimate of random error\n",
    "\n",
    "Random error $\\epsilon_i$ has a mean of 0, so we do not need to estimate for it. It is known. \n",
    "\n",
    "But we are left with its unknown variance $\\sigma^2$, and we need to estimate the variance of $\\epsilon_i$ by its random samples $e_i$.\n",
    "\n",
    "Knowing the variance of errors $\\sigma^2$ is crucially important, as it gives us information about how good our regression estimates and our regression model are.\n",
    "\n",
    "### Step 1\n",
    "We first estimate the OLS estimate of regression intercept $\\hat{\\beta_0}$ and regression slope $\\hat{\\beta_1}$. Then we can calculate the $\\hat{Y_i} = \\hat{\\beta_0} + \\hat{\\beta_1}X_i$, then we can obtain the random samples of random error \n",
    "\n",
    "$$\\hat{\\epsilon_i} = e_i = Y_i - \\hat{Y_i} = Y_i -  (\\hat{\\beta_0} + \\hat{\\beta_1}X_i)$$"
   ]
  },
  {
   "cell_type": "markdown",
   "id": "ac2802d7-6d5a-4e4d-bfbb-d4df30e14c13",
   "metadata": {
    "editable": true,
    "slideshow": {
     "slide_type": "slide"
    },
    "tags": [
     "lecture_note"
    ]
   },
   "source": [
    "## Estimate of random error\n",
    "### Step 2\n",
    "We obtain the **Sum of Squared Errors** $SSE$\n",
    "\n",
    "$$SSE = \\sum_{i=1}^n e_i^2=\\sum_{i==1}^n (Y_i-\\hat{Y_i})^2$$\n",
    "\n",
    "### Step 3\n",
    "We define **Mean Squared Errors** $MSE$\n",
    "\n",
    "$$MSE = \\frac{SSE}{n-2} = \\frac{\\sum (Y_i -\\hat{Y_i})^2}{n-2}$$\n",
    "\n",
    "Then $MSE$ is our unbiased estimator for $\\sigma^2$\n",
    "\n",
    "$$\\hat{\\sigma^2} = MSE$$"
   ]
  },
  {
   "cell_type": "markdown",
   "id": "4d436c27-b957-4fc9-a24d-ce51764aedfc",
   "metadata": {
    "editable": true,
    "slideshow": {
     "slide_type": "slide"
    },
    "tags": [
     "lecture_note"
    ]
   },
   "source": [
    "## Mean Squared Errors\n",
    "\n",
    "Why $MSE$ is an unbiased estimator of $\\sigma^2$?\n",
    "\n",
    "We have previously discussed using sample variance $S^2$ as an unbiased estimator for a random variable $X$ with its random samples $X_i$ of size $n$.\n",
    "\n",
    "$$\n",
    "S^2=\\frac{1}{n-1}\\sum (X_i-\\bar{X})^2\n",
    "$$\n",
    "$$\n",
    "E[S^2] = \\sigma^2\n",
    "$$\n",
    "\n",
    "This is because calculating $S^2=\\frac{1}{n-1}\\sum (X_i-\\bar{X})^2$ is constraint by the sample mean such that $\\frac{\\sum X_i}{n} = \\bar{X}$, which reduced 1 **degree of freedom** in $\\sum (X_i-\\bar{X})^2$, thus we need to divide it by its degree of freedom $n-1$. \n",
    "\n",
    "#### Why do we not use the sample variance of $e_i$ to estimate $\\sigma^2$ as we did for other random variables?"
   ]
  },
  {
   "cell_type": "markdown",
   "id": "94c9a9f4-4fc8-4b6c-904c-8a0657eb57b4",
   "metadata": {
    "editable": true,
    "slideshow": {
     "slide_type": "slide"
    },
    "tags": [
     "lecture_note"
    ]
   },
   "source": [
    "### Degree of freedom of SSE\n",
    "\n",
    "We can consider $e_i$ as a vector of random variables\n",
    "\n",
    "$$\n",
    "\\boldsymbol{e} = [e_1, e_2, e_3, ... , e_n]\n",
    "$$\n",
    "\n",
    "**Degree of Freedom** of $SSE = \\sum e_i^2$ is the number of its components that are free to vary. \n",
    "\n",
    "Recall that $\\sum e_i = 0$ and $\\sum X_ie_i =0$. Thus, this vector of random samples of error has a degree of freedom of $n-2$, because it is constraint by these two rules, which results in\n",
    "\n",
    "$$d.f.(SSE) = n-2$$\n",
    "\n",
    "Another way to interpret it is that $SSE$ is constraint by the two parameters that we have already estimated $\\hat{\\beta_0}$ and $\\hat{\\beta_1}$ in the regression model, thus reducing its degree of freedom by 2. \n",
    "\n",
    "Thus, we will have \n",
    "\n",
    "$$\n",
    "E[SSE] = (n-2) \\sigma^2\n",
    "$$\n",
    "$$\n",
    "E[MSE] = \\frac{SSE}{n-2} = \\sigma^2\n",
    "$$"
   ]
  },
  {
   "cell_type": "markdown",
   "id": "eba4860f-449f-487f-aa44-4a36840fdbf3",
   "metadata": {
    "editable": true,
    "slideshow": {
     "slide_type": "slide"
    },
    "tags": [
     "lecture_note"
    ]
   },
   "source": [
    "## Point estimate for regression parameters\n",
    "\n",
    "In summary, we have shown how we can use the random samples $(X_i, Y_i)$, to estimate the regression parameters $\\beta_0$, $\\beta_1$, and $\\sigma^2$ using the OLS method.\n",
    "\n",
    "$$\n",
    "\\begin{align}\n",
    "\\hat{\\beta_1} = b_1 &= \\frac{\\sum (X_i-\\bar{X})(Y_i-\\bar{Y})}{\\sum (X_i-\\bar{X})^2}\n",
    "\\\\\n",
    "\\hat{\\beta_0} = b_0 &= \\bar{Y} - b_1 \\bar{X}\n",
    "\\\\\n",
    "\\hat{\\sigma^2} = MSE &= \\frac{1}{n-2} \\sum e_i^2\n",
    "\\\\\n",
    "&= \\frac{1}{n-2}\\sum (Y_i-\\hat{Y_i})^2\n",
    "\\\\\n",
    "&= \\frac{1}{n-2} \\sum (Y_i - b_0 -b_1X_i)^2\n",
    "\\end{align}\n",
    "$$"
   ]
  },
  {
   "cell_type": "markdown",
   "id": "2db81424-a696-463b-959a-f3a5b9eb3c51",
   "metadata": {
    "editable": true,
    "slideshow": {
     "slide_type": "slide"
    },
    "tags": [
     "lecture_note"
    ]
   },
   "source": [
    "## Sampling distribution of regression parameters\n",
    "\n",
    "In order to make statistical inferences about the regression parameters $\\hat{\\beta_0}$ and $\\hat{\\beta_1}$, we need to know their sampling distributions. \n",
    "\n",
    "First, we need to work on regression slope $\\hat{\\beta_1} = b_1$\n",
    "\n",
    "$$\n",
    "\\begin{align}\n",
    "\\hat{\\beta_1} = b_1 &= \\frac{\\sum (X_i-\\bar{X})(Y_i-\\bar{Y})}{\\sum (X_i -\\bar{X})^2}\n",
    "\\\\\n",
    "&= \\frac{\\sum(X_i-\\bar{X})Y_i}{\\sum (X_i-\\bar{X})^2}-\\frac{\\sum (X_i-\\bar{X})\\bar{Y}}{\\sum (X_i-\\bar{X})^2}\n",
    "\\\\\n",
    "&= \\frac{\\sum(X_i-\\bar{X})Y_i}{\\sum (X_i-\\bar{X})^2} -\\frac{\\sum X_i\\bar{Y}-\\sum \\bar{X}\\bar{Y}}{\\sum(X_i-\\bar{X})^2}\n",
    "\\\\\n",
    "&= \\frac{\\sum(X_i-\\bar{X})Y_i}{\\sum (X_i-\\bar{X})^2} -\\frac{n\\bar{X}\\bar{Y}-n \\bar{X}\\bar{Y}}{\\sum(X_i-\\bar{X})^2}\n",
    "\\\\\n",
    "&= \\frac{\\sum(X_i-\\bar{X})Y_i}{\\sum (X_i-\\bar{X})^2}\n",
    "\\end{align}\n",
    "$$"
   ]
  },
  {
   "cell_type": "markdown",
   "id": "26f61912-5db1-4f07-88e5-91268e7c4050",
   "metadata": {
    "editable": true,
    "slideshow": {
     "slide_type": "slide"
    },
    "tags": [
     "lecture_note"
    ]
   },
   "source": [
    "## Sampling distribution of regression parameters\n",
    "\n",
    "We show that $\\hat{\\beta_1} = b_1 = \\frac{\\sum(X_i-\\bar{X})Y_i}{\\sum (X_i-\\bar{X})^2}$,\n",
    "\n",
    "Now, since in the regression model, we treat $X$ as known constant values not random variables, thus $X_i$ and $\\bar{X}$ are considered constant.\n",
    "\n",
    "Thus, we can treat $\\frac{X_i-\\bar{X}}{\\sum(X_i-\\bar{X})^2}$ as known constant. \n",
    "\n",
    "We define\n",
    "\n",
    "$$\n",
    "k_i = \\frac{X_i-\\bar{X}}{\\sum (X_i-\\bar{X})^2}\n",
    "$$\n",
    "\n",
    "Thus, we will have \n",
    "\n",
    "$$\n",
    "\\hat{\\beta_1} = b_1 = \\sum k_i Y_i \\ \\ \\ \\ \\ \\ \\ \\text{$k_i$ is a known constant}\n",
    "$$"
   ]
  },
  {
   "cell_type": "markdown",
   "id": "9d8c7971-c4e8-4666-b4b6-830f0d5118b0",
   "metadata": {
    "editable": true,
    "slideshow": {
     "slide_type": "slide"
    },
    "tags": [
     "lecture_note"
    ]
   },
   "source": [
    "## Properties of $k_i$\n",
    "\n",
    "This constant $k_i$ have three properties:\n",
    "\n",
    "1. $\\sum k_i = 0$\n",
    "    \n",
    "    $$\n",
    "    \\sum k_i = \\frac{\\sum (X_i-\\bar{X})}{\\sum (X_i-\\bar{X})^2} = \\frac{\\sum X_i-\\sum \\bar{X}}{\\sum (X_i-\\bar{X})^2} = \\frac{n\\bar{X}-n\\bar{X}}{\\sum (X_i-\\bar{X})^2} = 0\n",
    "    $$\n",
    "\n",
    "2. $\\sum k_i X_i = 1$\n",
    "\n",
    "    $$\n",
    "    \\begin{align}\n",
    "    \\sum k_i X_i = \\frac{\\sum (X_i-\\bar{X})X_i}{\\sum (X_i-\\bar{X})^2} &= \\frac{\\sum(X_i-\\bar{X}X_i)}{\\sum (X_i^2-2\\bar{X}X_i+\\bar{X}^2)}\n",
    "    \\\\\n",
    "    &= \\frac{\\sum X_i^2-\\bar{X} \\sum X_i}{\\sum X_i^2 -2\\bar{X}\\sum X_i+\\sum\\bar{X}^2}\n",
    "    \\\\\n",
    "    &= \\frac{\\sum X_i^2 -n\\bar{X}^2}{\\sum X_i^2-2n\\bar{X^2}+n\\bar{X}^2}\n",
    "    \\\\\n",
    "    &= \\frac{\\sum X_i^2-n\\bar{X}^2}{\\sum X_i^2-n\\bar{X}^2} = 1\n",
    "    \\end{align}\n",
    "    $$"
   ]
  },
  {
   "cell_type": "markdown",
   "id": "6f676f6c-0b83-48f1-bab6-1b07e3183579",
   "metadata": {
    "editable": true,
    "slideshow": {
     "slide_type": "slide"
    },
    "tags": [
     "lecture_note"
    ]
   },
   "source": [
    "## Properties of $k_i$\n",
    "\n",
    "3. $\\sum k_i^2 = \\frac{1}{\\sum (X_i-\\bar{X})^2}$\n",
    "    $$\n",
    "    \\begin{align}\n",
    "    \\sum k_i^2 &= \\sum [\\frac{X_i-\\bar{X}}{\\sum(X_i-\\bar{X})^2}]^2\n",
    "    \\\\\n",
    "    &= [\\frac{1}{\\sum (X_i-\\bar{X})^2}]^2 \\sum(X_i-\\bar{X})^2\n",
    "    \\\\\n",
    "    &= \\frac{1}{\\sum (X_i-\\bar{X})^2}\n",
    "    \\end{align}\n",
    "    $$"
   ]
  },
  {
   "cell_type": "markdown",
   "id": "c2098cdb-eb21-4287-9094-7614bb35815b",
   "metadata": {
    "editable": true,
    "slideshow": {
     "slide_type": "slide"
    },
    "tags": [
     "lecture_note"
    ]
   },
   "source": [
    "## Sampling distribution of regression parameters\n",
    "\n",
    "Now, we have $b_1 = \\sum k_iY_i$, we can derive\n",
    "\n",
    "$$\n",
    "\\begin{align}\n",
    "E[b_1] &= E[\\sum k_i Y_i]\n",
    "\\\\\n",
    "&= \\sum E[k_i Y_i]\n",
    "\\\\\n",
    "&= \\sum k_i E[Y_i]\n",
    "\\\\\n",
    "&= \\sum k_i (\\beta_0 + \\beta_1 X_i)\n",
    "\\\\\n",
    "&= \\sum k_i \\beta_0 + \\sum k_i \\beta_1 X_i\n",
    "\\\\\n",
    "&= \\beta_0 \\sum k_i + \\beta_1 \\sum k_i X_i \\ \\ \\ \\ \\ \\ \\ \\text{Given that $\\sum k_i=0$ and $\\sum k_i X_i=1$}\n",
    "\\\\\n",
    "&= \\beta_1\n",
    "\\end{align}\n",
    "$$"
   ]
  },
  {
   "cell_type": "markdown",
   "id": "583a0535-5452-4804-8d56-4c578bd6e221",
   "metadata": {
    "editable": true,
    "slideshow": {
     "slide_type": "slide"
    },
    "tags": [
     "lecture_note"
    ]
   },
   "source": [
    "## Sampling distribution of regression parameters\n",
    "\n",
    "Similarly, we have $b_0 = \\bar{Y}-b_1\\bar{X}$, thus we can derive\n",
    "\n",
    "$$\n",
    "\\begin{align}\n",
    "E[b_0] &= E[\\bar{Y}-b_1\\bar{X}]\n",
    "\\\\\n",
    "&= E[\\bar{Y}] - E[b_1 \\bar{X}] \\ \\ \\ \\ \\ \\ \\text{Given that $E[\\bar{Y}] = \\beta_0 + \\beta_1 \\bar{X}$}\n",
    "\\\\\n",
    "&= \\beta_0 + \\beta_1 \\bar{X} - \\bar{X}E[b_1]\n",
    "\\\\\n",
    "&= \\beta_0 + \\beta_1 \\bar{X} - \\bar{X} \\beta_1\n",
    "\\\\\n",
    "&= \\beta_0\n",
    "\\end{align}\n",
    "$$\n",
    "\n",
    "Together, we have shown that the OLS estimators $b_0$ and $b_1$ are **unbiased** estimators of $\\beta_0$ and $\\beta_1$.\n",
    "\n",
    "Next, let's discover the variance of the sampling distributions of $b_0$ and $b_1$."
   ]
  },
  {
   "cell_type": "markdown",
   "id": "172ca1d2-988a-4eb7-be98-fac7d05fa95d",
   "metadata": {
    "editable": true,
    "slideshow": {
     "slide_type": "slide"
    },
    "tags": [
     "lecture_note"
    ]
   },
   "source": [
    "## Sampling distribution of regression parameters\n",
    "\n",
    "Importantly, we can show that $b_0$ and $b_1$ are linear combinations of random samples of dependent variables $Y_i$. \n",
    "\n",
    "We have shown that\n",
    "\n",
    "$$\n",
    "b_1 = \\sum k_i Yi\n",
    "$$\n",
    "\n",
    "Considering $k_i$ are known constants, thus $b_1$ is a linear combination of $Y_1$. \n",
    "\n",
    "$$\n",
    "\\begin{align}\n",
    "b_0 = \\bar{Y} - b_1 \\bar{X} &= \\sum \\frac{Y_i}{n} - \\sum k_i Y_i \\bar{X}\n",
    "\\\\\n",
    "&= \\sum (\\frac{Y_i}{n}-k_i \\bar{X} Y_i) = \\sum (\\frac{1}{n} - k_i \\bar{X})Y_i\n",
    "\\end{align}\n",
    "$$\n",
    "\n",
    "Since $\\frac{1}{n}-k_i\\bar{X}$ are also known constants, $b_0$ is also a linear combination of $Y_i$."
   ]
  },
  {
   "cell_type": "markdown",
   "id": "fe3ae363-b516-4987-886f-babf69ab41b3",
   "metadata": {
    "editable": true,
    "slideshow": {
     "slide_type": "slide"
    },
    "tags": [
     "lecture_note"
    ]
   },
   "source": [
    "## Sampling distribution of regression parameters\n",
    "\n",
    "Now, we can start to work on the sampling variance of $b_1$ and $b_0$. \n",
    "\n",
    "First, we show that the variance of $b_1$ \n",
    "\n",
    "$$\n",
    "\\begin{align}\n",
    "Var(b_1) &= Var(\\sum k_i Y_i) \\ \\ \\ \\ \\text{Given that $Y_i=\\beta_0+\\beta_1X_i+ \\epsilon_i$ are uncorrelated with each other}\n",
    "\\\\\n",
    "&= \\sum Var(k_iY_i) \\ \\ \\ \\ \\text{ Given that $k_i$ is known constant}\n",
    "\\\\\n",
    "&= \\sum k_i^2 Var(Y_i)\n",
    "\\\\\n",
    "&= \\sum k_i \\sigma^2\n",
    "\\\\\n",
    "&= \\sigma^2 \\sum k_i^2\n",
    "\\\\\n",
    "&= \\sigma^2 \\frac{1}{\\sum (X_i-\\bar{X})^2}\n",
    "\\end{align}\n",
    "$$\n"
   ]
  },
  {
   "cell_type": "markdown",
   "id": "a2a08b84-c1b2-49c8-b8a8-61a8ea920598",
   "metadata": {
    "editable": true,
    "slideshow": {
     "slide_type": "slide"
    },
    "tags": [
     "lecture_note"
    ]
   },
   "source": [
    "## Sampling distribution of regression parameters\n",
    "\n",
    "Next, we show the variance of $b_0$\n",
    "\n",
    "$$\n",
    "\\begin{align}\n",
    "Var(b_0) &= Var[\\sum (\\frac{1}{n}-k_i \\bar{X})Y_i]\n",
    "\\\\\n",
    "&= \\sum Var[\\sum (\\frac{1}{n}-k_i \\bar{X})Y_i]\n",
    "\\\\\n",
    "&= \\sum (\\frac{1}{n}-k_i\\bar{X})^2 Var(Y_i)\n",
    "\\\\\n",
    "&= \\sum (\\frac{1}{n}-k_i \\bar{X})^2 \\sigma^2\n",
    "\\\\\n",
    "&= \\sum (\\frac{1}{n^2}-\\frac{2k_i\\bar{X}}{n}+k_i^2\\bar{X}^2) \\sigma^2\n",
    "\\\\\n",
    "&= \\sigma^2(\\sum \\frac{1}{n^2}-\\sum \\frac{2k_i\\bar{X}}{n} + \\sum k_i^2\\bar{X}^2)\n",
    "\\\\\n",
    "&= \\sigma^2 (\\frac{1}{n} - \\frac{2\\bar{X}}{n}\\sum k_i+\\bar{X}^2\\sum k_i^2) \\ \\ \\ \\text{Given $\\sum k_i^2 = \\frac{1}{\\sum (X_i-\\bar{X})^2}$ and $\\sum k_i = 0$}\n",
    "\\\\\n",
    "&= \\sigma^2 (\\frac{1}{n}+\\frac{\\bar{X}^2}{\\sum (X_i -\\bar{X})^2})\n",
    "\\end{align}\n",
    "$$"
   ]
  },
  {
   "cell_type": "markdown",
   "id": "7f097de4-6a83-4be1-8bc5-6fab25d8e82f",
   "metadata": {
    "editable": true,
    "slideshow": {
     "slide_type": "slide"
    },
    "tags": [
     "lecture_note"
    ]
   },
   "source": [
    "## Sampling distribution of regression parameters\n",
    "\n",
    "Put together, we have shown that \n",
    "\n",
    "1. The expected value of $b_0$ is $\\beta_0$\n",
    "2. The expected value of $b_1$ is $\\beta_1$\n",
    "3. The variance of $b_1$ is $\\sigma^2 \\frac{1}{\\sum (X_i-\\bar{X})^2}$\n",
    "4. The variance of $b_0$ is $\\sigma^2 (\\frac{1}{n}+\\frac{\\bar{X}^2}{\\sum (X_i -\\bar{X})^2})$\n",
    "5. The unbiased estimator of $\\sigma^2$ is $MSE = \\frac{1}{n-2}\\sum e_i^2 = \\frac{1}{n-2}\\sum (Y_i - b_0 - b_1 X_i)^2$"
   ]
  },
  {
   "cell_type": "markdown",
   "id": "6f06c09b-8ffe-4d43-8fc5-6ad5909835ac",
   "metadata": {
    "editable": true,
    "slideshow": {
     "slide_type": "slide"
    },
    "tags": [
     "lecture_note"
    ]
   },
   "source": [
    "# Normal Error Model\n",
    "\n",
    "In order to make statistical inference on $\\beta_0$ and $\\beta_1$, we need to make an additional assumption: **Normal Error Model**.\n",
    "\n",
    "We assume that the error term $\\epsilon_i$ follows a $i.i.d$ **normal distribution** with mean of 0, and variance of $\\sigma^2$.\n",
    "\n",
    "$$\n",
    "\\begin{align}\n",
    "Y_i &= \\beta_0 + \\beta_1 X_i + \\epsilon_i\n",
    "\\\\\n",
    "\\epsilon_i &\\overset{i.i.d}{\\sim} N(0, \\sigma^2)\n",
    "\\\\\n",
    "\\text{Thus we have   }Y_i &\\overset{i.i.d}{\\sim} N(\\beta_0 + \\beta_1X_i, \\sigma^2)\n",
    "\\end{align}\n",
    "$$"
   ]
  },
  {
   "cell_type": "markdown",
   "id": "1baaa64d-19ed-4a7b-b59d-54a2e4b0c4fe",
   "metadata": {
    "editable": true,
    "slideshow": {
     "slide_type": "slide"
    },
    "tags": [
     "lecture_note"
    ]
   },
   "source": [
    "## Normal Error Model\n",
    "\n",
    "![regression2](./img/regression_model_2.jpeg)"
   ]
  },
  {
   "cell_type": "markdown",
   "id": "de7a253e-419e-409e-a690-da7dab43f4e4",
   "metadata": {
    "editable": true,
    "slideshow": {
     "slide_type": "slide"
    },
    "tags": [
     "lecture_note"
    ]
   },
   "source": [
    "## Normal sampling distribution of $b_0$ and $b_1$\n",
    "\n",
    "When we assume $\\epsilon_i \\sim N(0, \\sigma^2)$, we will have $Y_i$ follow $i.i.d$ normal distribution $Y_i \\sim N(\\beta_0+\\beta_1 X_i, \\sigma^2)$.  \n",
    "\n",
    "We also know that $b_1$ and $b_0$ is a linear combination of $Y_i$ \n",
    "\n",
    "$$b_1 = \\hat{\\beta_1} = \\sum k_i Y_i$$\n",
    "$$b_0 = \\hat{\\beta_1} = \\sum (\\frac{1}{n}-k_i\\bar{X})Y_i$$\n",
    "\n",
    "Thus, we also know that $b_1$ and $b_0$ also follow **normal distribution**. And we will have \n",
    "\n",
    "$$\n",
    "b_1 \\sim N(\\frac{\\sum (X_i-\\bar{X})(Y_i-\\bar{Y})}{\\sum (X_i-\\bar{X})^2}, \\sigma^2 \\frac{1}{\\sum (X_i -\\bar{X})^2})\n",
    "$$\n",
    "$$\n",
    "b_0 \\sim N(\\bar{Y} - b_1 \\bar{X}, \\sigma^2(\\frac{1}{n} + \\frac{\\bar{X}^2}{\\sum (X_i-\\bar{X})^2}))\n",
    "$$"
   ]
  },
  {
   "cell_type": "markdown",
   "id": "50c3d1dd-a33d-4563-afe6-50150e5d2dfa",
   "metadata": {
    "editable": true,
    "slideshow": {
     "slide_type": "slide"
    },
    "tags": [
     "lecture_note"
    ]
   },
   "source": [
    "## Z test on $b_0$ and $b_1$\n",
    "\n",
    "If the error variance $\\sigma^2$ is known, we can apply a $Z$ test on $b_0$ and $b_1$, by constructing the standard error $s.e.$ and their $Z$ statistics. \n",
    "\n",
    "\n",
    "|  | $b_0$ | $b_1$ |\n",
    "| --- | --- | --- |\n",
    "| $H_0$ | $\\beta_0 = 0$ | $\\beta_1 = 0$ | \n",
    "| $H_1$ | $\\beta_0 \\neq 0$  |  $\\beta_1 \\neq 0$  |\n",
    "| $s.e.$ | $\\sqrt{\\sigma^2(\\frac{1}{n} + \\frac{\\bar{X}^2}{\\sum (X_i-\\bar{X})^2})}$  |  $\\sqrt{\\sigma^2 \\frac{1}{\\sum (X_i -\\bar{X})^2}}$  |\n",
    "| $Z$ Statistic | $Z_{\\beta_0}= \\frac{\\bar{Y} - b_1 \\bar{X}}{\\sqrt{\\sigma^2(\\frac{1}{n} + \\frac{\\bar{X}^2}{\\sum (X_i-\\bar{X})^2})}}$  |  $Z_{\\beta_1}= \\frac{\\frac{\\sum (X_i-\\bar{X})(Y_i-\\bar{Y})}{\\sum (X_i-\\bar{X})^2}}{\\sqrt{\\sigma^2 \\frac{1}{\\sum (X_i -\\bar{X})^2}}}$  |\n",
    "\n",
    "Where $Z_{\\beta_0} \\sim Z$ and $Z_{\\beta_1} \\sim Z$ follow $Z$ distributions. \n",
    "\n",
    "Therefore, we can apply null hypothesis testing on $\\beta_0$ and $\\beta_1$ using the $Z$ distribution, and calculate their $p$ values.\n"
   ]
  },
  {
   "cell_type": "markdown",
   "id": "7cd81cbc-6f88-49be-88b7-164fc469d75c",
   "metadata": {
    "editable": true,
    "slideshow": {
     "slide_type": "slide"
    },
    "tags": [
     "lecture_note"
    ]
   },
   "source": [
    "## T test on $b_0$ and $b_1$\n",
    "\n",
    "When the error variance $\\sigma^2$ is unknown, which is most of the cases, we can estimate $\\sigma^2$ by $MSE$ as $\\hat{\\sigma^2} = MSE = \\frac{1}{n-2} \\sum (Y_i-b_0 - b_1 X_i)^2$, and construct the $t$ statistics for $b_0$ and $b_1$. \n",
    "\n",
    "|  | $b_0$ | $b_1$ |\n",
    "| --- | --- | --- |\n",
    "| $H_0$ | $\\beta_0 = 0$ | $\\beta_1 = 0$ | \n",
    "| $H_1$ | $\\beta_0 \\neq 0$  |  $\\beta_1 \\neq 0$  |\n",
    "| $s.e.$ | $\\sqrt{MSE(\\frac{1}{n} + \\frac{\\bar{X}^2}{\\sum (X_i-\\bar{X})^2})}$  |  $\\sqrt{MSE \\frac{1}{\\sum (X_i -\\bar{X})^2}}$  |\n",
    "| $T$ Statistic | $T_{\\beta_0}= \\frac{\\bar{Y} - b_1 \\bar{X}}{\\sqrt{MSE(\\frac{1}{n} + \\frac{\\bar{X}^2}{\\sum (X_i-\\bar{X})^2})}}$  |  $T_{\\beta_1}= \\frac{\\frac{\\sum (X_i-\\bar{X})(Y_i-\\bar{Y})}{\\sum (X_i-\\bar{X})^2}}{\\sqrt{MSE \\frac{1}{\\sum (X_i -\\bar{X})^2}}}$  |\n",
    "| $T$ degree of freedom | $n-2$  |  $n-2$  |\n",
    "\n",
    "Where $T_{\\beta_0} \\sim t_{n-2}$ and $T_{\\beta_1} \\sim t_{n-2}$ follow $t$ distributions with degree of freedom $n-2$. \n",
    "\n",
    "This is because we estimated 2 parameters $\\beta_0$ and $\\beta_1$, thus 2 degree of freedom were lost."
   ]
  },
  {
   "cell_type": "markdown",
   "id": "62d3ef73-1477-497a-816f-0c50e19edc8a",
   "metadata": {
    "editable": true,
    "slideshow": {
     "slide_type": "slide"
    },
    "tags": [
     "lecture_note"
    ]
   },
   "source": [
    "## Confidence Interval for $\\beta_0$ and $\\beta_1$\n",
    "\n",
    "We have shown that the standard error for $\\hat{\\beta_0}$ and $\\hat{\\beta_1}$ are\n",
    "\n",
    "$$\n",
    "s.e.(b_0) = \\sqrt{MSE(\\frac{1}{n} + \\frac{\\bar{X}^2}{\\sum (X_i-\\bar{X})^2})}\n",
    "$$\n",
    "$$\n",
    "s.e.(b_1) = \\sqrt{MSE \\frac{1}{\\sum (X_i -\\bar{X})^2}}\n",
    "$$\n",
    "\n",
    "We can thus construct the $95%$ confidence interval for $\\beta_0$ and $\\beta_1$\n",
    "\n",
    "$$\n",
    "95\\% \\ C.I.(\\beta_0) = [b_0 - t_{n-2, 0.975}\\ s.e.(b_0), b_0 + t_{n-2, 0.975}\\ s.e.(b_0)]\n",
    "$$\n",
    "$$\n",
    "95\\% \\ C.I.(\\beta_1) = [b_1 - t_{n-2, 0.975}\\ s.e.(b_1), b_1 + t_{n-2, 0.975}\\ s.e.(b_1)]\n",
    "$$\n",
    "\n",
    "Thus, we can use the $T$ statistic and its sampling distribution $t_{n-2}$ or use the 95% confidence interval to test the hypothesis for both $\\beta_0$ and $\\beta_1$."
   ]
  },
  {
   "cell_type": "markdown",
   "id": "7f89bb50-456d-4be7-80a1-ba9d727d1f8e",
   "metadata": {
    "editable": true,
    "slideshow": {
     "slide_type": "slide"
    },
    "tags": [
     "lecture_note"
    ]
   },
   "source": [
    "## Analysis of Variance (ANOVA)\n",
    "\n",
    "Besides the $t$ test, an alternative method named **Analysis of Variance** (ANOVA) exists to test the relationship between the independent and dependent variables with the regression model.\n",
    "\n",
    "### Idea\n",
    "Attributing variation in the data into different sources through decomposition of the total variation. \n",
    "\n",
    "In regression, the variation in dependent variable $Y$ comes from two sources. \n",
    "\n",
    "1. Variation in error term $\\epsilon$ (random fluctuation)\n",
    "2. Variation in dependent variable $X$"
   ]
  },
  {
   "cell_type": "markdown",
   "id": "fcc8a342-0f78-4c7a-9c68-f9d69b9298da",
   "metadata": {
    "editable": true,
    "slideshow": {
     "slide_type": "slide"
    },
    "tags": [
     "lecture_note"
    ]
   },
   "source": [
    "## Partition of Total deviation\n",
    "\n",
    "We define **Total deviation** as the differences between $Y_i$ and its sample mean $\\bar{Y}$: $Y_i-\\bar{Y}$\n",
    "\n",
    "The total deviation can be decompiosed into two terms:\n",
    "\n",
    "$$\n",
    "Y_i - \\bar{Y} = (Y_i-\\hat{Y_i}) - (\\hat{Y_i} - \\bar{Y})\n",
    "$$\n",
    "\n",
    "where $Y_i - \\hat{Y_i}$ is the residual term $e_i$, and the other term $\\hat{Y_i} - \\bar{Y}$ is the deviation of the fitted value to its sample mean. "
   ]
  },
  {
   "cell_type": "markdown",
   "id": "829fad03-aa9f-4378-83ef-969265346f29",
   "metadata": {
    "editable": true,
    "slideshow": {
     "slide_type": "slide"
    },
    "tags": [
     "lecture_note"
    ]
   },
   "source": [
    "## Partition of Total Variation\n",
    "\n",
    "We can also decompose the sum of squares of the total deviation, or **Sum of Squared Total Variation** ($SSTO = \\sum (Y_i-\\bar{Y})^2$) into two terms **Sum of Squared Error** ($SSE = \\sum (Y_i-\\hat{Y_i})^2$) and **Sum of Squared Regression** ($SSR = \\sum (\\hat{Y_i} - \\bar{Y})^2$).\n",
    "\n",
    "$$\n",
    "\\begin{align}\n",
    "SSTO &= \\sum (Y_i - \\bar{Y})^2\n",
    "\\\\\n",
    "SSE &= \\sum (Y_i - \\hat{Y_i})^2\n",
    "\\\\\n",
    "SSR &= \\sum (\\hat{Y_i}-\\bar{Y})^2\n",
    "\\\\\n",
    "SSTO &= SSE + SSR\n",
    "\\end{align}\n",
    "$$"
   ]
  },
  {
   "cell_type": "markdown",
   "id": "ed037e53-9992-4555-bd41-694e2f90a26b",
   "metadata": {
    "editable": true,
    "slideshow": {
     "slide_type": "slide"
    },
    "tags": [
     "lecture_note"
    ]
   },
   "source": [
    "## Partition of Total Variation Proof\n",
    "\n",
    "\n",
    "$$\n",
    "\\begin{align}\n",
    "SSTO &= \\sum (Y_i-\\bar{Y})^2\n",
    "\\\\\n",
    "&= \\sum [(Y_i-\\hat{Y_i})-(\\hat{Y_i}-\\bar{Y})]^2\n",
    "\\\\\n",
    "&= \\sum [(Y_i-\\hat{Y_i})^2 - 2(Y_i-\\hat{Y_i})(\\hat{Y_i}-\\bar{Y})+(\\hat{Y_i}-\\bar{Y})^2]\n",
    "\\\\\n",
    "&= \\sum (Y_i-\\hat{Y_i})^2 + \\sum (\\hat{Y_i}-\\bar{Y})^2 - 2\\sum (Y_i-\\hat{Y_i})(\\hat{Y_i}-\\bar{Y})\n",
    "\\end{align}\n",
    "$$\n",
    "\n",
    "Given that \n",
    "\n",
    "$$\n",
    "\\begin{align}\n",
    "\\sum(Y_i-\\hat{Y_i})(\\hat{Y_i}-\\bar{Y}) &= \\sum \\hat{Y_i}(Y_i-\\hat{Y_i})-\\sum\\bar{Y}(Y_i-\\hat{Y_i})\n",
    "\\\\\n",
    "&= \\sum \\hat{Y_i}(Y_i-Y_i)-\\bar{Y}\\sum (Y_i-\\hat{Y_i}) \\ \\ \\ \\ \\text{Given $Y_i-\\hat{Y_i} = e_i$}\n",
    "\\\\\n",
    "&= \\sum \\hat{Y_i}e_i-\\bar{Y}\\sum e_i \\ \\ \\ \\  \\text{Given $\\sum e_i=0$ and $\\sum \\hat{Y_i}e_i=0$}\n",
    "\\\\\n",
    "&= 0 \n",
    "\\end{align}\n",
    "$$\n",
    "\n",
    "Thus, we have \n",
    "\n",
    "$$\n",
    "SSTO = \\sum (Y_i-\\hat{Y_i})^2 + \\sum (\\hat{Y_i}-\\bar{Y_i})^2 = SSE + SSR\n",
    "$$"
   ]
  },
  {
   "cell_type": "markdown",
   "id": "1c3ebfc8-6764-4bf6-9892-6d7d9d854758",
   "metadata": {
    "editable": true,
    "slideshow": {
     "slide_type": "slide"
    },
    "tags": [
     "lecture_note"
    ]
   },
   "source": [
    "## Degree of Freedom of Sum of Squares\n",
    "\n",
    "We can find the degree of freedom for $SSE$, $SSR$, and $SSTO$.\n",
    "\n",
    "For $SSTO = \\sum (Y_i - \\bar{Y})^2$, the vector of random samples $Y_i$ is the size of $n$, and it is constraint by the estimated parameter $\\bar{Y}$, thus the degree of freedom of $SSTO$ is $n-1$.\n",
    "\n",
    "For $SSE = \\sum (Y_i - \\hat{Y_i})^2 = \\sum e_i^2$, the vector of random samples $e_i$ is size of $n$, and it is constraint by the two estimated parameters $\\hat{\\beta_0}$ and $\\hat{\\beta_1}$, thus it loses 2 degrees of freedom. Thus the degree of freedom of $SSE$ is $n-2$. \n",
    "\n",
    "For $SSR = \\sum (\\hat{Y_i}-\\bar{Y})^2$, it only have 1 degree of freedom, because it only varies due to the variation in estimated regression slopes $\\hat{\\beta_1}$\n",
    "\n",
    "And we have $d.f.(SSTO) = d.f.(SSE) + d.f.(SSR)$\n",
    "\n",
    "| | $SSTO$ | $SSE$ | $SSE$ |\n",
    "| --- | --- | --- | --- |\n",
    "| $d.f.$ | $n-1$ | $n-2$ |  $1$ | "
   ]
  },
  {
   "cell_type": "markdown",
   "id": "43ceb68a-941e-4b8f-ac2f-fd2ac9004cba",
   "metadata": {
    "editable": true,
    "slideshow": {
     "slide_type": "slide"
    },
    "tags": [
     "lecture_note"
    ]
   },
   "source": [
    "## Sum of Squared Regression\n",
    "We can show the $SSR$ can be expressed by the estimated regression slopes $\\hat{\\beta_1}$\n",
    "\n",
    "$$\n",
    "\\begin{align}\n",
    "SSR &= \\sum (\\hat{Y_i}-\\bar{Y})^2\n",
    "\\\\\n",
    "&= \\sum (\\hat{\\beta_0}+\\hat{\\beta_1}X_i-\\bar{Y})^2\n",
    "\\\\\n",
    "&= \\sum (\\bar{Y}-\\hat{\\beta_1}\\bar{X}+\\hat{\\beta_1}X_i-\\bar{Y})^2\n",
    "\\\\\n",
    "&= \\sum [\\hat{\\beta_1}(X_i-\\bar{X})]^2\n",
    "\\\\\n",
    "&= \\hat{\\beta_1}^2\\sum(X_i-\\bar{X})^2 \\ \\ \\ \\ \\ \\text{the vector $X_i$ has no degree of freedom as known values}\n",
    "\\end{align}\n",
    "$$\n",
    "\n",
    "Thus the larger regression slope $\\hat{\\beta_1}$ is the larger $SSR$ is. And the larger dispersion of $X_i$  have ($\\sum (X_i-\\bar{X})^2$), the larger $SSR$ is. "
   ]
  },
  {
   "cell_type": "markdown",
   "id": "1d89b197-da12-4b7f-93aa-5e022a61b0d3",
   "metadata": {
    "editable": true,
    "slideshow": {
     "slide_type": "slide"
    },
    "tags": [
     "lecture_note"
    ]
   },
   "source": [
    "## Mean of Squares\n",
    "\n",
    "We then define the **Mean Squres of Total Variation** ($MSTO$), **Mean Squares of Errors** ($MSE$) and the **Mean Squares of Regression** ($MSR$) by dividing the sum of squares by its degree of freedom. \n",
    "\n",
    "$$\n",
    "\\begin{align}\n",
    "MSTO &= \\frac{SSTO}{d.f.(SSTO)} = \\frac{SSTO}{n-1}\n",
    "\\\\\n",
    "MSE &= \\frac{SSE}{d.f.(SSE)} = \\frac{SSE}{n-2}\n",
    "\\\\\n",
    "MSR &= \\frac{SSR}{d.f.(SSR)} = \\frac{SSR}{1}\n",
    "\\end{align}\n",
    "$$"
   ]
  },
  {
   "cell_type": "markdown",
   "id": "a7348172-0778-4206-b689-8a989d81efdb",
   "metadata": {
    "editable": true,
    "slideshow": {
     "slide_type": "slide"
    },
    "tags": [
     "lecture_note"
    ]
   },
   "source": [
    "## Expected value of Mean of Squares\n",
    "\n",
    "We have computed the expected value of $SSE$ and $SSR$ previously.\n",
    "\n",
    "$$\n",
    "\\begin{align}\n",
    "E[MSE] &= E[\\frac{SSE}{n-2}] = \\sigma^2\n",
    "\\\\\n",
    "E[SSR] &= E[(n-2)MSE] = (n-2)E[MSE] = (n-2)\\sigma^2\n",
    "\\\\\n",
    "E[MSR] &= E[\\frac{SSR}{1}] = E[SSR] = \\beta_1^2\\sum(X_i-\\bar{X})^2 + \\sigma^2\n",
    "\\\\\n",
    "\\end{align}\n",
    "$$\n",
    "\n",
    "Thus, we know that $MSR$ is always larger or equal to $MSE$\n",
    "\n",
    "$$\n",
    "E[MSR] \\ge E[MSE]\n",
    "$$\n",
    "\n",
    "And $MSR$ equals to $MSE$ when $\\beta_1 = 0$\n",
    "\n",
    "$$\n",
    "E[MSR] = \\beta_1^2\\sum(X_i-\\bar{X})^2 + \\sigma^2 = \\beta_1^2\\sum(X_i-\\bar{X})^2 + E[MSE]\n",
    "$$"
   ]
  },
  {
   "cell_type": "markdown",
   "id": "66373327-d845-4e5b-9d50-fdbcd366f300",
   "metadata": {
    "editable": true,
    "slideshow": {
     "slide_type": "slide"
    },
    "tags": [
     "lecture_note"
    ]
   },
   "source": [
    "## Expected value of $MSR$ proof\n",
    "\n",
    "Here we prove the expected of $MSR$.\n",
    "$$\n",
    "\\begin{align}\n",
    "E[MSE] &= E[SSR]\n",
    "\\\\\n",
    "&= E[\\hat{\\beta_1}^2 \\sum (X_i-\\bar{X})^2]\n",
    "\\\\\n",
    "&= E[\\hat{\\beta_1}^2]\\sum(X_i-\\bar{X})^2\n",
    "\\end{align}\n",
    "$$\n",
    "\n",
    "Given that \n",
    "\n",
    "$$\n",
    "\\begin{align}\n",
    "E[\\hat{\\beta_1}^2] &= E[\\hat{\\beta_1}]^2 + Var(\\hat{\\beta_1}^2)\n",
    "\\\\\n",
    "&= \\beta_1^2 + \\frac{\\sigma^2}{\\sum (X_i-\\bar{X})^2}\n",
    "\\end{align}\n",
    "$$\n",
    "\n",
    "Thus, we will have\n",
    "\n",
    "$$\n",
    "\\begin{align}\n",
    "E[MSR] &= (\\beta_1^2 + \\frac{\\sigma^2}{\\sum (X_i-\\bar{X})^2})\\sum(X_i-\\bar{X})^2\n",
    "\\\\\n",
    "&= \\beta_1^2\\sum(X_i-\\bar{X})^2 + \\sigma^2\n",
    "\\end{align}\n",
    "$$"
   ]
  },
  {
   "cell_type": "markdown",
   "id": "50aaf022-e71b-494d-9eeb-187b14556964",
   "metadata": {
    "editable": true,
    "slideshow": {
     "slide_type": "slide"
    },
    "tags": [
     "lecture_note"
    ]
   },
   "source": [
    "## ANOVA inference testing with $F$ test\n",
    "\n",
    "Under the normal error model ($\\epsilon_i \\overset{i.i.d}{\\sim} N(0, \\sigma^2)$), we will have \n",
    "\n",
    "$$\n",
    "\\frac{SSE}{\\sigma^2} \\sim \\chi_{n-2}^2\n",
    "$$\n",
    "\n",
    "Recall that $F$ distribution is defined as\n",
    "\n",
    "$$\n",
    "\\frac{U_1/d_1}{U_2/d_2} \\sim F_{n,m}\n",
    "$$\n",
    "$$\n",
    "U_1 \\sim \\chi_n^2 \\ \\ \\ \\ \\ \\ \\ \\ U_2 \\sim \\chi_m^2\n",
    "$$"
   ]
  },
  {
   "cell_type": "markdown",
   "id": "4f1c3f1c-dd5e-4f09-8ad3-f44e4510c45d",
   "metadata": {
    "editable": true,
    "slideshow": {
     "slide_type": "slide"
    },
    "tags": [
     "lecture_note"
    ]
   },
   "source": [
    "## ANOVA inference testing with F test\n",
    "\n",
    "Thus, we can conduct the $F$ null hypothesis testing:\n",
    "\n",
    "$$\n",
    "H_0: \\beta_1 = 0\n",
    "$$\n",
    "$$\n",
    "H_1: \\beta_1 \\ne 0\n",
    "$$\n",
    "\n",
    "Under $H_0: \\beta_1 = 0$, we have $E[SSR] = E[\\frac{SSR}{1}] = E[SSR] = \\beta_1^2\\sum(X_i-\\bar{X})^2 + \\sigma^2 = \\sigma^2$\n"
   ]
  },
  {
   "cell_type": "markdown",
   "id": "28dddb81-2b72-4d13-9018-2131bbf4d193",
   "metadata": {
    "editable": true,
    "slideshow": {
     "slide_type": "slide"
    },
    "tags": [
     "lecture_note"
    ]
   },
   "source": [
    "## ANOVA inference testing with F test\n",
    "\n",
    "Then we will have \n",
    "\n",
    "$$\n",
    "\\frac{SSR}{\\sigma^2} \\sim \\chi_1^2\n",
    "$$\n",
    "\n",
    "Combining with \n",
    "$$\n",
    "\\frac{SSE}{\\sigma^2} \\sim \\chi_{n-2}^2\n",
    "$$\n",
    "\n",
    "We can construct the $F$ statistic\n",
    "\n",
    "$$\n",
    "\\begin{align}\n",
    "F &= \\frac{\\frac{SSR}{\\sigma^2}/1}{\\frac{SSE}{\\sigma^2}/(n-2)}\n",
    "\\\\\n",
    "&= \\frac{SSR/1}{SSE/n-2}\n",
    "\\\\\n",
    "&= \\frac{MSR}{MSE} \\sim F_{1, n-2}\n",
    "\\end{align}\n",
    "$$\n",
    "\n",
    "Then, we use the $F$ statistic and its sampling distribution $F_{1, n-2}$ with degree of freedom of $1$ and $n-2$ to test the hypothesis."
   ]
  },
  {
   "cell_type": "markdown",
   "id": "c5403b22-5272-40fe-911e-6941c9ac24b6",
   "metadata": {
    "editable": true,
    "slideshow": {
     "slide_type": "slide"
    },
    "tags": [
     "lecture_note"
    ]
   },
   "source": [
    "## Equivalence of F test and two-tailed t test\n",
    "\n",
    "Note that in simple regression (when we only have one independent variable), $F$ test is equivalent to two-tailed $t$ test on $\\beta_1$.\n",
    "\n",
    "This is because the $F$ statistic equals to the squared $t$ statistic, and the sampling distribution of $F_{1, n-2}$ is equivalent of squared $t_{n-2}$ distribution.\n",
    "\n",
    "$$\n",
    "F = (T)^2\n",
    "$$\n",
    "$$\n",
    "F_{1, n-2} = t^2_{n-2}\n",
    "$$"
   ]
  },
  {
   "cell_type": "markdown",
   "id": "8bb4fd4e-e362-46f1-9820-48f9525a74a1",
   "metadata": {
    "editable": true,
    "slideshow": {
     "slide_type": "slide"
    },
    "tags": [
     "lecture_note"
    ]
   },
   "source": [
    "## ANOVA table\n",
    "\n",
    "Taken together, to perform the F test, we can construct the ANOVA table:\n",
    "\n",
    "| Source of Variation  | $SS$ | $d.f.$ | $MS$ | $F$ |\n",
    "| --- | --- | --- | --- | --- |\n",
    "| Regression | $SSR = \\sum (\\hat{Y_i}-\\bar{Y})^2$ | $1$ | $MSR=\\frac{SSR}{1}$ | $F=\\frac{MSR}{MSE}$ | \n",
    "| Error | $SSE = \\sum(Y_i-\\hat{Y_i})^2$ |  $n-2$  | $MSE=\\frac{SSE}{n-2}$ | | \n",
    "| Total | $SSTO = \\sum(Y_i - \\bar{Y})^2$  |  $n-1$  | | | \n",
    "\n",
    "And have \n",
    "\n",
    "$$\n",
    "F=\\frac{MSR}{MSE} \\sim F_{1, n-2}\n",
    "$$"
   ]
  },
  {
   "cell_type": "markdown",
   "id": "e7c5743f-aa6a-4229-b98f-933fe62e717d",
   "metadata": {
    "editable": true,
    "slideshow": {
     "slide_type": "slide"
    },
    "tags": [
     "lecture_note"
    ]
   },
   "source": [
    "## Coefficient of Determination\n",
    "\n",
    "Based on decomposition of Sum of Squares Variation, we can define **Coefficient of Determination** $R^2$ as\n",
    "\n",
    "$$\n",
    "R^2 = \\frac{SSR}{SSTO} = 1-\\frac{SSR}{SSTO}\n",
    "$$\n",
    "\n",
    "The coefficient of determination $R^2$ indicates the percentage of total variation explained by the regression model.\n",
    "\n",
    "$$\n",
    "0 \\le R^2 \\le 1\n",
    "$$\n",
    "\n",
    "Such that \n",
    "1. If all observations fall into one straight line, then $R^2 =1$.\n",
    "2. If the fitted regression line is horizontal, then $R^2 = 0$\n",
    "\n",
    "The coefficient of determination $R^2$ serves as an indicator for how good the linear relationship is, or how good our regression model is to explain the variation in dependent variable $Y$. If there is a non-linear relationship between $X$ and $Y$, then $R^2$ is not meaningful. "
   ]
  },
  {
   "cell_type": "markdown",
   "id": "667b3764-934d-43d1-950c-1a1792a1413d",
   "metadata": {
    "editable": true,
    "slideshow": {
     "slide_type": "slide"
    },
    "tags": [
     "lecture_note"
    ]
   },
   "source": [
    "## Regression Model Variance\n",
    "\n",
    "One way to interpret the variance of regression slope and intercept is to consider our regression model/line varies due to the variation of random samples. \n",
    "\n",
    "Consider the relationship between weight and height. If you conduct a study twice with different samples, will you have the same regression estimate $b_0$ and $b_1$? \n",
    "\n",
    "As shown previously, when we fit a regression model under the normal error assumption, we can not only estimate the regression line ($b_0$, and $b_1$), but also the variation of this regression line by estimating the model variation in regression slopes and intercept. \n",
    "\n",
    "How do we capture this model variation? \n"
   ]
  },
  {
   "cell_type": "markdown",
   "id": "93fcc50b-b8b3-49ad-862b-b38bfa16eb42",
   "metadata": {
    "editable": true,
    "slideshow": {
     "slide_type": "slide"
    },
    "tags": [
     "lecture_note"
    ]
   },
   "source": [
    "![reg_var](./img/animation.gif)"
   ]
  },
  {
   "cell_type": "markdown",
   "id": "9ddf2b55-4d00-4787-94ce-e010fb12c5c9",
   "metadata": {
    "editable": true,
    "slideshow": {
     "slide_type": "slide"
    },
    "tags": [
     "lecture_note"
    ]
   },
   "source": [
    "## Regression Mean Response\n",
    "\n",
    "We can define the **Mean Response** as the value of the dependent variable $Y_h$ on the regression line for the dependent variable $X_h$.\n",
    "\n",
    "![mean_resp](./img/reg_mean_response.png)"
   ]
  },
  {
   "cell_type": "markdown",
   "id": "2e971044-e85b-42cb-970a-9ea7ae188cae",
   "metadata": {
    "editable": true,
    "slideshow": {
     "slide_type": "slide"
    },
    "tags": [
     "lecture_note"
    ]
   },
   "source": [
    "## Variation in Mean Response\n",
    "\n",
    "Given that $Yh = \\beta_0 + \\beta_1 Xh$, and due to the variation in estimate of $\\hat{\\beta_0}$ and $\\hat{\\beta_1}$, we can expect $Yh$ varies due to the variability in the regression estimates. \n",
    "\n",
    "We can estimate the mean response $Yh$\n",
    "\n",
    "$$\n",
    "\\hat{Yh} = \\hat{\\beta_0} + \\hat{\\beta_1}Xh = \\bar{Y} + \\hat{\\beta_1}(Xh-\\bar{X})\n",
    "$$\n",
    "\n",
    "Under normal error model\n",
    "\n",
    "$$\n",
    "\\begin{align}\n",
    "E[\\hat{Yh}] &= E[\\hat{\\beta_0}] + E[\\hat{\\beta_1}Xh] = \\beta_0 + \\beta_1 Xh\n",
    "\\\\\n",
    "Var(\\hat{Yh}) &= Var(\\hat{\\beta_0}+\\hat{\\beta_1}Xh)\n",
    "\\\\\n",
    "&= \\sigma^2[\\frac{1}{n}+\\frac{(Xh-\\bar{X})^2}{\\sum (X_i-\\bar{X})^2}]\n",
    "\\end{align}\n",
    "$$"
   ]
  },
  {
   "cell_type": "markdown",
   "id": "15ba0c17-48d9-4950-957f-92291de6f89a",
   "metadata": {
    "editable": true,
    "slideshow": {
     "slide_type": "slide"
    },
    "tags": [
     "lecture_note"
    ]
   },
   "source": [
    "## Variation in Mean Response\n",
    "\n",
    "Thus, we have\n",
    "\n",
    "$$\n",
    "\\hat{Yh} \\sim N(\\beta_0+ \\beta_1Xh, \\sigma^2[\\frac{1}{n}+\\frac{(Xh-\\bar{X})^2}{\\sum (X_i-\\bar{X})^2}])\n",
    "$$\n",
    "\n",
    "By estimating $\\sigma^2$ by $MSE$, we can have the standard error of $Yh$:\n",
    "\n",
    "$$\n",
    "s.e.(\\hat{Yh}) = \\sqrt{MSE[\\frac{1}{n}+\\frac{(Xh-\\bar{X})^2}{\\sum (X_i-\\bar{X})^2}]}\n",
    "$$\n",
    "\n",
    "From these results, we can find that the variation in regression mean response $Yh$ is larger when \n",
    "\n",
    "1. $Xh$ is further away from $\\bar{X}$.\n",
    "2. Dispersion of $X$ is small.\n",
    "3. Model error $\\sigma^2$ is large."
   ]
  },
  {
   "cell_type": "markdown",
   "id": "f4bc9c25-6100-4957-961a-ecfd8bdd2751",
   "metadata": {
    "editable": true,
    "slideshow": {
     "slide_type": "slide"
    },
    "tags": [
     "lecture_note"
    ]
   },
   "source": [
    "## Confidence Interval of mean response\n",
    "\n",
    "Using the standard error of mean response $s.e.(Yh)$, we can construct the $t$ statistic and the 95% confidence interval of $\\hat{Yh}$ using its sampling $t$ distribution \n",
    "\n",
    "$$\n",
    "\\begin{align}\n",
    "\\hat{Yh} &\\sim N(\\beta_0+ \\beta_1Xh, \\sigma^2[\\frac{1}{n}+\\frac{(Xh-\\bar{X})^2}{\\sum (X_i-\\bar{X})^2}])\n",
    "\\\\\n",
    "\\frac{\\hat{Yh} - (\\hat{\\beta_0}+ \\hat{\\beta_1}Xh)}{\\sqrt{MSE[\\frac{1}{n}+\\frac{(Xh-\\bar{X})^2}{\\sum (X_i-\\bar{X})^2}]}} &\\sim t_{n-2}\n",
    "\\\\\n",
    "95\\%\\ C.I. (Yh) &= (\\hat{\\beta_0} + \\hat{\\beta_1}Xh) \\pm t_{n-2, 0.975}\\sqrt{MSE[\\frac{1}{n}+\\frac{(Xh-\\bar{X})^2}{\\sum (X_i-\\bar{X})^2}]}\n",
    "\\end{align}\n",
    "$$\n",
    "\n",
    "This 95% confidence interval of the mean response $Yh$ is considered the 95% confidence interval for the regression model. "
   ]
  },
  {
   "cell_type": "markdown",
   "id": "f857c833-259c-4c39-b15e-9e5250b97540",
   "metadata": {
    "editable": true,
    "slideshow": {
     "slide_type": "slide"
    },
    "tags": [
     "lecture_note"
    ]
   },
   "source": [
    "## Plot the regression model variance\n",
    "\n",
    "![reg_var](./img/reg_variance.png)"
   ]
  },
  {
   "cell_type": "markdown",
   "id": "1c7a9b7b-2560-418c-bd89-c60f98c6521f",
   "metadata": {
    "editable": true,
    "slideshow": {
     "slide_type": "slide"
    },
    "tags": [
     "lecture_note"
    ]
   },
   "source": [
    "## Predicting New Outcomes with Regression Model\n",
    "\n",
    "When we are trying to make prediction with regression model, we make the prediction based on the regression line $Yh=\\hat{\\beta_0} + \\hat{\\beta_1} Xh$. \n",
    "\n",
    "We have shown that mean response $Yh$ with variance $\\sigma^2[\\frac{1}{n}+\\frac{(Xh-\\bar{X})^2}{\\sum (X_i-\\bar{X})^2}]$. \n",
    "\n",
    "When we are trying to make predictions for new observations, which is observations that is not in our samples to estimate the model.\n",
    "\n",
    "With new observation with independent variable value $X = Xh$, we make the prediction for $Yh_{new}$ by the mean response $pred_h = \\hat{Yh}$\n",
    "\n",
    "$$\n",
    "\\begin{align}\n",
    "\\hat{Yh} &= \\hat{\\beta_0} + \\hat{\\beta_1} Xh\n",
    "\\\\\n",
    "Yh_{new} &= \\beta_0 + \\beta_1 Xh + \\epsilon_h\n",
    "\\\\\n",
    "\\epsilon_h &\\sim N(0, \\sigma_h^2)\n",
    "\\end{align}\n",
    "$$"
   ]
  },
  {
   "cell_type": "markdown",
   "id": "eb24f513-8726-42ec-89a7-5c6b79b7ead1",
   "metadata": {
    "editable": true,
    "slideshow": {
     "slide_type": "slide"
    },
    "tags": [
     "lecture_note"
    ]
   },
   "source": [
    "## Prediction Error of regression model\n",
    "We can express the variance of the prediction error as $Yh_{new}-\\hat{Yh}$. \n",
    "\n",
    "It is straightforward to show that $E[Yh_{new}-\\hat{Yh}] =0$, but what is its variance?\n",
    "\n",
    "We assume the new observation uncorrelated with existing data $\\sigma_h^2 = \\sigma^2$\n",
    "\n",
    "$$\n",
    "\\begin{align}\n",
    "Var(Yh_{new} - \\hat{Yh}) &= Var(\\hat{Yh}) + \\sigma^2_h\n",
    "\\\\\n",
    "&= \\sigma^2[\\frac{1}{n}+\\frac{(Xh-\\bar{X})^2}{\\sum (X_i-\\bar{X})^2}] + \\sigma^2\n",
    "\\\\\n",
    "&= \\sigma^2[{\\color{red} 1} + \\frac{1}{n}+\\frac{(Xh-\\bar{X})^2}{\\sum (X_i-\\bar{X})^2}]\n",
    "\\end{align}\n",
    "$$"
   ]
  },
  {
   "cell_type": "markdown",
   "id": "bb5906d4-65ca-44be-891e-4b6a35891ae7",
   "metadata": {
    "editable": true,
    "slideshow": {
     "slide_type": "slide"
    },
    "tags": [
     "lecture_note"
    ]
   },
   "source": [
    "## Prediction Interval of regression model\n",
    "\n",
    "With the mean and variance of prediction error $Yh_{new}-\\hat{Yh}$, we can construct the $t$ statistic for the prediction errors\n",
    "\n",
    "$$\n",
    "\\frac{\\hat{Yh}-Yh_{new}}{s.e.(pred_h)} \\sim t_{n-2}\n",
    "$$\n",
    "$$\n",
    "s.e.(pred_h) = \\sqrt{MSE[{\\color{red} 1} + \\frac{1}{n}+\\frac{(Xh-\\bar{X})^2}{\\sum (X_i-\\bar{X})^2}]}\n",
    "$$\n",
    "\n",
    "And construct the 95% Prediction Interval for new observation at $Xh$ as\n",
    "\n",
    "$$\n",
    "\\hat{Yh} \\pm t_{n-2, 0.975} \\sqrt{MSE[{\\color{red} 1} + \\frac{1}{n}+\\frac{(Xh-\\bar{X})^2}{\\sum (X_i-\\bar{X})^2}]}\n",
    "$$"
   ]
  },
  {
   "cell_type": "markdown",
   "id": "f01d881f-8ddb-48c4-8810-42ccc497c655",
   "metadata": {
    "editable": true,
    "slideshow": {
     "slide_type": "slide"
    },
    "tags": [
     "lecture_note"
    ]
   },
   "source": [
    "## Prediction Interval vs Confidence Interval\n",
    "\n",
    "Comparing the 95% confidence interval and the 95% prediction interval \n",
    "\n",
    "$$\n",
    "95\\%\\ C.I. (Yh) = (\\hat{\\beta_0} + \\hat{\\beta_1}Xh) \\pm t_{n-2, 0.975}\\sqrt{MSE[\\frac{1}{n}+\\frac{(Xh-\\bar{X})^2}{\\sum (X_i-\\bar{X})^2}]}\n",
    "$$\n",
    "\n",
    "$$\n",
    "95\\%\\ P.I. (Yh) = (\\hat{\\beta_0} + \\hat{\\beta_1}Xh) \\pm t_{n-2, 0.975}\\sqrt{MSE[{\\color{red} 1} + \\frac{1}{n}+\\frac{(Xh-\\bar{X})^2}{\\sum (X_i-\\bar{X})^2}]}\n",
    "$$\n",
    "\n",
    "Thus, the prediction interval is always wider than the confidence interval, since we need to make prediction for new observations, which come with new errors uncorrelated with existing data. "
   ]
  },
  {
   "cell_type": "markdown",
   "id": "24222323-8794-4d41-b93f-008c9627ce4e",
   "metadata": {
    "editable": true,
    "slideshow": {
     "slide_type": "slide"
    },
    "tags": [
     "lecture_note"
    ]
   },
   "source": [
    "![prediction_interval](./img/prediction_interval.png)"
   ]
  },
  {
   "cell_type": "markdown",
   "id": "300ef807-03b5-4bfc-8f1b-dc4916152518",
   "metadata": {
    "editable": true,
    "slideshow": {
     "slide_type": "skip"
    },
    "tags": []
   },
   "source": [
    "### Supplemental Figures code"
   ]
  },
  {
   "cell_type": "code",
   "execution_count": 203,
   "id": "7dede049-2154-4098-8a69-ffa8b9980ab0",
   "metadata": {
    "editable": true,
    "slideshow": {
     "slide_type": "skip"
    },
    "tags": []
   },
   "outputs": [
    {
     "name": "stderr",
     "output_type": "stream",
     "text": [
      "/tmp/ipykernel_3951247/3513515016.py:8: FutureWarning: Series.__getitem__ treating keys as positions is deprecated. In a future version, integer keys will always be treated as labels (consistent with DataFrame behavior). To access a value by position, use `ser.iloc[pos]`\n",
      "  intercept, slope = results.params[0], results.params[1]\n"
     ]
    },
    {
     "data": {
      "image/png": "[encoded data removed]",
      "text/plain": [
       "<Figure size 640x480 with 1 Axes>"
      ]
     },
     "metadata": {},
     "output_type": "display_data"
    }
   ],
   "source": [
    "\n",
    "import statsmodels.api as sm\n",
    "\n",
    "df = pd.read_csv(\"./data/toy_data.csv\")\n",
    "sns.regplot(data=df, x=\"X\", y=\"Y\", ci=None, line_kws={\"color\": \"black\"})\n",
    "\n",
    "model = sm.OLS(df.Y, sm.add_constant(df.X))\n",
    "results = model.fit()\n",
    "intercept, slope = results.params[0], results.params[1]\n",
    "\n",
    "xh = 1\n",
    "yh = intercept + slope*slope\n",
    "\n",
    "plt.plot(xh, yh, 'rx', markersize=10, markeredgewidth=5)\n",
    "\n",
    "plt.plot([xh, xh], [-8, yh], 'k--')\n",
    "plt.plot([-2, xh], [yh, yh], 'k--')\n",
    "\n",
    "plt.text(0.5, 1.5, \"(Xh, Yh)\", color=\"red\",fontsize=20)\n",
    "\n",
    "plt.show()"
   ]
  },
  {
   "cell_type": "code",
   "execution_count": 214,
   "id": "cbe548db-677d-402e-81db-9e58606110f9",
   "metadata": {
    "editable": true,
    "slideshow": {
     "slide_type": "skip"
    },
    "tags": []
   },
   "outputs": [
    {
     "data": {
      "image/png": "[encoded data removed]",
      "text/plain": [
       "<Figure size 640x480 with 1 Axes>"
      ]
     },
     "metadata": {},
     "output_type": "display_data"
    }
   ],
   "source": [
    "\n",
    "\n",
    "import statsmodels.api as sm\n",
    "from matplotlib.animation import FuncAnimation\n",
    "fig, ax = plt.subplots()\n",
    "\n",
    "df = pd.read_csv(\"./data/toy_data.csv\")\n",
    "\n",
    "\n",
    "def animate(i):\n",
    "    # Update plot elements based on frame number i\n",
    "    # Clear previous frame (optional, if needed)\n",
    "    ax.clear()\n",
    "    # Redraw elements with updated data\n",
    "    sns.regplot(data=df, x=\"X\", y=\"Y\", ci=None, line_kws={\"color\": \"black\"}, ax=ax)\n",
    "    sns.regplot(data=df.sample(100), x=\"X\", y=\"Y\", ci=None, color=\"red\", ax=ax)\n",
    "    # Set axis limits or other properties (optional)\n",
    "    ax.set_xlim(-3, 5)\n",
    "    ax.set_ylim(-8,7)\n",
    "    return\n",
    "\n",
    "\n",
    "ani = FuncAnimation(fig, animate, frames=30, interval=60, repeat=True)\n",
    "ani.save('./img/animation.gif', writer='imagemagick')"
   ]
  },
  {
   "cell_type": "code",
   "execution_count": 217,
   "id": "6259e86e-eff9-4795-a38c-b4b97e9ca848",
   "metadata": {
    "editable": true,
    "slideshow": {
     "slide_type": "skip"
    },
    "tags": []
   },
   "outputs": [
    {
     "data": {
      "text/plain": [
       "<seaborn.axisgrid.FacetGrid at 0x7f106ff30090>"
      ]
     },
     "execution_count": 217,
     "metadata": {},
     "output_type": "execute_result"
    },
    {
     "data": {
      "image/png": "[encoded data removed]",
      "text/plain": [
       "<Figure size 500x500 with 1 Axes>"
      ]
     },
     "metadata": {},
     "output_type": "display_data"
    }
   ],
   "source": [
    "sns.lmplot(data=df, x=\"X\", y=\"Y\", line_kws={\"color\": \"black\"})\n",
    "# sns.regplot(data=df, x=\"X\", y=\"Y\", ci=)"
   ]
  },
  {
   "cell_type": "code",
   "execution_count": 218,
   "id": "7b515b17-0f60-4397-bf43-134227deb621",
   "metadata": {
    "editable": true,
    "slideshow": {
     "slide_type": "skip"
    },
    "tags": []
   },
   "outputs": [
    {
     "data": {
      "image/png": "[encoded data removed]",
      "text/plain": [
       "<Figure size 1000x600 with 1 Axes>"
      ]
     },
     "metadata": {},
     "output_type": "display_data"
    }
   ],
   "source": [
    "import statsmodels.api as sm\n",
    "from statsmodels.sandbox.regression.predstd import wls_prediction_std\n",
    "\n",
    "# Sample data\n",
    "x = np.linspace(0, 10, 100)\n",
    "y = 2*x + 1 + np.random.normal(0, 2, 100)\n",
    "\n",
    "# Add constant to the model\n",
    "X = sm.add_constant(x)\n",
    "\n",
    "# Fit the model\n",
    "model = sm.OLS(y, X)\n",
    "results = model.fit()\n",
    "\n",
    "# Get prediction intervals\n",
    "pred_std, lower, upper = wls_prediction_std(results)\n",
    "\n",
    "# Plot the results\n",
    "fig, ax = plt.subplots(figsize=(10, 6))\n",
    "\n",
    "ax.plot(x, y, 'o', label='Data')\n",
    "ax.plot(x, results.fittedvalues, 'r--', label='OLS prediction')\n",
    "ax.plot(x, lower, 'g--', label='Lower Prediction Interval')\n",
    "ax.plot(x, upper, 'b--', label='Upper Prediction Interval')\n",
    "\n",
    "ax.legend(loc='best')\n",
    "plt.show()"
   ]
  },
  {
   "cell_type": "code",
   "execution_count": 162,
   "id": "fcde16e6-0dde-44d8-b2b9-f39dd0e52ef1",
   "metadata": {
    "editable": true,
    "slideshow": {
     "slide_type": "skip"
    },
    "tags": []
   },
   "outputs": [
    {
     "data": {
      "image/png": "[encoded data removed]",
      "text/plain": [
       "<Figure size 640x480 with 1 Axes>"
      ]
     },
     "metadata": {},
     "output_type": "display_data"
    }
   ],
   "source": [
    "x = np.array([1, 2, 3])\n",
    "y = np.array([-2, 0, 0])\n",
    "xlim = np.array([0, 4])\n",
    "ylim = np.array([-3, 2])\n",
    "\n",
    "sns.scatterplot(x=x, y=y, s=100)\n",
    "\n",
    "plt.plot(xlim, [-2.6667, 4-2.6667], color=\"blue\")\n",
    "y_hat = -2.6667 + x\n",
    "\n",
    "for i in range(len(x)):\n",
    "    plt.plot([x[i], x[i]], [y[i], ylim[0]], 'k--', alpha=0.5)\n",
    "    plt.plot([xlim[0], x[i]], [y[i], y[i]], 'k--', alpha=0.5)\n",
    "    plt.plot([x[i], x[i]], [y[i], y_hat[i]], color=\"red\")\n",
    "    plt.plot(x[i], y_hat[i], 'gx', markersize=10, markeredgewidth=5)\n",
    "    \n",
    "plt.text(x[0]+0.1, y_hat[0]-0.2, \"e1\", color=\"red\",fontsize=15)\n",
    "plt.text(x[1]+0.1, y_hat[1]+0.3, \"e2\", color=\"red\",fontsize=15)\n",
    "plt.text(x[2]+0.1, y_hat[2]-0.2, \"e3\", color=\"red\",fontsize=15)\n",
    "\n",
    "plt.text(x[0], y_hat[0]+0.3, \"ŷ1\", color=\"g\",fontsize=15)\n",
    "plt.text(x[1], y_hat[1]-0.4, \"ŷ2\", color=\"g\",fontsize=15)\n",
    "plt.text(x[2], y_hat[2]+0.3, \"ŷ3\", color=\"g\",fontsize=15)\n",
    "\n",
    "plt.xlabel(\"X\")\n",
    "plt.ylabel(\"Y\")\n",
    "plt.xlim(xlim[0], xlim[1])\n",
    "plt.ylim(ylim[0], ylim[1])\n",
    "plt.show()"
   ]
  },
  {
   "cell_type": "code",
   "execution_count": 90,
   "id": "b5c1404c-b94c-4e06-889e-1cc30a13d1f0",
   "metadata": {
    "editable": true,
    "slideshow": {
     "slide_type": "skip"
    },
    "tags": []
   },
   "outputs": [
    {
     "data": {
      "image/png": "[encoded data removed]",
      "text/plain": [
       "<Figure size 640x480 with 1 Axes>"
      ]
     },
     "metadata": {},
     "output_type": "display_data"
    }
   ],
   "source": [
    "x = [-1, 0, -3, 2, 1]\n",
    "y = [3, 1, 5, 0, 1]\n",
    "df = pd.DataFrame({\"valence\": x, \"virality\": y})\n",
    "\n",
    "sns.regplot(df, x=\"valence\", y=\"virality\", ci=None)\n",
    "plt.text(-1, 4, \"Y = 1.797 - 1.014 X\", color=\"red\",fontsize=15)\n",
    "plt.show()"
   ]
  },
  {
   "cell_type": "code",
   "execution_count": 145,
   "id": "d308f1d3-b871-4695-8be0-1eda23430396",
   "metadata": {
    "editable": true,
    "slideshow": {
     "slide_type": "skip"
    },
    "tags": []
   },
   "outputs": [
    {
     "data": {
      "image/png": "[encoded data removed]",
      "text/plain": [
       "<Figure size 640x480 with 1 Axes>"
      ]
     },
     "metadata": {},
     "output_type": "display_data"
    }
   ],
   "source": [
    "x = np.array([-1, 0, -3, 2, 1])\n",
    "y = np.array([3, 1, 5, 0, 1])\n",
    "x = (x-x.mean())/x.std()\n",
    "y = (y-y.mean())/y.std()\n",
    "df = pd.DataFrame({\"valence\": x, \"virality\": y})\n",
    "\n",
    "sns.regplot(df, x=\"valence\", y=\"virality\", ci=None)\n",
    "\n",
    "plt.plot([-2, 2], [0, 0], color=\"black\")\n",
    "plt.plot([0, 0], [-2, 3], color=\"black\")\n",
    "plt.text(0, 1, \"Y' = 0 + r(x,y) X'\", color=\"red\",fontsize=15)\n",
    "plt.show()"
   ]
  },
  {
   "cell_type": "code",
   "execution_count": 140,
   "id": "6c69ddb0-1c13-4ae0-b0b7-128d75d4eb57",
   "metadata": {
    "editable": true,
    "slideshow": {
     "slide_type": "skip"
    },
    "tags": []
   },
   "outputs": [
    {
     "data": {
      "image/png": "[encoded data removed]",
      "text/plain": [
       "<Figure size 640x480 with 1 Axes>"
      ]
     },
     "metadata": {},
     "output_type": "display_data"
    }
   ],
   "source": [
    "x = [-1, 0, -3, 2, 1]\n",
    "y = [3, 1, 5, 0, 1]\n",
    "\n",
    "beta_1 = -1.014 \n",
    "beta_0 = 1.797\n",
    "\n",
    "df = pd.DataFrame({\"valence\": x, \"virality\": y})\n",
    "std_x = np.std(x)\n",
    "std_y = np.std(y)\n",
    "corr_xy = np.corrcoef(x, y)[0,1]\n",
    "sns.regplot(df, x=\"valence\", y=\"virality\", ci=None)\n",
    "\n",
    "plt.plot([-std_x, 0], [beta_0-0.03, beta_0-0.03], color=\"red\")\n",
    "plt.plot([-1, 0], [beta_0, beta_0], color=\"green\")\n",
    "plt.plot([-std_x, -std_x], [beta_0, beta_0-beta_1*std_x], color=\"red\")\n",
    "plt.plot([-1, -1], [beta_0, beta_0-beta_1], color=\"green\")\n",
    "\n",
    "plt.annotate('b1', fontsize=20,\n",
    "             xy =(-1, 2.5), \n",
    "                xytext =(0, 3),  \n",
    "                arrowprops = dict(facecolor ='green'),) \n",
    "\n",
    "plt.annotate('cor(x,y) * Sy', fontsize=20,\n",
    "             xy =(-std_x, 2.5), \n",
    "                xytext =(-1, 4),  \n",
    "                arrowprops = dict(facecolor ='red'),) \n",
    "\n",
    "plt.annotate('1', xy=(-0.5, 1.5), xytext=(-0.5, 1.5), \n",
    "            fontsize=15, ha='center', color=\"green\")\n",
    "\n",
    "plt.annotate('Sx', xy=(-1.3, 1.5), xytext=(-1.3, 1.5), \n",
    "            fontsize=15, ha='center', color=\"red\")\n",
    "\n",
    "\n",
    "plt.show()"
   ]
  },
  {
   "cell_type": "code",
   "execution_count": 89,
   "id": "61367ce5-a206-42b8-a3f7-b7d824cb8027",
   "metadata": {
    "editable": true,
    "slideshow": {
     "slide_type": "skip"
    },
    "tags": []
   },
   "outputs": [
    {
     "data": {
      "image/png": "[encoded data removed]",
      "text/plain": [
       "<Figure size 640x480 with 1 Axes>"
      ]
     },
     "metadata": {},
     "output_type": "display_data"
    }
   ],
   "source": [
    "x = [-1, 0, -3, 2, 1]\n",
    "y = [3, 1, 5, 0, 1]\n",
    "df = pd.DataFrame({\"valence\": x, \"virality\": y})\n",
    "plt.plot([-3, 2], [0, 0], color=\"black\")\n",
    "plt.plot([0, 0], [-2, 5], color=\"black\")\n",
    "\n",
    "plt.plot(np.mean(x), np.mean(y), 'rx', markersize=10, markeredgewidth=5)\n",
    "\n",
    "plt.annotate('(x̄, ȳ)', fontsize=20,\n",
    "             xy =(np.mean(x), np.mean(y)), \n",
    "                xytext =(-2, 2),  \n",
    "                arrowprops = dict(facecolor ='red'),) \n",
    "\n",
    "plt.annotate('(0, b0)', fontsize=20,\n",
    "             xy =(0, 1.797), \n",
    "                xytext =(1, 2),  \n",
    "                arrowprops = dict(facecolor ='green'),) \n",
    "\n",
    "plt.plot(0, 1.797, 'gx', markersize=10, markeredgewidth=5)\n",
    "\n",
    "sns.regplot(df, x=\"valence\", y=\"virality\", ci=None)\n",
    "\n",
    "plt.show()"
   ]
  },
  {
   "cell_type": "code",
   "execution_count": 57,
   "id": "19740847-90b8-4b98-91b6-8cff9f67363e",
   "metadata": {
    "editable": true,
    "slideshow": {
     "slide_type": "skip"
    },
    "tags": []
   },
   "outputs": [
    {
     "data": {
      "image/png": "[encoded data removed]",
      "text/plain": [
       "<Figure size 640x480 with 1 Axes>"
      ]
     },
     "metadata": {},
     "output_type": "display_data"
    }
   ],
   "source": [
    "x = [1, 2, 3]\n",
    "y = [-2, 0, 0]\n",
    "xlim = [0, 4]\n",
    "ylim = [-3, 2]\n",
    "\n",
    "sns.scatterplot(x=x, y=y, s=100)\n",
    "\n",
    "plt.plot(xlim, [-1, -1], color=\"blue\")\n",
    "\n",
    "plt.text(2, -1.5, \"Y = -1 + 0*X\", color=\"blue\",fontsize=20)\n",
    "\n",
    "for i in range(len(x)):\n",
    "    plt.plot([x[i], x[i]], [y[i], ylim[0]], 'k--', alpha=0.5)\n",
    "    plt.plot([xlim[0], x[i]], [y[i], y[i]], 'k--', alpha=0.5)\n",
    "    plt.plot([x[i], x[i]], [y[i], -1], color=\"red\")\n",
    "    plt.text(x[i]+0.1, (y[i]-1)/2, \"e{}\".format(i+1), color=\"red\",fontsize=15)\n",
    "\n",
    "plt.xlabel(\"X\")\n",
    "plt.ylabel(\"Y\")\n",
    "plt.xlim(xlim[0], xlim[1])\n",
    "plt.ylim(ylim[0], ylim[1])\n",
    "plt.show()"
   ]
  },
  {
   "cell_type": "code",
   "execution_count": 56,
   "id": "bb78c9e7-35bd-441a-a286-c1e727c394cd",
   "metadata": {
    "editable": true,
    "scrolled": true,
    "slideshow": {
     "slide_type": "skip"
    },
    "tags": []
   },
   "outputs": [
    {
     "data": {
      "image/png": "[encoded data removed]",
      "text/plain": [
       "<Figure size 640x480 with 1 Axes>"
      ]
     },
     "metadata": {},
     "output_type": "display_data"
    }
   ],
   "source": [
    "x = np.array([1, 2, 3])\n",
    "y = np.array([-2, 0, 0])\n",
    "xlim = np.array([0, 4])\n",
    "ylim = np.array([-3, 2])\n",
    "\n",
    "sns.scatterplot(x=x, y=y, s=100)\n",
    "\n",
    "plt.plot(xlim, [-2.6667, 4-2.6667], color=\"blue\")\n",
    "y_hat = -2.6667 + x\n",
    "\n",
    "plt.text(2, -1.5, \"Y = -2.667 + 1*X\", color=\"blue\",fontsize=20)\n",
    "\n",
    "for i in range(len(x)):\n",
    "    plt.plot([x[i], x[i]], [y[i], ylim[0]], 'k--', alpha=0.5)\n",
    "    plt.plot([xlim[0], x[i]], [y[i], y[i]], 'k--', alpha=0.5)\n",
    "    plt.plot([x[i], x[i]], [y[i], y_hat[i]], color=\"red\")\n",
    "    plt.text(x[i]+0.1, y_hat[i], \"e{}\".format(i+1), color=\"red\",fontsize=15)\n",
    "\n",
    "plt.xlabel(\"X\")\n",
    "plt.ylabel(\"Y\")\n",
    "plt.xlim(xlim[0], xlim[1])\n",
    "plt.ylim(ylim[0], ylim[1])\n",
    "plt.show()"
   ]
  }
 ],
 "metadata": {
  "kernelspec": {
   "display_name": "Python 3 (ipykernel)",
   "language": "python",
   "name": "python3"
  },
  "language_info": {
   "codemirror_mode": {
    "name": "ipython",
    "version": 3
   },
   "file_extension": ".py",
   "mimetype": "text/x-python",
   "name": "python",
   "nbconvert_exporter": "python",
   "pygments_lexer": "ipython3",
   "version": "3.11.6"
  }
 },
 "nbformat": 4,
 "nbformat_minor": 5
}
