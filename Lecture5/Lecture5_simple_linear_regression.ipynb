{
 "cells": [
  {
   "cell_type": "markdown",
   "id": "10158854-fa49-4850-a978-130515532dcb",
   "metadata": {
    "editable": true,
    "slideshow": {
     "slide_type": ""
    },
    "tags": [
     "lecture_note"
    ]
   },
   "source": [
    "# Simple Linear Regression\n",
    "\n",
    "### Xuanjun (Jason) Gong"
   ]
  },
  {
   "cell_type": "markdown",
   "id": "975d00e9-f5ae-4a30-b821-4f219b57b55e",
   "metadata": {
    "editable": true,
    "slideshow": {
     "slide_type": "slide"
    },
    "tags": [
     "lecture_note"
    ]
   },
   "source": [
    "## Regression model Ingredients\n",
    "\n",
    "In regression models, we have a set of independent (predictor) variables and one response (dependent) variable. \n",
    "\n",
    "Note: when we have multiple dependent variables, either use multivariate regression model or build several regression models independently for each dependent variable. \n",
    "\n",
    "For regression models, we will have a fixed component, denoted as $X$, consisting of independent variables and the intercept (we will talk about intercept a bit later), as well as a random component which accounts for the random distribution of response variables given $X$.\n",
    "\n",
    "Thus, a big difference between correlation and regression is that\n",
    "\n",
    "- Correlation treats both independent variable and dependent variable as random variables\n",
    "- Regression consider only dependent variable as a random variable, and consider the predictors as fixed and known values. "
   ]
  },
  {
   "cell_type": "markdown",
   "id": "1898504c-b6ef-4e17-bf8d-2abf432755d1",
   "metadata": {
    "editable": true,
    "slideshow": {
     "slide_type": ""
    },
    "tags": []
   },
   "source": [
    "## Regression model Ingredients\n",
    "\n",
    "![regression1](./img/regression_model.png)"
   ]
  },
  {
   "cell_type": "markdown",
   "id": "9ff65d21-cb6d-477e-895b-a15db89af5c3",
   "metadata": {
    "editable": true,
    "slideshow": {
     "slide_type": ""
    },
    "tags": []
   },
   "source": [
    "## Regression model Ingredients\n",
    "\n",
    "![regression2](./img/regression_model_2.jpeg)"
   ]
  },
  {
   "cell_type": "markdown",
   "id": "e22df143-2c2d-48c5-a955-bef1cc0c7e8b",
   "metadata": {
    "editable": true,
    "slideshow": {
     "slide_type": ""
    },
    "tags": []
   },
   "source": [
    "## Regression model \n",
    "\n",
    "### Data Example\n",
    "\n",
    "Suppose we want to know if there is a linear relationship between children's height and the average of their parent's height. \n",
    "\n",
    "Here is a dataset of 1886 Galton's observations on children's and their parents' heights.\n"
   ]
  },
  {
   "cell_type": "code",
   "execution_count": 33,
   "id": "84a26528-ee9a-45f5-94f6-b738f524c97d",
   "metadata": {
    "tags": []
   },
   "outputs": [
    {
     "data": {
      "text/plain": [
       "0.1    66.900\n",
       "0.2    67.964\n",
       "0.3    68.520\n",
       "0.4    68.850\n",
       "0.5    69.248\n",
       "0.6    69.560\n",
       "0.7    70.100\n",
       "0.8    70.480\n",
       "0.9    71.330\n",
       "1.0    75.430\n",
       "Name: midparentHeight, dtype: float64"
      ]
     },
     "execution_count": 33,
     "metadata": {},
     "output_type": "execute_result"
    }
   ],
   "source": []
  },
  {
   "cell_type": "code",
   "execution_count": 41,
   "id": "a2e5b36e-87c5-4026-ae8b-dccf4cc1176a",
   "metadata": {
    "editable": true,
    "slideshow": {
     "slide_type": ""
    },
    "tags": []
   },
   "outputs": [
    {
     "data": {
      "text/html": [
       "<div>\n",
       "<style scoped>\n",
       "    .dataframe tbody tr th:only-of-type {\n",
       "        vertical-align: middle;\n",
       "    }\n",
       "\n",
       "    .dataframe tbody tr th {\n",
       "        vertical-align: top;\n",
       "    }\n",
       "\n",
       "    .dataframe thead th {\n",
       "        text-align: right;\n",
       "    }\n",
       "</style>\n",
       "<table border=\"1\" class=\"dataframe\">\n",
       "  <thead>\n",
       "    <tr style=\"text-align: right;\">\n",
       "      <th></th>\n",
       "      <th>rownames</th>\n",
       "      <th>family</th>\n",
       "      <th>father</th>\n",
       "      <th>mother</th>\n",
       "      <th>midparentHeight</th>\n",
       "      <th>children</th>\n",
       "      <th>childNum</th>\n",
       "      <th>gender</th>\n",
       "      <th>childHeight</th>\n",
       "      <th>midparentHeight_bins</th>\n",
       "    </tr>\n",
       "  </thead>\n",
       "  <tbody>\n",
       "    <tr>\n",
       "      <th>0</th>\n",
       "      <td>1</td>\n",
       "      <td>001</td>\n",
       "      <td>78.5</td>\n",
       "      <td>67.0</td>\n",
       "      <td>75.43</td>\n",
       "      <td>4</td>\n",
       "      <td>1</td>\n",
       "      <td>male</td>\n",
       "      <td>73.2</td>\n",
       "      <td>1.0</td>\n",
       "    </tr>\n",
       "    <tr>\n",
       "      <th>1</th>\n",
       "      <td>2</td>\n",
       "      <td>001</td>\n",
       "      <td>78.5</td>\n",
       "      <td>67.0</td>\n",
       "      <td>75.43</td>\n",
       "      <td>4</td>\n",
       "      <td>2</td>\n",
       "      <td>female</td>\n",
       "      <td>69.2</td>\n",
       "      <td>1.0</td>\n",
       "    </tr>\n",
       "    <tr>\n",
       "      <th>2</th>\n",
       "      <td>3</td>\n",
       "      <td>001</td>\n",
       "      <td>78.5</td>\n",
       "      <td>67.0</td>\n",
       "      <td>75.43</td>\n",
       "      <td>4</td>\n",
       "      <td>3</td>\n",
       "      <td>female</td>\n",
       "      <td>69.0</td>\n",
       "      <td>1.0</td>\n",
       "    </tr>\n",
       "    <tr>\n",
       "      <th>3</th>\n",
       "      <td>4</td>\n",
       "      <td>001</td>\n",
       "      <td>78.5</td>\n",
       "      <td>67.0</td>\n",
       "      <td>75.43</td>\n",
       "      <td>4</td>\n",
       "      <td>4</td>\n",
       "      <td>female</td>\n",
       "      <td>69.0</td>\n",
       "      <td>1.0</td>\n",
       "    </tr>\n",
       "    <tr>\n",
       "      <th>4</th>\n",
       "      <td>5</td>\n",
       "      <td>002</td>\n",
       "      <td>75.5</td>\n",
       "      <td>66.5</td>\n",
       "      <td>73.66</td>\n",
       "      <td>4</td>\n",
       "      <td>1</td>\n",
       "      <td>male</td>\n",
       "      <td>73.5</td>\n",
       "      <td>1.0</td>\n",
       "    </tr>\n",
       "  </tbody>\n",
       "</table>\n",
       "</div>"
      ],
      "text/plain": [
       "   rownames family  father  mother  midparentHeight  children  childNum  \\\n",
       "0         1    001    78.5    67.0            75.43         4         1   \n",
       "1         2    001    78.5    67.0            75.43         4         2   \n",
       "2         3    001    78.5    67.0            75.43         4         3   \n",
       "3         4    001    78.5    67.0            75.43         4         4   \n",
       "4         5    002    75.5    66.5            73.66         4         1   \n",
       "\n",
       "   gender  childHeight midparentHeight_bins  \n",
       "0    male         73.2                  1.0  \n",
       "1  female         69.2                  1.0  \n",
       "2  female         69.0                  1.0  \n",
       "3  female         69.0                  1.0  \n",
       "4    male         73.5                  1.0  "
      ]
     },
     "execution_count": 41,
     "metadata": {},
     "output_type": "execute_result"
    }
   ],
   "source": [
    "import pandas as pd\n",
    "import numpy as np\n",
    "import seaborn as sns\n",
    "from scipy import stats\n",
    "from matplotlib import pyplot as plt\n",
    "\n",
    "children_height_df = pd.read_csv(\"./data/GaltonFamilies.csv\")\n",
    "q=[0, 0.1, 0.2, 0.3, 0.4, 0.5, 0.6, 0.7, 0.8, 0.9, 1]\n",
    "children_height_df[\"midparentHeight_bins\"] = pd.qcut(children_height_df[\"midparentHeight\"],\n",
    "                                                     q=q,\n",
    "                                                     labels=q[1:])\n",
    "children_height_df.head()"
   ]
  },
  {
   "cell_type": "code",
   "execution_count": 43,
   "id": "0eef4842-1925-43af-a043-2919c3fafee2",
   "metadata": {
    "tags": []
   },
   "outputs": [
    {
     "data": {
      "image/png": "[encoded data removed]",
      "text/plain": [
       "<Figure size 640x480 with 1 Axes>"
      ]
     },
     "metadata": {},
     "output_type": "display_data"
    }
   ],
   "source": [
    "sns.scatterplot(data=children_height_df, x=\"midparentHeight\", y=\"childHeight\")\n",
    "plt.show()"
   ]
  },
  {
   "cell_type": "code",
   "execution_count": 44,
   "id": "2539a520-f41b-4599-a95b-ff9fdbd32d32",
   "metadata": {
    "tags": []
   },
   "outputs": [
    {
     "data": {
      "image/png": "[encoded data removed]",
      "text/plain": [
       "<Figure size 640x480 with 1 Axes>"
      ]
     },
     "metadata": {},
     "output_type": "display_data"
    }
   ],
   "source": [
    "sns.lineplot(data=children_height_df, x=\"midparentHeight_bins\", y=\"childHeight\",\n",
    "             err_style=\"bars\", marker='o')\n",
    "plt.show()"
   ]
  },
  {
   "cell_type": "markdown",
   "id": "00df531d-e4fa-49dc-9692-68bace8d3821",
   "metadata": {
    "editable": true,
    "slideshow": {
     "slide_type": ""
    },
    "tags": []
   },
   "source": [
    "## Regression Ingredient\n",
    "\n",
    "From the visualization of the data, we can observe that\n",
    "\n",
    "1. The average children's height is approximately in a straight line across each bin of the mid parent height.\n",
    "2. The degree of dispersion (variance) is roughly the same across each bin."
   ]
  },
  {
   "cell_type": "markdown",
   "id": "f19f35fb-0ac2-40f7-87fd-2dcc5d5ac41b",
   "metadata": {
    "editable": true,
    "slideshow": {
     "slide_type": ""
    },
    "tags": []
   },
   "source": [
    "## Regression Ingredient\n",
    "\n",
    "Thus, for a simple regression model, we specify two components:\n",
    "\n",
    "### Fixed component\n",
    "\n",
    "The mean of the childrens' height $Y$ is a linear function of midparent's height $X$.\n",
    "\n",
    "$$\n",
    "E[Y] = \\beta_0 + \\beta_1 X\n",
    "$$\n",
    "\n",
    "### Random component\n",
    "The distribution of children's height have a constant variance.\n",
    "$$\n",
    "Var(Y) = \\sigma^2\n",
    "$$\n",
    "\n",
    "Adding them together, we will have a simple linear regression model\n",
    "\n",
    "$$\n",
    "Y_i = \\beta_0 + \\beta_1 X_i + \\epsilon_i\n",
    "\\\\\n",
    "Var(\\epsilon_i) = \\sigma^2\n",
    "$$"
   ]
  },
  {
   "cell_type": "markdown",
   "id": "fa9f1f8d-2793-4a4a-b510-0ebccf96420a",
   "metadata": {
    "editable": true,
    "slideshow": {
     "slide_type": ""
    },
    "tags": []
   },
   "source": []
  },
  {
   "cell_type": "markdown",
   "id": "452aed56-7b7f-42fa-8e9e-58e2fd411597",
   "metadata": {
    "editable": true,
    "slideshow": {
     "slide_type": ""
    },
    "tags": []
   },
   "source": []
  },
  {
   "cell_type": "markdown",
   "id": "f5176339-1515-4b77-98f2-1f9b938e90a6",
   "metadata": {
    "editable": true,
    "slideshow": {
     "slide_type": ""
    },
    "tags": []
   },
   "source": []
  },
  {
   "cell_type": "markdown",
   "id": "25b20e6f-5fd6-48f9-96ef-59c42c5cf25d",
   "metadata": {
    "editable": true,
    "slideshow": {
     "slide_type": ""
    },
    "tags": []
   },
   "source": []
  },
  {
   "cell_type": "markdown",
   "id": "9d767780-19a3-42f1-8855-20d868748079",
   "metadata": {
    "editable": true,
    "slideshow": {
     "slide_type": ""
    },
    "tags": []
   },
   "source": []
  },
  {
   "cell_type": "markdown",
   "id": "48fbd274-2587-44cb-8a08-caa6487aa6dc",
   "metadata": {
    "editable": true,
    "slideshow": {
     "slide_type": ""
    },
    "tags": []
   },
   "source": []
  },
  {
   "cell_type": "markdown",
   "id": "2f49501f-3c83-41bb-911f-e180fec8fbc9",
   "metadata": {
    "editable": true,
    "slideshow": {
     "slide_type": ""
    },
    "tags": []
   },
   "source": []
  },
  {
   "cell_type": "markdown",
   "id": "b53a143a-920e-4ffa-a12f-b441fd7ea129",
   "metadata": {
    "editable": true,
    "slideshow": {
     "slide_type": ""
    },
    "tags": []
   },
   "source": []
  },
  {
   "cell_type": "markdown",
   "id": "0aec497b-fba8-4295-914e-a8283d0700b4",
   "metadata": {
    "editable": true,
    "slideshow": {
     "slide_type": ""
    },
    "tags": []
   },
   "source": []
  },
  {
   "cell_type": "markdown",
   "id": "172ca1d2-988a-4eb7-be98-fac7d05fa95d",
   "metadata": {
    "editable": true,
    "slideshow": {
     "slide_type": ""
    },
    "tags": []
   },
   "source": []
  },
  {
   "cell_type": "markdown",
   "id": "fe3ae363-b516-4987-886f-babf69ab41b3",
   "metadata": {
    "editable": true,
    "slideshow": {
     "slide_type": ""
    },
    "tags": []
   },
   "source": []
  },
  {
   "cell_type": "markdown",
   "id": "a2a08b84-c1b2-49c8-b8a8-61a8ea920598",
   "metadata": {
    "editable": true,
    "slideshow": {
     "slide_type": ""
    },
    "tags": []
   },
   "source": []
  },
  {
   "cell_type": "markdown",
   "id": "7f097de4-6a83-4be1-8bc5-6fab25d8e82f",
   "metadata": {
    "editable": true,
    "slideshow": {
     "slide_type": ""
    },
    "tags": []
   },
   "source": []
  },
  {
   "cell_type": "markdown",
   "id": "219eb867-a352-440f-bf05-4b5093d4081c",
   "metadata": {
    "editable": true,
    "slideshow": {
     "slide_type": ""
    },
    "tags": []
   },
   "source": []
  },
  {
   "cell_type": "markdown",
   "id": "41805282-3dc0-49e3-b78a-f5a5f4e431bf",
   "metadata": {
    "editable": true,
    "slideshow": {
     "slide_type": ""
    },
    "tags": []
   },
   "source": []
  }
 ],
 "metadata": {
  "kernelspec": {
   "display_name": "Python 3 (ipykernel)",
   "language": "python",
   "name": "python3"
  },
  "language_info": {
   "codemirror_mode": {
    "name": "ipython",
    "version": 3
   },
   "file_extension": ".py",
   "mimetype": "text/x-python",
   "name": "python",
   "nbconvert_exporter": "python",
   "pygments_lexer": "ipython3",
   "version": "3.10.12"
  }
 },
 "nbformat": 4,
 "nbformat_minor": 5
}
