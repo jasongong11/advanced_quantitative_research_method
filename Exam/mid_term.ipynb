{
 "cells": [
  {
   "cell_type": "markdown",
   "id": "53fbb01e-c91b-41ab-a877-4d9ebd01ce55",
   "metadata": {
    "editable": true,
    "slideshow": {
     "slide_type": ""
    },
    "tags": []
   },
   "source": [
    "# Mid-Term Exam"
   ]
  },
  {
   "cell_type": "markdown",
   "id": "b15d31a6-a5b0-4fbd-9e93-8471a3b8435f",
   "metadata": {
    "editable": true,
    "slideshow": {
     "slide_type": ""
    },
    "tags": []
   },
   "source": [
    "## Cheatsheet\n",
    "\n",
    "You may or may not use the formulas below. Feel free to use them if feel needed. \n",
    "\n",
    "$$\n",
    "P(A \\cap B) = P(A)P(B) \\ \\ \\text{if A and B are independent}\n",
    "$$\n",
    "\n",
    "$$\n",
    "P(A|B) = \\frac{P(A\\cap B)}{P(B)}\n",
    "$$\n",
    "$$\n",
    "E(X) = \\sum x p(x)\n",
    "$$\n",
    "$$\n",
    "E[\\sum X_i] = \\sum E[X_i]\n",
    "$$\n",
    "$$\n",
    "Var(X) = E[X-E[X]] = E[X^2] - E[X]^2\n",
    "$$\n",
    "$$\n",
    "Var(\\sum X_i) = \\sum Var(X_i) \\ \\ \\ \\text{if $X_i$ are independent with each other}\n",
    "$$\n",
    "$$\n",
    "_nC_k  = \\frac{n!}{k! (k-r)!}\n",
    "$$\n",
    "$$\n",
    "P(B|A) = \\frac{P(A|B)P(B)}{P(A)}\n",
    "$$\n",
    "$$\n",
    "\\bar{X} = \\frac{1}{n}\\sum X_i\n",
    "$$\n",
    "$$\n",
    "S^2 = \\frac{1}{n-1}\\sum (X_i-\\bar{X})^2\n",
    "$$\n",
    "$$\n",
    "T = \\frac{\\bar{X} - \\mu}{\\sqrt{S^2}} \\ \\ \\ \\ \\ \\ T \\sim t_{n-1}\n",
    "$$\n",
    "$$\n",
    "T = \\sum \\frac{(O - E)^2}{E} \\ \\ \\ \\ \\ \\ \\ \\ T \\sim \\chi^2_{(a-1)(b-1)}\n",
    "$$"
   ]
  },
  {
   "cell_type": "markdown",
   "id": "ef0eed6b-6ef8-4535-bd5b-c692f8eb84fa",
   "metadata": {
    "editable": true,
    "slideshow": {
     "slide_type": ""
    },
    "tags": []
   },
   "source": [
    "## Q1\n",
    "\n",
    "Consider a random simple experiment of drawing cards from a deck of cards. This deck of cards has 4 suits: 13 hearts, 13 diamonds, 13 spades, and 13 clubs. Each card has a number ranging from 1 to 13. \n",
    "\n",
    "1. Drawing one card from this deck of cards, what is the probability of drawing a card with a number that is larger or equal to 10, and has a red color (heart or diamond).\n",
    "2. Drawing one card from this deck of cards, given that it has a black color (spade or club), what is the probability of drawing a card with a number less or equal to 3.\n",
    "3. Drawing 10 cards with replacements from this deck of cards, what is the probability of getting at least 8 (larger or equal to 8) club cards?\n",
    "4. Drawing 3 cards with replacement from this deck of cards, what is the expected value and variance of the sum of the numbers of the drawn 3 cards?\n",
    "5. Drawing 5 cards without replacement from this deck of cards, what is the probability of getting a flush (all 5 cards having the same suit: heart, diamond, spade, or club)? Hint: Calculate the total number of possible combinations of drawing 5 cards from 52 cards, then calculate total number of possible combinations of drawing 5 cards of the same suit. "
   ]
  },
  {
   "cell_type": "markdown",
   "id": "69b20a04-5178-437e-9b98-d818137906b7",
   "metadata": {
    "editable": true,
    "slideshow": {
     "slide_type": ""
    },
    "tags": []
   },
   "source": [
    "## Q2\n",
    "Suppose 70% of people like cats, and 60% of people like dogs, and 50% of people likes both dogs and cats. \n",
    "\n",
    "1. Now, a friend told you that he does not like dogs, what is the probability that he likes cats?\n",
    "2. You conducted a survey to randomly sample 10 people for their pet preferences. What is the expected value and the variance of the number of participants who like both cats and dogs?\n",
    "3. Draw the probability mass function of the number of people who like both cats and dogs with a bar plot."
   ]
  },
  {
   "cell_type": "markdown",
   "id": "d3fb2edf-7a27-4303-8006-3134cdac19c3",
   "metadata": {
    "editable": true,
    "slideshow": {
     "slide_type": ""
    },
    "tags": []
   },
   "source": [
    "## Q3\n",
    "For a random variable $X$, where $X \\sim N(10, 100)$.\n",
    "\n",
    "1. What is the population mean and population standard deviation for variable $X$?\n",
    "2. Given that $P(X < 29.6)=0.975$, find $k$, where $P(k<X<29.6)=0.95$.\n",
    "3. Write down the Python code to find $P(-10<X<50)$.\n",
    "  \n",
    "Hint: Recall that the Python function of calculating the cumulative probability function for $P(X<x)$ where $X\\sim N(\\mu,\\sigma^2)$ is\n",
    "\n",
    "```\n",
    "from scipy import stats\n",
    "stats.norm.cdf(x, loc=mean, scale=standard_deviation)\n",
    "```"
   ]
  },
  {
   "cell_type": "markdown",
   "id": "160042ce-8b84-4172-a88d-6255da8ff788",
   "metadata": {
    "editable": true,
    "slideshow": {
     "slide_type": ""
    },
    "tags": []
   },
   "source": [
    "## Q4\n",
    "You conducted a study investigating people's attitudes toward using AI tools in their health care. People's attitude is measured as a continuous variable $X$, where a positive value indicates a positive attitude and a negative value indicates a negative attitude. \n",
    "\n",
    "You hypothesized that people may have a negative attitude for using AI tools in their health care. Thus you randomly sampled 10 participants and measured their attitudes.\n",
    "The data is the following:\n",
    "\n",
    "$-1, -2, 0, 1, -1, 1, -2, -1, -1, 1$\n",
    "\n",
    "1. Calculate the sample mean and sample variance.\n",
    "2. You decided to conduct a **two-tailed** t-test to test your hypothesis. State your null hypothesis and alternative hypothesis.\n",
    "3. Construct the $t$ statistic and state the sampling distribution for your $t$ statistic.\n",
    "4. Given your calculated $t$ statistic and its sampling distribution, write down the Python code to calculate the p value.\n",
    "\n",
    "Hint:\n",
    "Recall that the Python code for calculating the cumulative probability function for $P(T < x)$ where $T \\sim t_k$ is \n",
    "\n",
    "```\n",
    "from scipy import stats\n",
    "stats.t.cdf(x, df=k)\n",
    "```\n",
    "\n",
    "5. Assuming you want to do a **one-tailed** t test instead. What is the rejection region for your sample mean $\\bar{X}$ at significance level $\\alpha=0.05$? Given that $P(T<-1.833)=0.05$ where $T \\sim t_9$. \n",
    "6. For this **one-tailed** t test, you assume your null hypothesis $H_1: \\mu = -0.5$, calculate the power of your study at significance level $\\alpha=0.05$. Just write down the code to calculate the power. "
   ]
  },
  {
   "cell_type": "markdown",
   "id": "6fe51ef4-f477-42a4-a66d-87a1f7f7dd83",
   "metadata": {
    "editable": true,
    "slideshow": {
     "slide_type": ""
    },
    "tags": []
   },
   "source": [
    "## Q5\n",
    "\n",
    "A researcher wants to examine whether there is a relationship between gender (male, female) and preference for a type of movie genre (action, comedy, drama). The researcher surveys 200 people, and the data is summarized in the following table:\n",
    "\n",
    "| **Gender** | **Action** | **Comedy** | **Drama** | **Total** |\n",
    "|------------|------------|------------|-----------|-----------|\n",
    "| **Male**   | 40         | 30         | 20        | 90        |\n",
    "| **Female** | 20         | 50         | 40        | 110       |\n",
    "| **Total**  | 60         | 80         | 60        | 200       |\n",
    "\n",
    "Using a significance level of 0.05, determine if there is a significant association between gender and movie preference.\n",
    "\n",
    "Given that the critical value for $\\chi^2* = 5.991$, $P(X < \\chi^2*) = 0.95$, where $X \\sim \\chi^2_2$"
   ]
  },
  {
   "cell_type": "markdown",
   "id": "16c98d2d-7869-48e7-8215-4576333c5a90",
   "metadata": {
    "editable": true,
    "slideshow": {
     "slide_type": ""
    },
    "tags": []
   },
   "source": [
    "## Q6 (Extra credit 5 points)\n",
    "\n",
    "One of the most important methods to estimate parameters in statistical models is the **Maximum Likelihood Estimation** (MLE) method. \n",
    "\n",
    "This method takes several steps to estimate parameters:\n",
    "\n",
    "1. Construct the likelihood function of parameters $\\hat{\\theta}$ for one observed data $X_i$ using the probability density function. $L(\\hat{\\theta}|X_i) = pdf(X_i|\\hat{\\theta})$.\n",
    "2. Construct the likelihood function of parameters for all observed data, assuming samples are $i.i.d$. $L(\\hat{\\theta}) = \\prod pdf(X_i|\\hat{\\theta})$\n",
    "3. Construct the log-likelihood function  of parameters for all observed data. $LogL(\\hat{\\theta}) = log(\\prod pdf(X_i|\\hat{\\theta})) = \\sum log(pdf(X_i|\\hat{\\theta}))$\n",
    "4. Find the parameters $\\hat{\\theta}$ that minimize the negative log-likelihood function of parameters for all observed data. $\\hat{\\theta} = argmin_{\\hat{\\theta}} (-LogL(\\hat{\\theta}))$\n",
    "\n",
    "The found parameters $\\hat{\\theta}$ is the MLE estimator for the parameters in the model because these parameters maximize the likelihood (probability of observing the data). \n",
    "\n",
    "In Python, we usually use `scipy.optimize.minimize` function from `scipy` package to minimize a given function. \n",
    "\n",
    "Now, complete the following block of codes to estimate a population mean $\\mu$ for a normal distributed random variable $X$, given the population variance $\\sigma^2=1$ and following observed samples $X_i$.\n",
    "\n",
    "$1, 2, 3, 4, 5, 6, 7, 8, 9$\n",
    "\n",
    "\n",
    "```\n",
    "from scipy.optimize import minimize\n",
    "from scipy import stats\n",
    "import numpy as np\n",
    "\n",
    "observed_samples = np.array([1, 2, 3, 4, 5, 6, 7, 8, 9])\n",
    "population_variance = 100\n",
    "population_standard_deviation = [PLEASE COMPLETE HERE]\n",
    "\n",
    "def likelihood_function_for_single_data(theta, sample):\n",
    "    likelihood = stats.norm.pdf([PLEASE COMPLETE HERE],\n",
    "                                loc=[PLEASE COMPLETE HERE],\n",
    "                                scale=population_standard_deviation)\n",
    "    return likelihood\n",
    "\n",
    "def log_likelihood_function_for_single_data(theta, sample):\n",
    "    likelihood = likelihood_function_for_single_data(theta, sample)\n",
    "    log_likelihood = np.log(likelihood)\n",
    "    return log_likelihood\n",
    "\n",
    "def log_likelihood_function_for_all_data(theta, data):\n",
    "    log_likelihood_all = 0\n",
    "    for sample in data:\n",
    "        log_likelihood = log_likelihood_function_for_single_data(theta, sample)\n",
    "        log_likelihood_all = log_likelihood_all + [PLEASE COMPLETE HERE]\n",
    "    return log_likelihood_all\n",
    "\n",
    "def function_to_minimize(theta, data=observed_samples):\n",
    "    log_likelihood_all = log_likelihood_function_for_all_data(theta, data)\n",
    "    negative_log_likelihood_all = [PLEASE COMPLETE HERE]\n",
    "    return negative_log_likelihood_all\n",
    "\n",
    "x0 = 0 #x0 is an initial guess for parameter for the optimization algorithm to start with\n",
    "res = minimize(function_to_minimize, x0)\n",
    "mu_estimate = res.x\n",
    "print(mu_estimate)\n",
    "```\n",
    "\n",
    "You will find the MLE estimator for the population mean is roughly the same as our sample mean, which is an unbiased estimator for the population mean."
   ]
  }
 ],
 "metadata": {
  "kernelspec": {
   "display_name": "Python 3 (ipykernel)",
   "language": "python",
   "name": "python3"
  },
  "language_info": {
   "codemirror_mode": {
    "name": "ipython",
    "version": 3
   },
   "file_extension": ".py",
   "mimetype": "text/x-python",
   "name": "python",
   "nbconvert_exporter": "python",
   "pygments_lexer": "ipython3",
   "version": "3.11.6"
  }
 },
 "nbformat": 4,
 "nbformat_minor": 5
}
