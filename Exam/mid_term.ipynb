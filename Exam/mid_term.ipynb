{
 "cells": [
  {
   "cell_type": "markdown",
   "id": "53fbb01e-c91b-41ab-a877-4d9ebd01ce55",
   "metadata": {},
   "source": [
    "# Mid-Term Exam"
   ]
  },
  {
   "cell_type": "markdown",
   "id": "ef0eed6b-6ef8-4535-bd5b-c692f8eb84fa",
   "metadata": {},
   "source": []
  },
  {
   "cell_type": "markdown",
   "id": "69b20a04-5178-437e-9b98-d818137906b7",
   "metadata": {},
   "source": []
  },
  {
   "cell_type": "markdown",
   "id": "d3fb2edf-7a27-4303-8006-3134cdac19c3",
   "metadata": {},
   "source": []
  },
  {
   "cell_type": "markdown",
   "id": "160042ce-8b84-4172-a88d-6255da8ff788",
   "metadata": {},
   "source": []
  },
  {
   "cell_type": "markdown",
   "id": "6fe51ef4-f477-42a4-a66d-87a1f7f7dd83",
   "metadata": {},
   "source": []
  },
  {
   "cell_type": "markdown",
   "id": "cb368b0c-c0de-48b4-b301-8b6d563c36a7",
   "metadata": {},
   "source": []
  },
  {
   "cell_type": "markdown",
   "id": "d2db8d22-7e11-4b3d-89ca-29aa51423aba",
   "metadata": {},
   "source": []
  },
  {
   "cell_type": "markdown",
   "id": "e69eca23-e503-4b03-b90f-5aea25cf9fc7",
   "metadata": {},
   "source": []
  },
  {
   "cell_type": "markdown",
   "id": "7110ea1c-cf2f-439d-b079-0b36f0ef7d66",
   "metadata": {},
   "source": []
  },
  {
   "cell_type": "markdown",
   "id": "e5d8074c-4213-4d9f-a1c0-58028304eda2",
   "metadata": {},
   "source": []
  },
  {
   "cell_type": "markdown",
   "id": "65dc22a3-83c3-4414-ad62-04938615050d",
   "metadata": {},
   "source": []
  },
  {
   "cell_type": "markdown",
   "id": "90e24e7e-0b1d-4d6e-bfc7-a98d032f03de",
   "metadata": {},
   "source": []
  }
 ],
 "metadata": {
  "kernelspec": {
   "display_name": "Python 3 (ipykernel)",
   "language": "python",
   "name": "python3"
  },
  "language_info": {
   "codemirror_mode": {
    "name": "ipython",
    "version": 3
   },
   "file_extension": ".py",
   "mimetype": "text/x-python",
   "name": "python",
   "nbconvert_exporter": "python",
   "pygments_lexer": "ipython3",
   "version": "3.10.12"
  }
 },
 "nbformat": 4,
 "nbformat_minor": 5
}
