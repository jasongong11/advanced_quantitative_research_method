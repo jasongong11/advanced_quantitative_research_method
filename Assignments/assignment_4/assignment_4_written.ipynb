{
 "cells": [
  {
   "cell_type": "markdown",
   "id": "96255e0f-1b6d-44ae-baed-1c853934c1c9",
   "metadata": {
    "editable": true,
    "slideshow": {
     "slide_type": ""
    },
    "tags": []
   },
   "source": [
    "# Assignment 4 Part 1"
   ]
  },
  {
   "cell_type": "markdown",
   "id": "1b43dd1d-2b2d-407b-a12c-cb2c392df90d",
   "metadata": {
    "editable": true,
    "raw_mimetype": "",
    "slideshow": {
     "slide_type": ""
    },
    "tags": []
   },
   "source": [
    "## Q1\n",
    "\n",
    "A researcher in digital humanity studying narrative theory is trying to understand how the pace of the story (how fast or how slow the plots move across the story) impacts the success of the narrative. You can find their paper [here](https://www.pnas.org/doi/10.1073/pnas.2011695118). He randomly sampled a list of novels texts and measured their semantic speed (story pace) and popularity by the number of downloads (log transformed). Below is a subset of samples he collected:\n",
    "\n",
    "| index | speed | log_popularity |\n",
    "| --- | --- | --- |\n",
    "| 0 | 1 | 0 | \n",
    "| 1 | 0  |  1  |\n",
    "| 2 | 2  |  1  |\n",
    "| 3 | 2  |  2  |\n",
    "| 4 | 1  |  2 |\n",
    "\n",
    "Now, he wants to run a simple linear regression model to test the linear relationship between story speed, denoted as $X_i$, and its log popularity, denoted as $Y_i$. To conduct this regression analysis, answer the following questions. \n",
    "\n",
    "1. Write down the regression model specification with regression intercept $\\beta_0$ and regression slope $\\beta_1$.\n",
    "2. Calculate the means for both variables $\\bar{X}$ and $\\bar{Y}$\n",
    "3. Compute the OLS estiamtes of regression slope $\\hat{\\beta_1} = \\frac{\\sum (X_i-\\bar{X})(Y_i-\\bar{Y})}{\\sum (X_i-\\bar{X})^2}$ and regression intercept $\\hat{\\beta_0} = \\bar{Y}-\\hat{\\beta_1}\\bar{X}$\n",
    "4. Compute the residuals $e_i = Y_i - \\hat{Y} = Y_i - \\hat{\\beta_0}-\\hat{\\beta_1}X_i$\n",
    "5. Compute sum of squared errors $SSE = \\sum e_i^2$, and what is the degree of freedom of $SSE$?\n",
    "6. Compute the mean squared errors $MSE = \\frac{SSE}{df(SSE)}$\n",
    "7. Compute the standard error of OLS estimates of regression slopes $s.e.(\\hat{\\beta_1}) = \\sqrt{MSE \\frac{1}{\\sum (X_i-\\bar{X})^2}}$ and regression intercept $s.e.(\\hat{\\beta_0}) = \\sqrt{MSE (\\frac{1}{n} +\\frac{\\bar{X}^2}{\\sum (X_i-\\bar{X})^2})}$\n",
    "8. The researcher wants to conduct a two-tailed $t$ test on the relationship between speed and popularity. State the null hypothesis and alternative hypothesis. Think: should we test on regression intercept or regression slope?\n",
    "9. Compute the $T$ statistic $T = \\frac{\\hat{\\beta_1}}{s.e.(\\beta_1)}$, what is the degree of freedom for this $T$ statistic?\n",
    "10. Write down the Python code to compute the $p$ value.\n",
    "    \n",
    "    Recall the python code for two tailed t test, if $T$ statistic is positive, is\n",
    "    \n",
    "    ```\n",
    "    from scipy import stats\n",
    "    p = 2*(1-stats.t.cdf(T, df=df))\n",
    "    print(p)\n",
    "    ```\n",
    "    \n",
    "12. The researcher also wants to conduct a $F$ test on the regression model. State the null hypothesis and the alternative hypothesis.\n",
    "13. Compute $SSTO = \\sum (Y_i-\\bar{Y})^2$, $SSR = SSTO - SSE$, and $MSR = \\frac{SSR}{df(SSR)}$\n",
    "14. Compute the $F$ statistic $F = \\frac{MSR}{MSE}$, what is the degree of freedom of this $F$ statistic?\n",
    "15. Write down the Python code to compute the $p$ value\n",
    "    \n",
    "    Recall that the python code for $F$ test is\n",
    "    \n",
    "    ```\n",
    "    from scipy import stats\n",
    "    p = 1-stats.f.cdf(F, df1=df1, df2=df2)\n",
    "    print(p)\n",
    "    ```\n",
    "    \n",
    "17. Compute the coefficient of determination $R^2 = \\frac{SSR}{SSTO}$. What does this $R^2$ mean?"
   ]
  },
  {
   "cell_type": "markdown",
   "id": "78e41fb3-cd6f-46f8-a6f1-d85a7a79d73f",
   "metadata": {
    "editable": true,
    "slideshow": {
     "slide_type": ""
    },
    "tags": []
   },
   "source": [
    "## Q2\n",
    "\n",
    "Now, you want to use the matrix form to express the regression model and conduct your regression analysis using the matrix form. Using the dataset given in Q1, do the following.\n",
    "\n",
    "1. Construct the design matrix $\\boldsymbol{X}$, and write down the response vector $\\boldsymbol{Y}$. What is the order (size) of these two matrices?\n",
    "2. Compute the coefficient vector $\\boldsymbol{b} = \\boldsymbol{(X^TX)^{-1}X^TY}$, you may need to calculate $\\boldsymbol{X^TX}$ first, then $\\boldsymbol{(X^TX)^{-1}}$, then $\\boldsymbol{X^TY}$, and finally $\\boldsymbol{(X^TX)^{-1}X^TY}$. Recall that $\\begin{bmatrix} a & b \\\\ c & d \\end{bmatrix} ^{-1} = \\frac{1}{ad-bc}\\begin{bmatrix}d & -b \\\\ -c & a\\end{bmatrix}$\n",
    "3. Compute the mean response vector $\\boldsymbol{\\hat{Y}} = \\boldsymbol{Xb}$\n",
    "4. Compute the residual vector $\\boldsymbol{e} = \\boldsymbol{Y-\\hat{Y}}$\n",
    "5. Compute the sum of squared errors $SSE = \\boldsymbol{e^Te}$, and mean squared errors $MSE = \\frac{SSE}{df(SSE)}$\n",
    "6. Compute the variance covariance matrix of coefficient vector\n",
    "   $$\n",
    "   \\boldsymbol{\\sigma^2\\{b\\}} = \\sigma^2\\boldsymbol{(X^TX)^{-1}} = MSE \\boldsymbol{(X^TX)^{-1}}\n",
    "   $$\n",
    "7. Compute the standard errors for OLS estimates of regression intercept and regression slopes. "
   ]
  },
  {
   "cell_type": "markdown",
   "id": "335c555c-6e36-4505-a92f-781d7a8ae59a",
   "metadata": {
    "editable": true,
    "slideshow": {
     "slide_type": ""
    },
    "tags": []
   },
   "source": [
    "## Assignment 4 part 2\n",
    "\n",
    "In this part of the assignment, you need to download and open the Jupyter notebook `assignment_4_coding.ipynb` to follow the instructions and complete the assignment.\n",
    "\n",
    "You also need to download the data file `gutenberg_data.csv` and place it at the same file folder of your jupyter notebook file. \n",
    "\n",
    "After you have done it, submit both your written assignment and code assignment."
   ]
  }
 ],
 "metadata": {
  "kernelspec": {
   "display_name": "Python 3 (ipykernel)",
   "language": "python",
   "name": "python3"
  },
  "language_info": {
   "codemirror_mode": {
    "name": "ipython",
    "version": 3
   },
   "file_extension": ".py",
   "mimetype": "text/x-python",
   "name": "python",
   "nbconvert_exporter": "python",
   "pygments_lexer": "ipython3",
   "version": "3.11.6"
  }
 },
 "nbformat": 4,
 "nbformat_minor": 5
}
