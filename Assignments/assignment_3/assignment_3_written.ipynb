{
 "cells": [
  {
   "cell_type": "markdown",
   "id": "cf851056-9ef2-4228-8c8a-016e848cc305",
   "metadata": {
    "editable": true,
    "slideshow": {
     "slide_type": ""
    },
    "tags": []
   },
   "source": [
    "# Assignment 3 Part 1"
   ]
  },
  {
   "cell_type": "markdown",
   "id": "b0cfc4d8-6c1e-4b2e-8071-84053bf64c19",
   "metadata": {},
   "source": [
    "## Q1\n",
    "\n",
    "A researcher wants to investigate whether the type of persuasive technique used influences people's decision to agree with a donation to the church. The study involves 200 participants, divided based on whether they agreed or disagreed after being exposed to one of three persuasive techniques: Emotional Appeal, Logical Argument, or Social Proof. The observed frequencies are as follows\n",
    "\n",
    "| **Decision Outcome** | **Emotional Appeal** | **Logical Argument** | **Total** |\n",
    "|------------|------------|------------|-----------|\n",
    "| **Agree**   | 30         | 25  | 55        |\n",
    "| **Disagree** | 20         | 30  | 50       |\n",
    "| **Neutral**  | 10         | 25  | 35       |\n",
    "| **Total**  | 60         | 80    | 140       |\n",
    "\n",
    "1. Calculate the probability of people agreeing to donate $P(donate)$ and the probability of people being exposed to emotional appeal $P(emotion)$.\n",
    "2. Assuming the people's decision outcome is independent of the type of persuasive technique they are exposed to. What is the probability of people being exposed to emotional appeal **and** agreeing to donate $P(donate \\cap emotion)$? \n",
    "3. The research would like to conduct a chi-squared test to test the dependency between persuasive techniques and people's decision to donation. State the null hypothesis and the alternative hypothesis.\n",
    "4. Calculate the expected frequency of people agreeing to donate after being exposed to emotional appeal, assuming the null hypothesis is true.\n",
    "5. Calculate the $\\chi^2*$ statistic using the formula\n",
    "   $$\n",
    "   \\chi^2* = \\sum (\\frac{(O-E)^2}{E})\n",
    "   $$\n",
    "6. What is the sampling distribution for this $\\chi^2*$? In other words, what is the degree of freedom for this statistic?\n",
    "7. Write down the Python code to calculate the p value.\n",
    "   Recall that the Python code to calculate the cummulative probability for a $\\chi^2$ distribution is\n",
    "   ```\n",
    "   from scipy import stats\n",
    "   1-stats.chi2.cdf(x, df=degree_of_freedom)\n",
    "   ```"
   ]
  },
  {
   "cell_type": "markdown",
   "id": "30cbaa29-33fa-4bd6-aaae-e8728f759105",
   "metadata": {},
   "source": [
    "## Q2\n",
    "\n",
    "A researcher is studying whether there is a relationship between the amount of time voters spend watching political debates (in hours) $X$ and their trust level in political candidates (measured on a scale of 1–10, where 10 indicates the highest trust) $Y$. He studies the research question asking whether there exists a correlation between the time spent watching political debates and voter trust in political candidates. The collected data is shown below:\n",
    "\n",
    "| **Voter** | **Time Spent Watching Debates (X)** | **Trust Level (Y)** |\n",
    "|-----------|-------------------------------------|----------------------|\n",
    "| 1         | 2                                   | 5                    |\n",
    "| 2         | 4                                   | 6                    |\n",
    "| 3         | 3                                   | 7                    |\n",
    "| 4         | 5                                   | 8                    |\n",
    "| 5         | 6                                   | 9                    |\n",
    "\n",
    "1. Compute the sample mean and sample variance for both $X$ and $Y$. $\\bar{X}$, $\\bar{Y}$, $S_x^2$, and $S_y^2$\n",
    "2. Compute the sample covariance $\\widehat{Cov(X,Y)} = \\frac{\\sum (X_i-\\bar{X})(Y_i-\\bar{Y})}{n-1}$\n",
    "3. Compute the correlation coefficient between $X$ and $Y$. $r_{x,y} = \\frac{\\widehat{Cov(X,Y)}}{S_x S_y}$\n",
    "4. Draw the scatterplot between $X$ and $Y$.\n",
    "5. Describe the relationship between amount of time voters spend watching political debates and their trust level in political candidates."
   ]
  },
  {
   "cell_type": "markdown",
   "id": "488161fd-50dd-4e54-94d7-7556e68e8f87",
   "metadata": {
    "editable": true,
    "slideshow": {
     "slide_type": ""
    },
    "tags": []
   },
   "source": [
    "## Assignment 3 part 2\n",
    "\n",
    "In this part of the assignment, you need to download and open the jupyter notebook `assignment_3_coding.ipynb` to follow the instructions and complete the assignment.\n",
    "\n",
    "You also need to download the data file `smoking.csv` and place it at the same file folder of your jupyter notebook file. \n",
    "\n",
    "After you have done it, submit both your written assignment and code assignment."
   ]
  }
 ],
 "metadata": {
  "kernelspec": {
   "display_name": "Python 3 (ipykernel)",
   "language": "python",
   "name": "python3"
  },
  "language_info": {
   "codemirror_mode": {
    "name": "ipython",
    "version": 3
   },
   "file_extension": ".py",
   "mimetype": "text/x-python",
   "name": "python",
   "nbconvert_exporter": "python",
   "pygments_lexer": "ipython3",
   "version": "3.11.6"
  }
 },
 "nbformat": 4,
 "nbformat_minor": 5
}
