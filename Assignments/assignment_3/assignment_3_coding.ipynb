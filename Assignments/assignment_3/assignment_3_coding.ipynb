{
 "cells": [
  {
   "cell_type": "markdown",
   "id": "5c8ff0f3-0a34-427d-bb34-6606f7b96823",
   "metadata": {
    "editable": true,
    "slideshow": {
     "slide_type": ""
    },
    "tags": []
   },
   "source": [
    "# Assignment 3 Part 2\n",
    "\n",
    "In this question, you need to use Python code to conduct an exploratory analysis by completing the codes. Codes need to be completed are marked in `Task` blocks with `[PLEASE COMPLETE]`"
   ]
  },
  {
   "cell_type": "markdown",
   "id": "75c4e0ff-22e9-4ab1-b3c3-053198cce3b4",
   "metadata": {
    "editable": true,
    "slideshow": {
     "slide_type": ""
    },
    "tags": []
   },
   "source": [
    "## Data Description\n",
    "\n",
    "Survey data on smoking habits from the United Kingdom. The data set can be used for analyzing the demographic characteristics of smokers and types of tobacco consumed. A data frame with 1691 observations on the following 12 variables.\n",
    "\n",
    "| Column | Description|\n",
    "|--------| -----------|\n",
    "|gender\t|Gender with levels Female and Male.|\n",
    "|age\t|Age.|\n",
    "|marital_status |\tMarital status with levels Divorced, Married, Separated, Single and Widowed.|\n",
    "|highest_qualification |\tHighest education level with levels A Levels, Degree, GCSE/CSE, GCSE/O Level, Higher/Sub Degree, No Qualification, ONC/BTEC and Other/Sub |Degree|\n",
    "|nationality |\tNationality with levels British, English, Irish, Scottish, Welsh, Other, Refused and Unknown.|\n",
    "|ethnicity |\tEthnicity with levels Asian, Black, Chinese, Mixed, White and Refused Unknown.|\n",
    "|gross_income |\tGross income with levels Under 2,600, 2,600 to 5,200, 5,200 to 10,400, 10,400 to 15,600, 15,600 to 20,800, 20,800 to 28,600, 28,600 to 36,400, Above 36,400, Refused and Unknown.|\n",
    "|region |\tRegion with levels London, Midlands And East Anglia, Scotland, South East, South West, The North and Wales|\n",
    "|smoke |\tSmoking status with levels No and Yes|\n",
    "|amt_weekends |\tNumber of cigarettes smoked per day on weekends.|\n",
    "|amt_weekdays |\tNumber of cigarettes smoked per day on weekdays.|\n",
    "|type |\tType of cigarettes smoked with levels Packets, Hand-Rolled, Both/Mainly Packets and Both/Mainly Hand-Rolled|\n",
    "\n",
    "[Data source](https://www.kaggle.com/datasets/utkarshx27/smoking-dataset-from-uk)"
   ]
  },
  {
   "cell_type": "markdown",
   "id": "e5269c06-c0ce-4375-947e-e9bfc0a2574a",
   "metadata": {
    "editable": true,
    "slideshow": {
     "slide_type": ""
    },
    "tags": []
   },
   "source": [
    "## Step 1 load the data\n",
    "\n",
    "After you have downloaded the data `smoking.csv`, you need to place it at the same folder of this jupyter notebook file. \n",
    "\n",
    "The first step to conduct the analysis is to load the `csv` file as a `pandas` dataframe. "
   ]
  },
  {
   "cell_type": "code",
   "execution_count": 5,
   "id": "ceeb6b33-3a2f-4c03-bff7-e81ab7b3b307",
   "metadata": {
    "editable": true,
    "slideshow": {
     "slide_type": ""
    },
    "tags": []
   },
   "outputs": [
    {
     "data": {
      "text/html": [
       "<div>\n",
       "<style scoped>\n",
       "    .dataframe tbody tr th:only-of-type {\n",
       "        vertical-align: middle;\n",
       "    }\n",
       "\n",
       "    .dataframe tbody tr th {\n",
       "        vertical-align: top;\n",
       "    }\n",
       "\n",
       "    .dataframe thead th {\n",
       "        text-align: right;\n",
       "    }\n",
       "</style>\n",
       "<table border=\"1\" class=\"dataframe\">\n",
       "  <thead>\n",
       "    <tr style=\"text-align: right;\">\n",
       "      <th></th>\n",
       "      <th>Unnamed: 0</th>\n",
       "      <th>gender</th>\n",
       "      <th>age</th>\n",
       "      <th>marital_status</th>\n",
       "      <th>highest_qualification</th>\n",
       "      <th>nationality</th>\n",
       "      <th>ethnicity</th>\n",
       "      <th>gross_income</th>\n",
       "      <th>region</th>\n",
       "      <th>smoke</th>\n",
       "      <th>amt_weekends</th>\n",
       "      <th>amt_weekdays</th>\n",
       "      <th>type</th>\n",
       "    </tr>\n",
       "  </thead>\n",
       "  <tbody>\n",
       "    <tr>\n",
       "      <th>0</th>\n",
       "      <td>1</td>\n",
       "      <td>Male</td>\n",
       "      <td>38</td>\n",
       "      <td>Divorced</td>\n",
       "      <td>No Qualification</td>\n",
       "      <td>British</td>\n",
       "      <td>White</td>\n",
       "      <td>2,600 to 5,200</td>\n",
       "      <td>The North</td>\n",
       "      <td>No</td>\n",
       "      <td>NaN</td>\n",
       "      <td>NaN</td>\n",
       "      <td>NaN</td>\n",
       "    </tr>\n",
       "    <tr>\n",
       "      <th>1</th>\n",
       "      <td>2</td>\n",
       "      <td>Female</td>\n",
       "      <td>42</td>\n",
       "      <td>Single</td>\n",
       "      <td>No Qualification</td>\n",
       "      <td>British</td>\n",
       "      <td>White</td>\n",
       "      <td>Under 2,600</td>\n",
       "      <td>The North</td>\n",
       "      <td>Yes</td>\n",
       "      <td>12.0</td>\n",
       "      <td>12.0</td>\n",
       "      <td>Packets</td>\n",
       "    </tr>\n",
       "    <tr>\n",
       "      <th>2</th>\n",
       "      <td>3</td>\n",
       "      <td>Male</td>\n",
       "      <td>40</td>\n",
       "      <td>Married</td>\n",
       "      <td>Degree</td>\n",
       "      <td>English</td>\n",
       "      <td>White</td>\n",
       "      <td>28,600 to 36,400</td>\n",
       "      <td>The North</td>\n",
       "      <td>No</td>\n",
       "      <td>NaN</td>\n",
       "      <td>NaN</td>\n",
       "      <td>NaN</td>\n",
       "    </tr>\n",
       "    <tr>\n",
       "      <th>3</th>\n",
       "      <td>4</td>\n",
       "      <td>Female</td>\n",
       "      <td>40</td>\n",
       "      <td>Married</td>\n",
       "      <td>Degree</td>\n",
       "      <td>English</td>\n",
       "      <td>White</td>\n",
       "      <td>10,400 to 15,600</td>\n",
       "      <td>The North</td>\n",
       "      <td>No</td>\n",
       "      <td>NaN</td>\n",
       "      <td>NaN</td>\n",
       "      <td>NaN</td>\n",
       "    </tr>\n",
       "    <tr>\n",
       "      <th>4</th>\n",
       "      <td>5</td>\n",
       "      <td>Female</td>\n",
       "      <td>39</td>\n",
       "      <td>Married</td>\n",
       "      <td>GCSE/O Level</td>\n",
       "      <td>British</td>\n",
       "      <td>White</td>\n",
       "      <td>2,600 to 5,200</td>\n",
       "      <td>The North</td>\n",
       "      <td>No</td>\n",
       "      <td>NaN</td>\n",
       "      <td>NaN</td>\n",
       "      <td>NaN</td>\n",
       "    </tr>\n",
       "    <tr>\n",
       "      <th>...</th>\n",
       "      <td>...</td>\n",
       "      <td>...</td>\n",
       "      <td>...</td>\n",
       "      <td>...</td>\n",
       "      <td>...</td>\n",
       "      <td>...</td>\n",
       "      <td>...</td>\n",
       "      <td>...</td>\n",
       "      <td>...</td>\n",
       "      <td>...</td>\n",
       "      <td>...</td>\n",
       "      <td>...</td>\n",
       "      <td>...</td>\n",
       "    </tr>\n",
       "    <tr>\n",
       "      <th>1686</th>\n",
       "      <td>1687</td>\n",
       "      <td>Male</td>\n",
       "      <td>22</td>\n",
       "      <td>Single</td>\n",
       "      <td>No Qualification</td>\n",
       "      <td>Scottish</td>\n",
       "      <td>White</td>\n",
       "      <td>2,600 to 5,200</td>\n",
       "      <td>Scotland</td>\n",
       "      <td>No</td>\n",
       "      <td>NaN</td>\n",
       "      <td>NaN</td>\n",
       "      <td>NaN</td>\n",
       "    </tr>\n",
       "    <tr>\n",
       "      <th>1687</th>\n",
       "      <td>1688</td>\n",
       "      <td>Female</td>\n",
       "      <td>49</td>\n",
       "      <td>Divorced</td>\n",
       "      <td>Other/Sub Degree</td>\n",
       "      <td>English</td>\n",
       "      <td>White</td>\n",
       "      <td>2,600 to 5,200</td>\n",
       "      <td>Scotland</td>\n",
       "      <td>Yes</td>\n",
       "      <td>20.0</td>\n",
       "      <td>20.0</td>\n",
       "      <td>Hand-Rolled</td>\n",
       "    </tr>\n",
       "    <tr>\n",
       "      <th>1688</th>\n",
       "      <td>1689</td>\n",
       "      <td>Male</td>\n",
       "      <td>45</td>\n",
       "      <td>Married</td>\n",
       "      <td>Other/Sub Degree</td>\n",
       "      <td>Scottish</td>\n",
       "      <td>White</td>\n",
       "      <td>5,200 to 10,400</td>\n",
       "      <td>Scotland</td>\n",
       "      <td>No</td>\n",
       "      <td>NaN</td>\n",
       "      <td>NaN</td>\n",
       "      <td>NaN</td>\n",
       "    </tr>\n",
       "    <tr>\n",
       "      <th>1689</th>\n",
       "      <td>1690</td>\n",
       "      <td>Female</td>\n",
       "      <td>51</td>\n",
       "      <td>Married</td>\n",
       "      <td>No Qualification</td>\n",
       "      <td>English</td>\n",
       "      <td>White</td>\n",
       "      <td>2,600 to 5,200</td>\n",
       "      <td>Scotland</td>\n",
       "      <td>Yes</td>\n",
       "      <td>20.0</td>\n",
       "      <td>20.0</td>\n",
       "      <td>Packets</td>\n",
       "    </tr>\n",
       "    <tr>\n",
       "      <th>1690</th>\n",
       "      <td>1691</td>\n",
       "      <td>Male</td>\n",
       "      <td>31</td>\n",
       "      <td>Married</td>\n",
       "      <td>Degree</td>\n",
       "      <td>Scottish</td>\n",
       "      <td>White</td>\n",
       "      <td>10,400 to 15,600</td>\n",
       "      <td>Scotland</td>\n",
       "      <td>No</td>\n",
       "      <td>NaN</td>\n",
       "      <td>NaN</td>\n",
       "      <td>NaN</td>\n",
       "    </tr>\n",
       "  </tbody>\n",
       "</table>\n",
       "<p>1691 rows × 13 columns</p>\n",
       "</div>"
      ],
      "text/plain": [
       "      Unnamed: 0  gender  age marital_status highest_qualification  \\\n",
       "0              1    Male   38       Divorced      No Qualification   \n",
       "1              2  Female   42         Single      No Qualification   \n",
       "2              3    Male   40        Married                Degree   \n",
       "3              4  Female   40        Married                Degree   \n",
       "4              5  Female   39        Married          GCSE/O Level   \n",
       "...          ...     ...  ...            ...                   ...   \n",
       "1686        1687    Male   22         Single      No Qualification   \n",
       "1687        1688  Female   49       Divorced      Other/Sub Degree   \n",
       "1688        1689    Male   45        Married      Other/Sub Degree   \n",
       "1689        1690  Female   51        Married      No Qualification   \n",
       "1690        1691    Male   31        Married                Degree   \n",
       "\n",
       "     nationality ethnicity      gross_income     region smoke  amt_weekends  \\\n",
       "0        British     White    2,600 to 5,200  The North    No           NaN   \n",
       "1        British     White       Under 2,600  The North   Yes          12.0   \n",
       "2        English     White  28,600 to 36,400  The North    No           NaN   \n",
       "3        English     White  10,400 to 15,600  The North    No           NaN   \n",
       "4        British     White    2,600 to 5,200  The North    No           NaN   \n",
       "...          ...       ...               ...        ...   ...           ...   \n",
       "1686    Scottish     White    2,600 to 5,200   Scotland    No           NaN   \n",
       "1687     English     White    2,600 to 5,200   Scotland   Yes          20.0   \n",
       "1688    Scottish     White   5,200 to 10,400   Scotland    No           NaN   \n",
       "1689     English     White    2,600 to 5,200   Scotland   Yes          20.0   \n",
       "1690    Scottish     White  10,400 to 15,600   Scotland    No           NaN   \n",
       "\n",
       "      amt_weekdays         type  \n",
       "0              NaN          NaN  \n",
       "1             12.0      Packets  \n",
       "2              NaN          NaN  \n",
       "3              NaN          NaN  \n",
       "4              NaN          NaN  \n",
       "...            ...          ...  \n",
       "1686           NaN          NaN  \n",
       "1687          20.0  Hand-Rolled  \n",
       "1688           NaN          NaN  \n",
       "1689          20.0      Packets  \n",
       "1690           NaN          NaN  \n",
       "\n",
       "[1691 rows x 13 columns]"
      ]
     },
     "execution_count": 5,
     "metadata": {},
     "output_type": "execute_result"
    }
   ],
   "source": [
    "import pandas as pd\n",
    "\n",
    "df = pd.read_csv(\"./smoking.csv\")\n",
    "df"
   ]
  },
  {
   "cell_type": "markdown",
   "id": "cc131be5-2362-4326-8525-40de1cfed526",
   "metadata": {
    "editable": true,
    "slideshow": {
     "slide_type": ""
    },
    "tags": []
   },
   "source": [
    "## Step 2 Descriptive Statistics for continous variables. \n",
    "\n",
    "The next step is to investigate the descriptive statistics (such as mean, variance, percentage, etc.) for our interested variables.\n",
    "\n",
    "With `pandas`, it can be done pretty easily. \n",
    "\n",
    "Note that for people who are not smoking, the average daily number of cigarettes during weekends and weekdays are noted as missing value in the dataset. So, we need to first replace these missing value with the number 0.\n",
    "\n",
    "Additionally, we might only interested in people's daily cigarettes assumption during the entire week, not seperately for weekends and weekdays. So we can compute a new variable named `amt_daily` by computing the weighted avarge of `amt_weekends` and `amt_weekdays`."
   ]
  },
  {
   "cell_type": "code",
   "execution_count": 26,
   "id": "cec1506b-71ad-4f12-8317-ab1a72001be2",
   "metadata": {
    "editable": true,
    "slideshow": {
     "slide_type": ""
    },
    "tags": []
   },
   "outputs": [],
   "source": [
    "df[\"amt_weekends\"] = df[\"amt_weekends\"].fillna(0)\n",
    "df[\"amt_weekdays\"] = df[\"amt_weekdays\"].fillna(0)\n",
    "df[\"amt_daily\"] = df.amt_weekends * 2/7 + df.amt_weekdays * 5/7"
   ]
  },
  {
   "cell_type": "markdown",
   "id": "169fd517-b849-4d4e-a913-99ac074a823a",
   "metadata": {},
   "source": [
    "Next lets compute the mean, standard deviation, and variance for the variable age."
   ]
  },
  {
   "cell_type": "code",
   "execution_count": 28,
   "id": "25f680f7-55da-4c41-93e4-d5a0e67a393d",
   "metadata": {
    "editable": true,
    "slideshow": {
     "slide_type": ""
    },
    "tags": []
   },
   "outputs": [
    {
     "name": "stdout",
     "output_type": "stream",
     "text": [
      "Mean of age is 49.836191602602014\n",
      "Standard deviation of age is 18.736851406665316\n",
      "Variance of age is 351.069600635456\n"
     ]
    }
   ],
   "source": [
    "mean_age = df.age.mean()\n",
    "std_age = df.age.std()\n",
    "var_age = df.age.var()\n",
    "print(\"Mean of age is {}\".format(mean_age))\n",
    "print(\"Standard deviation of age is {}\".format(std_age))\n",
    "print(\"Variance of age is {}\".format(var_age))"
   ]
  },
  {
   "cell_type": "markdown",
   "id": "2bfe8932-1494-4aca-a7af-2e63683cc0ca",
   "metadata": {},
   "source": [
    "We can also plot the histogram of the age to show its distribution."
   ]
  },
  {
   "cell_type": "code",
   "execution_count": 42,
   "id": "a0b85dc6-c25c-4227-8e8e-ed4af427490a",
   "metadata": {},
   "outputs": [
    {
     "data": {
      "text/plain": [
       "<Axes: xlabel='age', ylabel='Count'>"
      ]
     },
     "execution_count": 42,
     "metadata": {},
     "output_type": "execute_result"
    },
    {
     "data": {
      "image/png": "[encoded data removed]",
      "text/plain": [
       "<Figure size 640x480 with 1 Axes>"
      ]
     },
     "metadata": {},
     "output_type": "display_data"
    }
   ],
   "source": [
    "import seaborn as sns\n",
    "from matplotlib import pyplot as plt\n",
    "\n",
    "sns.histplot(df.age)"
   ]
  },
  {
   "cell_type": "markdown",
   "id": "06fd96e3-7e9c-4afc-ad78-58793cdfe996",
   "metadata": {},
   "source": [
    "### Task 1 Descriptive Statistics and histogram for amt_daily\n",
    "\n",
    "You need to complete the code to compute the mean, std, and variance for the variable `amt_daily`, and plot its histogram to show its distribution."
   ]
  },
  {
   "cell_type": "code",
   "execution_count": null,
   "id": "6d9ce61c-4ae9-4f6f-9b8e-09a10af96294",
   "metadata": {
    "editable": true,
    "slideshow": {
     "slide_type": ""
    },
    "tags": []
   },
   "outputs": [],
   "source": [
    "mean_amt = [PLEASE COMPLETE]\n",
    "std_amt = [PLEASE COMPLETE]\n",
    "var_amt = [PLEASE COMPLETE]\n",
    "print(\"Mean of age is {}\".format(mean_amt))\n",
    "print(\"Standard deviation of age is {}\".format(std_amt))\n",
    "print(\"Variance of age is {}\".format(var_amt))"
   ]
  },
  {
   "cell_type": "code",
   "execution_count": null,
   "id": "02fe6e5e-bd29-40b2-a652-ce3a05d2fe1b",
   "metadata": {},
   "outputs": [],
   "source": [
    "sns.histplot([PLEASE COMPLETE])"
   ]
  },
  {
   "cell_type": "markdown",
   "id": "026846ac-53ae-4560-8d78-a833d937e1b5",
   "metadata": {},
   "source": [
    "## Step 3 Descriptive Statistics for categorical variables\n",
    "\n",
    "Now, we can proceed to descriptive statistics for categorical variables. This is usually down by calcualting the frequencies or relative frequency for each class.\n",
    "\n",
    "In this analysis, we will focus on `marital_status` and `gender`."
   ]
  },
  {
   "cell_type": "code",
   "execution_count": 36,
   "id": "de8e699a-d0ec-4b8e-a42a-d7a11c99695a",
   "metadata": {},
   "outputs": [
    {
     "name": "stdout",
     "output_type": "stream",
     "text": [
      "Frequency Table gender\n",
      "Female    965\n",
      "Male      726\n",
      "Name: count, dtype: int64\n",
      "Relative Frequency Table gender\n",
      "Female    0.570668\n",
      "Male      0.429332\n",
      "Name: count, dtype: float64\n"
     ]
    }
   ],
   "source": [
    "gender_frequencies = df['gender'].value_counts()\n",
    "gender_relative_frequencies = gender_frequencies/gender_frequencies.sum()\n",
    "print(\"Frequency Table\", gender_frequencies)\n",
    "print(\"Relative Frequency Table\", gender_relative_frequencies)"
   ]
  },
  {
   "cell_type": "markdown",
   "id": "fb492051-9dbb-4c9f-9084-24be4b93ab82",
   "metadata": {},
   "source": [
    "Now, lets plot the the frequencies with bar plots."
   ]
  },
  {
   "cell_type": "code",
   "execution_count": 38,
   "id": "a69019c0-ba0f-4956-9a51-98e9bc046101",
   "metadata": {},
   "outputs": [
    {
     "data": {
      "text/plain": [
       "<Axes: xlabel='gender', ylabel='count'>"
      ]
     },
     "execution_count": 38,
     "metadata": {},
     "output_type": "execute_result"
    },
    {
     "data": {
      "image/png": "[encoded data removed]",
      "text/plain": [
       "<Figure size 640x480 with 1 Axes>"
      ]
     },
     "metadata": {},
     "output_type": "display_data"
    }
   ],
   "source": [
    "sns.countplot(data=df, x='gender')"
   ]
  },
  {
   "cell_type": "markdown",
   "id": "13453b7a-7af2-4b49-8d13-10bcec255d25",
   "metadata": {},
   "source": [
    "### Task 2 Descriptive Statistics and bar plot for marital_status\n",
    "\n",
    "You need to complete the code to compute the frequency and relative frequencies for the variable `marital_status`, and plot its bar plot to show its distribution."
   ]
  },
  {
   "cell_type": "code",
   "execution_count": null,
   "id": "ac280006-0f80-4389-843c-917cdbc2757c",
   "metadata": {},
   "outputs": [],
   "source": [
    "marital_status_frequencies = [PLEASE COMPLETE]\n",
    "marital_status_relative_frequencies = [PLEASE COMPLETE]\n",
    "print(\"Frequency Table\", marital_status_frequencies)\n",
    "print(\"Relative Frequency Table\", marital_status_relative_frequencies)"
   ]
  },
  {
   "cell_type": "code",
   "execution_count": null,
   "id": "2d2554d8-e9c0-46fc-888e-aa98d4e9b3a2",
   "metadata": {},
   "outputs": [],
   "source": [
    "sns.countplot([PLEASE COMPLETE])"
   ]
  },
  {
   "cell_type": "markdown",
   "id": "b6ee18dc-561d-42e8-8244-8b1e438f837c",
   "metadata": {},
   "source": [
    "## Contigency Tables"
   ]
  },
  {
   "cell_type": "markdown",
   "id": "c8a16e98-ec09-4173-86da-26ca67bde23a",
   "metadata": {},
   "source": [
    "To understand if people's gender or marital status impact whether or not they smoke, we can create the contigency table, and plot the corresponding bar plot."
   ]
  },
  {
   "cell_type": "code",
   "execution_count": 45,
   "id": "06ef534e-73e2-4fae-854b-981e74e29d6f",
   "metadata": {},
   "outputs": [
    {
     "data": {
      "text/html": [
       "<div>\n",
       "<style scoped>\n",
       "    .dataframe tbody tr th:only-of-type {\n",
       "        vertical-align: middle;\n",
       "    }\n",
       "\n",
       "    .dataframe tbody tr th {\n",
       "        vertical-align: top;\n",
       "    }\n",
       "\n",
       "    .dataframe thead th {\n",
       "        text-align: right;\n",
       "    }\n",
       "</style>\n",
       "<table border=\"1\" class=\"dataframe\">\n",
       "  <thead>\n",
       "    <tr style=\"text-align: right;\">\n",
       "      <th>smoke</th>\n",
       "      <th>No</th>\n",
       "      <th>Yes</th>\n",
       "    </tr>\n",
       "    <tr>\n",
       "      <th>gender</th>\n",
       "      <th></th>\n",
       "      <th></th>\n",
       "    </tr>\n",
       "  </thead>\n",
       "  <tbody>\n",
       "    <tr>\n",
       "      <th>Female</th>\n",
       "      <td>731</td>\n",
       "      <td>234</td>\n",
       "    </tr>\n",
       "    <tr>\n",
       "      <th>Male</th>\n",
       "      <td>539</td>\n",
       "      <td>187</td>\n",
       "    </tr>\n",
       "  </tbody>\n",
       "</table>\n",
       "</div>"
      ],
      "text/plain": [
       "smoke    No  Yes\n",
       "gender          \n",
       "Female  731  234\n",
       "Male    539  187"
      ]
     },
     "execution_count": 45,
     "metadata": {},
     "output_type": "execute_result"
    }
   ],
   "source": [
    "contigency_table_gender_smoke = pd.crosstab(df['gender'], df['smoke'])\n",
    "contigency_table_gender_smoke"
   ]
  },
  {
   "cell_type": "code",
   "execution_count": 43,
   "id": "0d33d9cb-5cf6-497c-89da-1260fb140daa",
   "metadata": {},
   "outputs": [
    {
     "name": "stderr",
     "output_type": "stream",
     "text": [
      "/home/jasongong/anaconda3/envs/dissertation/lib/python3.11/site-packages/seaborn/_base.py:948: FutureWarning: When grouping with a length-1 list-like, you will need to pass a length-1 tuple to get_group in a future version of pandas. Pass `(name,)` instead of `name` to silence this warning.\n",
      "  data_subset = grouped_data.get_group(pd_key)\n",
      "/home/jasongong/anaconda3/envs/dissertation/lib/python3.11/site-packages/seaborn/_base.py:948: FutureWarning: When grouping with a length-1 list-like, you will need to pass a length-1 tuple to get_group in a future version of pandas. Pass `(name,)` instead of `name` to silence this warning.\n",
      "  data_subset = grouped_data.get_group(pd_key)\n"
     ]
    },
    {
     "data": {
      "image/png": "[encoded data removed]",
      "text/plain": [
       "<Figure size 640x480 with 1 Axes>"
      ]
     },
     "metadata": {},
     "output_type": "display_data"
    }
   ],
   "source": [
    "sns.countplot(data=df, x=\"gender\", hue=\"smoke\")\n",
    "plt.show()"
   ]
  },
  {
   "cell_type": "markdown",
   "id": "a3885a47-f80a-4350-b89a-9f5700505b37",
   "metadata": {},
   "source": [
    "### Task 3 Contigency Table and frequency table for smoke and marital status"
   ]
  },
  {
   "cell_type": "markdown",
   "id": "f4b96e27-3dd8-4db5-9354-e44bd176e602",
   "metadata": {},
   "source": [
    "In this task, you need to complete the code to compute the contigency table and the barplot for smoke and marital status"
   ]
  },
  {
   "cell_type": "code",
   "execution_count": null,
   "id": "cb91d07c-0641-40e5-b7e8-74ceff03cc88",
   "metadata": {},
   "outputs": [],
   "source": [
    "contigency_table_marital_smoke = [PLEASE COMPLETE]\n",
    "contigency_table_marital_smoke"
   ]
  },
  {
   "cell_type": "code",
   "execution_count": null,
   "id": "a0f34fd7-47c9-4d7b-8e94-89f27487eeff",
   "metadata": {},
   "outputs": [],
   "source": [
    "sns.countplot([PLEASE COMPLETE])\n",
    "plt.show()"
   ]
  },
  {
   "cell_type": "markdown",
   "id": "d9be0e93-9b34-4243-8b73-7f0dcb37c069",
   "metadata": {},
   "source": [
    "## Conduct Chi Square Test for dependency\n",
    "\n",
    "If we want to test the significance of the relationship between smoke and gender, we can run a chi square test to test this idea. We can simply use the `chi2_contingency` function from `scipy.stats` by inputing the contigency table we created. "
   ]
  },
  {
   "cell_type": "code",
   "execution_count": 53,
   "id": "8b042b59-8af1-4eea-86fc-803c14ab8df0",
   "metadata": {},
   "outputs": [
    {
     "name": "stdout",
     "output_type": "stream",
     "text": [
      "Chi Square Statistics is 0.4269900285762064\n",
      "Chi Square test p value is 0.5134696034678925\n",
      "Chi Square test degree of freedom is 1\n"
     ]
    }
   ],
   "source": [
    "from scipy import stats\n",
    "\n",
    "chi_result_gender_smoke = stats.chi2_contingency(contigency_table_gender_smoke)\n",
    "chi_statistic_gender_smoke = chi_result_gender_smoke[0]\n",
    "chi_p_gender_smoke = chi_result_gender_smoke[1]\n",
    "chi_df_gender_smoke = chi_result_gender_smoke[2]\n",
    "print(\"Chi Square Statistics is {}\".format(chi_statistic_gender_smoke))\n",
    "print(\"Chi Square test p value is {}\".format(chi_p_gender_smoke))\n",
    "print(\"Chi Square test degree of freedom is {}\".format(chi_df_gender_smoke))"
   ]
  },
  {
   "cell_type": "markdown",
   "id": "b71a2809-b033-4efe-8eb5-e7a5a02c5532",
   "metadata": {},
   "source": [
    "### Task 4 Conduct the chi square test for dependency between marital status and smoking"
   ]
  },
  {
   "cell_type": "markdown",
   "id": "74ab4326-4dbe-445c-b860-f9f93ec481f0",
   "metadata": {},
   "source": [
    "Complete the following code to conduct the chi square test for denpendency between marital status and smoking"
   ]
  },
  {
   "cell_type": "code",
   "execution_count": null,
   "id": "d5a0c170-c30e-43f7-8f67-926d72ce82a6",
   "metadata": {},
   "outputs": [],
   "source": [
    "chi_result_marital_smoke = stats.chi2_contingency([PLEASE COMPLETE])\n",
    "chi_statistic_marital_smoke = chi_result_marital_smoke[0]\n",
    "chi_p_marital_smoke = chi_result_marital_smoke[1]\n",
    "chi_df_marital_smoke = chi_result_marital_smoke[2]\n",
    "print(\"Chi Square Statistics is {}\".format(chi_statistic_marital_smoke))\n",
    "print(\"Chi Square test p value is {}\".format(chi_p_marital_smoke))\n",
    "print(\"Chi Square test degree of freedom is {}\".format(chi_df_marital_smoke))"
   ]
  },
  {
   "cell_type": "markdown",
   "id": "566cae4c-fb13-4a56-a8dc-a5e8ec3c2246",
   "metadata": {},
   "source": [
    "## Correlation and Scatterplot for age and daily cigarettes consumption"
   ]
  },
  {
   "cell_type": "markdown",
   "id": "636eba73-5628-462f-9965-7a46f6de3882",
   "metadata": {},
   "source": [
    "To understand the relationship between age and daily cigarettees consumption, we can draw the scatterplot between these two variables and conduct a correlation test for these two variables. Next we draw the scatterplot with `seaborn` package and conduct the correlation test with `scipy.stats`."
   ]
  },
  {
   "cell_type": "code",
   "execution_count": 56,
   "id": "b8aa0d07-7151-4716-9682-d8b8d89dfe3c",
   "metadata": {},
   "outputs": [
    {
     "data": {
      "text/plain": [
       "<Axes: xlabel='age', ylabel='amt_daily'>"
      ]
     },
     "execution_count": 56,
     "metadata": {},
     "output_type": "execute_result"
    },
    {
     "data": {
      "image/png": "[encoded data removed]",
      "text/plain": [
       "<Figure size 640x480 with 1 Axes>"
      ]
     },
     "metadata": {},
     "output_type": "display_data"
    }
   ],
   "source": [
    "sns.scatterplot(data=df, x=\"age\", y=\"amt_daily\")"
   ]
  },
  {
   "cell_type": "code",
   "execution_count": 58,
   "id": "d662eb63-93f0-4c38-a01d-331dd3bcc21e",
   "metadata": {},
   "outputs": [
    {
     "name": "stdout",
     "output_type": "stream",
     "text": [
      "Correlation coefficient is -0.13682779637609022\n",
      "Correlation p value is 1.6135776767204487e-08\n"
     ]
    }
   ],
   "source": [
    "pearsonr_results = stats.pearsonr(df.age, df.amt_daily)\n",
    "correlation_coefficient = pearsonr_results[0]\n",
    "correlation_p = pearsonr_results[1]\n",
    "\n",
    "print(\"Correlation coefficient is {}\".format(correlation_coefficient))\n",
    "print(\"Correlation p value is {}\".format(correlation_p))"
   ]
  },
  {
   "cell_type": "markdown",
   "id": "cc0d7c1c-fdb6-4336-9236-4a0a148cda47",
   "metadata": {},
   "source": [
    "### Task 5 Reflection on the correlation test\n",
    "\n",
    "Do you think the above correlation test is a good test? Why or Why not? \n",
    "\n",
    "Please write down your answer in the `[PLEASE COMPLETE]`."
   ]
  },
  {
   "cell_type": "markdown",
   "id": "ee92b230-1037-4264-9024-7a9849d5c394",
   "metadata": {},
   "source": [
    "I think this test is [PLEASE COMPLETE]. The reason for this is [PLEASE COMPLETE]."
   ]
  },
  {
   "cell_type": "markdown",
   "id": "86847f98-a0e3-45af-9abe-76ef432f323a",
   "metadata": {},
   "source": [
    "## Data Transformation"
   ]
  },
  {
   "cell_type": "markdown",
   "id": "86e8ccfb-8200-4325-88fb-8ae8703fd755",
   "metadata": {},
   "source": [
    "One way to mitigate this issue is to only test the relationship for people who smoke. Thus, we can create a new dataset by filtering out people who do not smoke at all. "
   ]
  },
  {
   "cell_type": "code",
   "execution_count": 68,
   "id": "e577eccd-9d5c-4839-b437-4c3014ceb2f6",
   "metadata": {},
   "outputs": [
    {
     "data": {
      "text/html": [
       "<div>\n",
       "<style scoped>\n",
       "    .dataframe tbody tr th:only-of-type {\n",
       "        vertical-align: middle;\n",
       "    }\n",
       "\n",
       "    .dataframe tbody tr th {\n",
       "        vertical-align: top;\n",
       "    }\n",
       "\n",
       "    .dataframe thead th {\n",
       "        text-align: right;\n",
       "    }\n",
       "</style>\n",
       "<table border=\"1\" class=\"dataframe\">\n",
       "  <thead>\n",
       "    <tr style=\"text-align: right;\">\n",
       "      <th></th>\n",
       "      <th>Unnamed: 0</th>\n",
       "      <th>gender</th>\n",
       "      <th>age</th>\n",
       "      <th>marital_status</th>\n",
       "      <th>highest_qualification</th>\n",
       "      <th>nationality</th>\n",
       "      <th>ethnicity</th>\n",
       "      <th>gross_income</th>\n",
       "      <th>region</th>\n",
       "      <th>smoke</th>\n",
       "      <th>amt_weekends</th>\n",
       "      <th>amt_weekdays</th>\n",
       "      <th>type</th>\n",
       "      <th>amt_daily</th>\n",
       "    </tr>\n",
       "  </thead>\n",
       "  <tbody>\n",
       "    <tr>\n",
       "      <th>1</th>\n",
       "      <td>2</td>\n",
       "      <td>Female</td>\n",
       "      <td>42</td>\n",
       "      <td>Single</td>\n",
       "      <td>No Qualification</td>\n",
       "      <td>British</td>\n",
       "      <td>White</td>\n",
       "      <td>Under 2,600</td>\n",
       "      <td>The North</td>\n",
       "      <td>Yes</td>\n",
       "      <td>12.0</td>\n",
       "      <td>12.0</td>\n",
       "      <td>Packets</td>\n",
       "      <td>12.000000</td>\n",
       "    </tr>\n",
       "    <tr>\n",
       "      <th>6</th>\n",
       "      <td>7</td>\n",
       "      <td>Male</td>\n",
       "      <td>53</td>\n",
       "      <td>Married</td>\n",
       "      <td>Degree</td>\n",
       "      <td>British</td>\n",
       "      <td>White</td>\n",
       "      <td>Above 36,400</td>\n",
       "      <td>The North</td>\n",
       "      <td>Yes</td>\n",
       "      <td>6.0</td>\n",
       "      <td>6.0</td>\n",
       "      <td>Packets</td>\n",
       "      <td>6.000000</td>\n",
       "    </tr>\n",
       "    <tr>\n",
       "      <th>8</th>\n",
       "      <td>9</td>\n",
       "      <td>Male</td>\n",
       "      <td>40</td>\n",
       "      <td>Single</td>\n",
       "      <td>GCSE/CSE</td>\n",
       "      <td>English</td>\n",
       "      <td>White</td>\n",
       "      <td>2,600 to 5,200</td>\n",
       "      <td>The North</td>\n",
       "      <td>Yes</td>\n",
       "      <td>8.0</td>\n",
       "      <td>8.0</td>\n",
       "      <td>Hand-Rolled</td>\n",
       "      <td>8.000000</td>\n",
       "    </tr>\n",
       "    <tr>\n",
       "      <th>9</th>\n",
       "      <td>10</td>\n",
       "      <td>Female</td>\n",
       "      <td>41</td>\n",
       "      <td>Married</td>\n",
       "      <td>No Qualification</td>\n",
       "      <td>English</td>\n",
       "      <td>White</td>\n",
       "      <td>5,200 to 10,400</td>\n",
       "      <td>The North</td>\n",
       "      <td>Yes</td>\n",
       "      <td>15.0</td>\n",
       "      <td>12.0</td>\n",
       "      <td>Packets</td>\n",
       "      <td>12.857143</td>\n",
       "    </tr>\n",
       "    <tr>\n",
       "      <th>20</th>\n",
       "      <td>21</td>\n",
       "      <td>Female</td>\n",
       "      <td>34</td>\n",
       "      <td>Married</td>\n",
       "      <td>GCSE/CSE</td>\n",
       "      <td>British</td>\n",
       "      <td>White</td>\n",
       "      <td>2,600 to 5,200</td>\n",
       "      <td>The North</td>\n",
       "      <td>Yes</td>\n",
       "      <td>6.0</td>\n",
       "      <td>12.0</td>\n",
       "      <td>Packets</td>\n",
       "      <td>10.285714</td>\n",
       "    </tr>\n",
       "    <tr>\n",
       "      <th>...</th>\n",
       "      <td>...</td>\n",
       "      <td>...</td>\n",
       "      <td>...</td>\n",
       "      <td>...</td>\n",
       "      <td>...</td>\n",
       "      <td>...</td>\n",
       "      <td>...</td>\n",
       "      <td>...</td>\n",
       "      <td>...</td>\n",
       "      <td>...</td>\n",
       "      <td>...</td>\n",
       "      <td>...</td>\n",
       "      <td>...</td>\n",
       "      <td>...</td>\n",
       "    </tr>\n",
       "    <tr>\n",
       "      <th>1674</th>\n",
       "      <td>1675</td>\n",
       "      <td>Female</td>\n",
       "      <td>31</td>\n",
       "      <td>Single</td>\n",
       "      <td>GCSE/O Level</td>\n",
       "      <td>Scottish</td>\n",
       "      <td>White</td>\n",
       "      <td>15,600 to 20,800</td>\n",
       "      <td>Scotland</td>\n",
       "      <td>Yes</td>\n",
       "      <td>20.0</td>\n",
       "      <td>10.0</td>\n",
       "      <td>Packets</td>\n",
       "      <td>12.857143</td>\n",
       "    </tr>\n",
       "    <tr>\n",
       "      <th>1680</th>\n",
       "      <td>1681</td>\n",
       "      <td>Male</td>\n",
       "      <td>24</td>\n",
       "      <td>Single</td>\n",
       "      <td>No Qualification</td>\n",
       "      <td>Scottish</td>\n",
       "      <td>White</td>\n",
       "      <td>Under 2,600</td>\n",
       "      <td>Scotland</td>\n",
       "      <td>Yes</td>\n",
       "      <td>15.0</td>\n",
       "      <td>15.0</td>\n",
       "      <td>Hand-Rolled</td>\n",
       "      <td>15.000000</td>\n",
       "    </tr>\n",
       "    <tr>\n",
       "      <th>1683</th>\n",
       "      <td>1684</td>\n",
       "      <td>Male</td>\n",
       "      <td>35</td>\n",
       "      <td>Married</td>\n",
       "      <td>No Qualification</td>\n",
       "      <td>Scottish</td>\n",
       "      <td>White</td>\n",
       "      <td>10,400 to 15,600</td>\n",
       "      <td>Scotland</td>\n",
       "      <td>Yes</td>\n",
       "      <td>3.0</td>\n",
       "      <td>12.0</td>\n",
       "      <td>Packets</td>\n",
       "      <td>9.428571</td>\n",
       "    </tr>\n",
       "    <tr>\n",
       "      <th>1687</th>\n",
       "      <td>1688</td>\n",
       "      <td>Female</td>\n",
       "      <td>49</td>\n",
       "      <td>Divorced</td>\n",
       "      <td>Other/Sub Degree</td>\n",
       "      <td>English</td>\n",
       "      <td>White</td>\n",
       "      <td>2,600 to 5,200</td>\n",
       "      <td>Scotland</td>\n",
       "      <td>Yes</td>\n",
       "      <td>20.0</td>\n",
       "      <td>20.0</td>\n",
       "      <td>Hand-Rolled</td>\n",
       "      <td>20.000000</td>\n",
       "    </tr>\n",
       "    <tr>\n",
       "      <th>1689</th>\n",
       "      <td>1690</td>\n",
       "      <td>Female</td>\n",
       "      <td>51</td>\n",
       "      <td>Married</td>\n",
       "      <td>No Qualification</td>\n",
       "      <td>English</td>\n",
       "      <td>White</td>\n",
       "      <td>2,600 to 5,200</td>\n",
       "      <td>Scotland</td>\n",
       "      <td>Yes</td>\n",
       "      <td>20.0</td>\n",
       "      <td>20.0</td>\n",
       "      <td>Packets</td>\n",
       "      <td>20.000000</td>\n",
       "    </tr>\n",
       "  </tbody>\n",
       "</table>\n",
       "<p>421 rows × 14 columns</p>\n",
       "</div>"
      ],
      "text/plain": [
       "      Unnamed: 0  gender  age marital_status highest_qualification  \\\n",
       "1              2  Female   42         Single      No Qualification   \n",
       "6              7    Male   53        Married                Degree   \n",
       "8              9    Male   40         Single              GCSE/CSE   \n",
       "9             10  Female   41        Married      No Qualification   \n",
       "20            21  Female   34        Married              GCSE/CSE   \n",
       "...          ...     ...  ...            ...                   ...   \n",
       "1674        1675  Female   31         Single          GCSE/O Level   \n",
       "1680        1681    Male   24         Single      No Qualification   \n",
       "1683        1684    Male   35        Married      No Qualification   \n",
       "1687        1688  Female   49       Divorced      Other/Sub Degree   \n",
       "1689        1690  Female   51        Married      No Qualification   \n",
       "\n",
       "     nationality ethnicity      gross_income     region smoke  amt_weekends  \\\n",
       "1        British     White       Under 2,600  The North   Yes          12.0   \n",
       "6        British     White      Above 36,400  The North   Yes           6.0   \n",
       "8        English     White    2,600 to 5,200  The North   Yes           8.0   \n",
       "9        English     White   5,200 to 10,400  The North   Yes          15.0   \n",
       "20       British     White    2,600 to 5,200  The North   Yes           6.0   \n",
       "...          ...       ...               ...        ...   ...           ...   \n",
       "1674    Scottish     White  15,600 to 20,800   Scotland   Yes          20.0   \n",
       "1680    Scottish     White       Under 2,600   Scotland   Yes          15.0   \n",
       "1683    Scottish     White  10,400 to 15,600   Scotland   Yes           3.0   \n",
       "1687     English     White    2,600 to 5,200   Scotland   Yes          20.0   \n",
       "1689     English     White    2,600 to 5,200   Scotland   Yes          20.0   \n",
       "\n",
       "      amt_weekdays         type  amt_daily  \n",
       "1             12.0      Packets  12.000000  \n",
       "6              6.0      Packets   6.000000  \n",
       "8              8.0  Hand-Rolled   8.000000  \n",
       "9             12.0      Packets  12.857143  \n",
       "20            12.0      Packets  10.285714  \n",
       "...            ...          ...        ...  \n",
       "1674          10.0      Packets  12.857143  \n",
       "1680          15.0  Hand-Rolled  15.000000  \n",
       "1683          12.0      Packets   9.428571  \n",
       "1687          20.0  Hand-Rolled  20.000000  \n",
       "1689          20.0      Packets  20.000000  \n",
       "\n",
       "[421 rows x 14 columns]"
      ]
     },
     "execution_count": 68,
     "metadata": {},
     "output_type": "execute_result"
    }
   ],
   "source": [
    "df_smoke = df[df.smoke==\"Yes\"]\n",
    "df_smoke"
   ]
  },
  {
   "cell_type": "markdown",
   "id": "df8f2840-6e35-4bde-91f1-df94b706de1b",
   "metadata": {},
   "source": [
    "### Task 6 Plot the scatterplot and conduct the correlation test on the dataset for people who smoke `df_smoke`"
   ]
  },
  {
   "cell_type": "code",
   "execution_count": null,
   "id": "72886b43-baa6-43bb-8ca5-bf499283598e",
   "metadata": {},
   "outputs": [],
   "source": [
    "sns.scatterplot(data=[PLEASE COMPLETE], x=\"age\", y=\"amt_daily\")"
   ]
  },
  {
   "cell_type": "code",
   "execution_count": null,
   "id": "2bbdec7f-bbc9-4752-bb61-6118db09dfb1",
   "metadata": {},
   "outputs": [],
   "source": [
    "pearsonr_smoke_results = stats.pearsonr([PLEASE COMPLETE])\n",
    "correlation_coefficient_smoke = pearsonr_smoke_results[0]\n",
    "correlation_p_smoke = pearsonr_smoke_results[1]\n",
    "\n",
    "print(\"Correlation coefficient is {}\".format(correlation_coefficient_smoke))\n",
    "print(\"Correlation p value is {}\".format(correlation_p_smoke))"
   ]
  }
 ],
 "metadata": {
  "kernelspec": {
   "display_name": "Python 3 (ipykernel)",
   "language": "python",
   "name": "python3"
  },
  "language_info": {
   "codemirror_mode": {
    "name": "ipython",
    "version": 3
   },
   "file_extension": ".py",
   "mimetype": "text/x-python",
   "name": "python",
   "nbconvert_exporter": "python",
   "pygments_lexer": "ipython3",
   "version": "3.11.6"
  }
 },
 "nbformat": 4,
 "nbformat_minor": 5
}
