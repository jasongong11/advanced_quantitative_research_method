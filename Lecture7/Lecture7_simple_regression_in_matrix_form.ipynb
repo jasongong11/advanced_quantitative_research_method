{
 "cells": [
  {
   "cell_type": "markdown",
   "id": "b6da281b-b0af-434d-950e-7225651f947f",
   "metadata": {
    "editable": true,
    "slideshow": {
     "slide_type": "slide"
    },
    "tags": [
     "Slides"
    ]
   },
   "source": [
    "# Regression in Matrix Form\n",
    "![matrix](./img/matrix_movie.avif)"
   ]
  },
  {
   "cell_type": "markdown",
   "id": "e2c27b1a-31d3-49dd-8104-04d4c566825f",
   "metadata": {
    "editable": true,
    "slideshow": {
     "slide_type": "slide"
    },
    "tags": [
     "Slides"
    ]
   },
   "source": [
    "## Reflection on Simple Linear Regression\n",
    "\n",
    "We have learned that the simple linear regression model as\n",
    "\n",
    "$$\n",
    "Y_i = \\beta_0 + \\beta_1X_i + \\epsilon_i\n",
    "$$\n",
    "$$\n",
    "\\epsilon_i \\overset{i.i.d}{\\sim} N(0, \\sigma^2)\n",
    "$$\n",
    "\n",
    "We can use this model to explain the linear relationship between the independent variable and the dependent variable. \n",
    "\n",
    "For instance,\n",
    "\n",
    "How does the **emotion valence in news headlines** impact its **virality**? "
   ]
  },
  {
   "cell_type": "markdown",
   "id": "1ba977de-01d2-4513-8f47-35a53cc5c529",
   "metadata": {
    "editable": true,
    "slideshow": {
     "slide_type": "slide"
    },
    "tags": [
     "Slides"
    ]
   },
   "source": [
    "## Dataset: Random Samples\n",
    "\n",
    "1. U.S. Stock Futures Surge Amid Efforts to Recover from Tariff-Induced Volatility​\n",
    "2. Vice President J.D. Vance's 'Chinese Peasants' Remark Sparks International Backlash​\n",
    "3. Wes Welker Joins Washington Commanders Staff, Reuniting with Kliff Kingsbury​\n",
    "4. Florida Gators Clinch NCAA Men's Basketball Championship in Narrow Victory Over Houston Cougars​\n",
    "5. New Insights on Dementia: Declining Age-Specific Rates and Promising Treatments Offer Hope​\n",
    "\n",
    "| index | Valence | Virality |\n",
    "| --- | --- | --- |\n",
    "| 0 | -1 | 3 | \n",
    "| 1 | 0  |  1  |\n",
    "| 2 | -3  |  5  |\n",
    "| 3 | 2  |  0  |\n",
    "| 4 | 1  |  1  |"
   ]
  },
  {
   "cell_type": "markdown",
   "id": "7b70a555-7b89-4ce1-b97f-0dc3a9a0e224",
   "metadata": {
    "editable": true,
    "slideshow": {
     "slide_type": "slide"
    },
    "tags": [
     "Slides"
    ]
   },
   "source": [
    "## Linear Regression Model\n",
    "\n",
    "What is the relationship between these two variables? We can draw the scatterplot shown below.\n",
    "\n",
    "![reg](./img/regression_estimate.png)"
   ]
  },
  {
   "cell_type": "markdown",
   "id": "f2de8567-1335-4462-b4b7-c9052a67acb0",
   "metadata": {
    "editable": true,
    "slideshow": {
     "slide_type": "slide"
    },
    "tags": [
     "Slides"
    ]
   },
   "source": [
    "## Simple Linear Regression\n",
    "We will have $Y_i = \\beta_0 + \\beta_1 * X_i + \\epsilon_i$, and we can use the **OLS** method to estimate for the parameter $\\beta_0$ and $\\beta_1$. \n",
    "\n",
    "$$\n",
    "\\hat{\\beta_1} = \\frac{\\sum (X_i-\\bar{X})(Y_i-\\bar{Y})}{\\sum (X_i-\\bar{X})^2} \\ \\ \\ \\ \\ \\ \\ \\ \\hat{\\beta_0} = \\bar{Y} - b_1 \\bar{X}\n",
    "$$\n",
    "\n",
    "And then we can conduct the t-tests based on the following table for these two statistics. \n",
    "\n",
    "|  | $b_0$ | $b_1$ |\n",
    "| --- | --- | --- |\n",
    "| $s.e.$ | $\\sqrt{MSE(\\frac{1}{n} + \\frac{\\bar{X}^2}{\\sum (X_i-\\bar{X})^2})}$  |  $\\sqrt{MSE \\frac{1}{\\sum (X_i -\\bar{X})^2}}$  |\n",
    "| $T$ Statistic | $T_{\\beta_0}= \\frac{\\bar{Y} - b_1 \\bar{X}}{\\sqrt{MSE(\\frac{1}{n} + \\frac{\\bar{X}^2}{\\sum (X_i-\\bar{X})^2})}}$  |  $T_{\\beta_1}= \\frac{\\frac{\\sum (X_i-\\bar{X})(Y_i-\\bar{Y})}{\\sum (X_i-\\bar{X})^2}}{\\sqrt{MSE \\frac{1}{\\sum (X_i -\\bar{X})^2}}}$  |"
   ]
  },
  {
   "cell_type": "markdown",
   "id": "bd968c4b-d720-4832-ad78-f875d97d32a7",
   "metadata": {
    "editable": true,
    "slideshow": {
     "slide_type": "slide"
    },
    "tags": [
     "Slides"
    ]
   },
   "source": [
    "## Simple Linear Regression in Matrix form\n",
    "Now, the question is that:\n",
    "\n",
    "1. Is there exists a simpler format to represent these formulas?\n",
    "2. What if we have additional independent variables to be added into the model?\n",
    "\n",
    "We need to use Matrix to represent our model and data. \n",
    "\n",
    "The question is how?"
   ]
  },
  {
   "cell_type": "markdown",
   "id": "06e8acd7-e41c-4437-8ae2-801d32a0f613",
   "metadata": {
    "editable": true,
    "slideshow": {
     "slide_type": "slide"
    },
    "tags": [
     "Slides"
    ]
   },
   "source": [
    "## Simple Linear Regression in Matrix form\n",
    "We can express the following model for each of our sample.\n",
    "\n",
    "$$\n",
    "\\begin{align}\n",
    "Y_1 = \\beta_0*1 + \\beta_1 * X_1 + \\epsilon_1\n",
    "\\\\\n",
    "Y_2 = \\beta_0*1 + \\beta_1 * X_2 + \\epsilon_2\n",
    "\\\\\n",
    "Y_3 = \\beta_0*1 + \\beta_1 * X_3 + \\epsilon_3\n",
    "\\\\\n",
    "Y_4 = \\beta_0*1 + \\beta_1 * X_4 + \\epsilon_4\n",
    "\\\\\n",
    "Y_5 = \\beta_0*1 + \\beta_1 * X_5 + \\epsilon_5\n",
    "\\end{align}\n",
    "$$\n",
    "\n",
    "By doing so, we can represent these equations into vectors and matrix. "
   ]
  },
  {
   "cell_type": "markdown",
   "id": "8f0e3d57-3ffd-471c-932c-a13422ba0575",
   "metadata": {
    "editable": true,
    "slideshow": {
     "slide_type": "slide"
    },
    "tags": [
     "Slides"
    ]
   },
   "source": [
    "## Response Vector, Regression Vector and Error Vector\n",
    "\n",
    "On the left side, we can express the random samples $Y_i$ as a vector of random variables $\\boldsymbol{Y}_{N\\times 1}$.\n",
    "\n",
    "$$\n",
    "\\boldsymbol{Y}_{5\\times 1}=\\begin{bmatrix} Y_1 \\\\ Y_2 \\\\ Y_3 \\\\ Y_4 \\\\ Y_5 \\end{bmatrix}\n",
    "$$\n",
    "\n",
    "On the right side, we can express it as the sum of two vectors, the regression vector and the **Error Vector** $\\boldsymbol{\\epsilon}_{N\\times 1}$.\n",
    "\n",
    "$$\n",
    "\\begin{bmatrix} Y_1 \\\\ Y_2 \\\\ Y_3 \\\\ Y_4 \\\\ Y_5 \\end{bmatrix} = \n",
    "\\begin{bmatrix} \n",
    "\\beta_0 * 1 + \\beta_1 * X_1 \\\\\n",
    "\\beta_0 * 1 + \\beta_1 * X_2 \\\\\n",
    "\\beta_0 * 1 + \\beta_1 * X_3 \\\\\n",
    "\\beta_0 * 1 + \\beta_1 * X_4 \\\\\n",
    "\\beta_0 * 1 + \\beta_1 * X_5 \\end{bmatrix} + \n",
    "\\begin{bmatrix} \\epsilon_1 \\\\ \\epsilon_2 \\\\ \\epsilon_3 \\\\ \\epsilon_4 \\\\ \\epsilon_5 \\end{bmatrix}\n",
    "$$"
   ]
  },
  {
   "cell_type": "markdown",
   "id": "216483a0-63b4-49d3-9cfc-cf5d96a70338",
   "metadata": {
    "editable": true,
    "slideshow": {
     "slide_type": "slide"
    },
    "tags": [
     "Slides"
    ]
   },
   "source": [
    "## Design matrix and Coefficient Vector\n",
    "\n",
    "How can we better represent the vector of the regression model $\\beta_0 * 1 + \\beta_1*X$? \n",
    "\n",
    "For each of the sample, we can write the regression model as a inner product between two vectors:\n",
    "\n",
    "$$\n",
    "\\beta_0 * 1 + \\beta_1 * X_1  = [1\\ \\ X_1] \\begin{bmatrix} \\beta_0 \\\\ \\beta_1 \\end{bmatrix} = \\vec{X_1}^T\\vec{\\beta}\n",
    "$$\n"
   ]
  },
  {
   "cell_type": "markdown",
   "id": "5cb6c19e-d619-4b42-ab2f-b64dbee1b0cc",
   "metadata": {
    "editable": true,
    "slideshow": {
     "slide_type": "slide"
    },
    "tags": [
     "Slides"
    ]
   },
   "source": [
    "## Design matrix and Coefficient Vector\n",
    "\n",
    "Now, lets consider the inner product between regression parameters and independent variables for all of the $N$ samples. \n",
    "\n",
    "We can construct a matrix for all independent variables, called **Design Matrix** $\\boldsymbol{X}$.\n",
    "\n",
    "$$\n",
    "\\boldsymbol{X}_{N \\times 2} = \\begin{bmatrix} 1 & X_1 \\\\ 1 & X_2 \\\\ 1 & X_3 \\\\ 1 & X_4 \\\\ 1 & X_5 \\end{bmatrix}_{5 \\times 2}\n",
    "$$\n",
    "\n",
    "And the vector of regression parameters including intercept $\\beta_0$ and slope $\\beta_1$, called **Coeffcient Vector** $\\boldsymbol{\\beta}$\n",
    "\n",
    "$$\n",
    "\\boldsymbol{\\beta}_{2 \\times 1} = \\begin{bmatrix} \\beta_0 \\\\ \\beta_1\\end{bmatrix}\n",
    "$$"
   ]
  },
  {
   "cell_type": "markdown",
   "id": "532c96a2-4e21-49fb-a818-e51b30fd3b18",
   "metadata": {
    "editable": true,
    "slideshow": {
     "slide_type": "slide"
    },
    "tags": [
     "Slides"
    ]
   },
   "source": [
    "## Regression Model in Matrix form\n",
    "\n",
    "It turns out the regression model vector can be expressed as the product of the design matrix and the coefficient vector:\n",
    "\n",
    "$$\n",
    "\\begin{bmatrix} \n",
    "\\beta_0 * 1 + \\beta_1 * X_1 \\\\\n",
    "\\beta_0 * 1 + \\beta_1 * X_2 \\\\\n",
    "\\beta_0 * 1 + \\beta_1 * X_3 \\\\\n",
    "\\beta_0 * 1 + \\beta_1 * X_4 \\\\\n",
    "\\beta_0 * 1 + \\beta_1 * X_5 \\end{bmatrix}_{5 \\times 1} = \n",
    "\\begin{bmatrix} 1 & X_1 \\\\ 1 & X_2 \\\\ 1 & X_3 \\\\ 1 & X_4 \\\\ 1 & X_5 \\end{bmatrix}_{5 \\times 2} \n",
    "\\begin{bmatrix} \\beta_0 \\\\ \\beta_1\\end{bmatrix}_{2 \\times 1} = \\boldsymbol{X} \\boldsymbol{\\beta}\n",
    "$$\n",
    "\n",
    "Thus, taken together, the **matrix form** of simple linear regression is \n",
    "\n",
    "$$\n",
    "\\boldsymbol{Y}_{N\\times1} = \\boldsymbol{X}_{N \\times 2}\\boldsymbol{\\beta}_{2 \\times 1} + \\boldsymbol{\\epsilon}_{N\\times 1}\n",
    "$$\n",
    "\n",
    "And it assumes:\n",
    "\n",
    "$$\n",
    "\\boldsymbol{E[\\epsilon]} = \\boldsymbol{0} \\ \\ \\ \\ \\ \\ \\boldsymbol{\\sigma^2\\{\\epsilon\\}}=\\sigma^2 \\boldsymbol{I}\n",
    "$$"
   ]
  },
  {
   "cell_type": "markdown",
   "id": "e41c0a3a-f246-415d-8c7a-26c7aca9de9b",
   "metadata": {
    "editable": true,
    "slideshow": {
     "slide_type": "slide"
    },
    "tags": [
     "Slides"
    ]
   },
   "source": [
    "## Regression assumption in matrix form\n",
    "\n",
    "The regression assumption as we have learned before is\n",
    "\n",
    "$$\n",
    "\\epsilon_i \\overset{i.i.d}{\\sim} N(0, \\sigma^2)\n",
    "$$\n",
    "\n",
    "It means that $E[\\epsilon_i]=0$ and $\\sigma^2\\{\\epsilon_i\\}=\\sigma^2$ and $Cov(\\epsilon_i, \\epsilon_j)=0$\n",
    "\n",
    "Thus, we would have \n",
    "\n",
    "$$\n",
    "\\boldsymbol{E[\\epsilon]} = \\begin{bmatrix} E[\\epsilon_1] \\\\ E[\\epsilon_2] \\\\ E[\\epsilon_3]\\\\ E[\\epsilon_4]\\\\ E[\\epsilon_5] \\end{bmatrix}_{5 \\times 1} = \n",
    "\\begin{bmatrix} 0 \\\\ 0 \\\\ 0 \\\\ 0 \\\\ 0 \\end{bmatrix}_{5 \\times 1} = \\boldsymbol{0}_{5\\times1}\n",
    "$$\n"
   ]
  },
  {
   "cell_type": "markdown",
   "id": "3e8bb152-70e8-4122-a320-d95664fe45cd",
   "metadata": {
    "editable": true,
    "slideshow": {
     "slide_type": "slide"
    },
    "tags": [
     "Slides"
    ]
   },
   "source": [
    "## Regression assumption in matrix form\n",
    "\n",
    "We can also construct the Variance-Covariance Matrix for $\\epsilon_i$ and $Y_i$\n",
    "\n",
    "$$\n",
    "\\boldsymbol{\\sigma^2\\{\\epsilon\\}} = \n",
    "\\begin{bmatrix} \n",
    "Var(\\epsilon_1) & Cov(\\epsilon_1, \\epsilon_2) & Cov(\\epsilon_1, \\epsilon_3) & Cov(\\epsilon_1, \\epsilon_4) & Cov(\\epsilon_1, \\epsilon_5) \\\\ \n",
    "Cov(\\epsilon_1, \\epsilon_2) & Var(\\epsilon_2) & Cov(\\epsilon_2, \\epsilon_3) & Cov(\\epsilon_2, \\epsilon_4) & Cov(\\epsilon_2, \\epsilon_5) \\\\\n",
    "Cov(\\epsilon_1, \\epsilon_3) & Cov(\\epsilon_2, \\epsilon_3) & Var(\\epsilon_3) & Cov(\\epsilon_3, \\epsilon_4) & Cov(\\epsilon_3, \\epsilon_5) \\\\\n",
    "Cov(\\epsilon_1, \\epsilon_4) & Cov(\\epsilon_2, \\epsilon_4) & Cov(\\epsilon_3, \\epsilon_4) & Var(\\epsilon_4) & Cov(\\epsilon_4, \\epsilon_5) \\\\\n",
    "Cov(\\epsilon_1, \\epsilon_5) & Cov(\\epsilon_2, \\epsilon_5) & Cov(\\epsilon_3, \\epsilon_5) & Cov(\\epsilon_4, \\epsilon_5) & Var(\\epsilon_5)\n",
    "\\end{bmatrix}_{5 \\times 5} = \n",
    "\\begin{bmatrix} \n",
    "\\sigma^2 & 0 & 0 & 0 & 0 \\\\\n",
    "0 & \\sigma^2 & 0 & 0 & 0 \\\\\n",
    "0 & 0 & \\sigma^2 & 0 & 0 \\\\\n",
    "0 & 0 & 0 & \\sigma^2 & 0 \\\\\n",
    "0 & 0 & 0 & 0 & \\sigma^2 \\\\\n",
    "\\end{bmatrix}_{5 \\times 5} = \\sigma^2 \\boldsymbol{I}_{N\\times1}\n",
    "$$\n",
    "\n",
    "\n",
    "$$\n",
    "\\boldsymbol{\\sigma^2\\{Y\\}} = \\boldsymbol{\\sigma^2\\{X\\beta+\\epsilon\\}} = \\boldsymbol{\\sigma^2\\{\\epsilon\\}} = \\sigma^2 \\boldsymbol{I}_{N\\times1}\n",
    "$$"
   ]
  },
  {
   "cell_type": "markdown",
   "id": "b3e61211-aa29-4ae7-80e7-fa9c6cac19fc",
   "metadata": {
    "editable": true,
    "slideshow": {
     "slide_type": "slide"
    },
    "tags": [
     "Slides"
    ]
   },
   "source": [
    "## Mean Response Vector\n",
    "\n",
    "The mean response of the regression model $\\hat{Y_i} = E[Y_i] = \\beta_0 + \\beta_1 X$ can be constructed in vector form as well\n",
    "\n",
    "$$\n",
    "\\boldsymbol{E[Y]} = \\boldsymbol{X}\\boldsymbol{\\beta}\n",
    "$$\n",
    "\n",
    "$$\n",
    "\\begin{bmatrix} E[Y_1] \\\\ E[Y_2] \\\\ E[Y_3] \\\\ E[Y_4] \\\\ E[Y_5] \\end{bmatrix}_{5 \\times 1} = \n",
    "\\begin{bmatrix} \\beta_0 * 1 + \\beta_1 X_1 \\\\ \\beta_0 * 1 + \\beta_1 X_2 \\\\ \\beta_0 * 1 + \\beta_1 X_3 \\\\ \\beta_0 * 1 + \\beta_1 X_4 \\\\\\beta_0 * 1 + \\beta_1 X_5 \\end{bmatrix}_{5 \\times 1} \\\\ =\n",
    "\\begin{bmatrix} 1 & X_1 \\\\ 1 & X_2 \\\\ 1 & X_3 \\\\ 1 & X_4 \\\\ 1 & X_5 \\end{bmatrix}_{5 \\times 2} \n",
    "\\begin{bmatrix} \\beta_0 \\\\ \\beta_1 \\end{bmatrix}_{2 \\times 1} \n",
    "$$"
   ]
  },
  {
   "cell_type": "markdown",
   "id": "3531e959-0398-4cc9-90fe-0c72590dc5e6",
   "metadata": {
    "editable": true,
    "slideshow": {
     "slide_type": "slide"
    },
    "tags": [
     "Slides"
    ]
   },
   "source": [
    "## Summary: Regression Model in Matrix Form\n",
    "\n",
    "1. Simple Regression in matrix form\n",
    "   \n",
    "   $\\boldsymbol{Y}_{N\\times1} = \\boldsymbol{X}_{N\\times2} \\boldsymbol{\\beta}_{2\\times1}+ \\boldsymbol{\\epsilon}_{N\\times1}$\n",
    "2. The random error is a random vector $\\boldsymbol{\\epsilon}_{N\\times1}$ with\n",
    "\n",
    "   $\\boldsymbol{E[\\epsilon]} = \\boldsymbol{0}_{N\\times1}$, and $\\boldsymbol{\\sigma^2\\{\\epsilon\\}} = \\sigma^2\\boldsymbol{I}_{N\\times N}$\n",
    "3. Normal Error model\n",
    "\n",
    "   $\\boldsymbol{\\epsilon} \\sim Normal_n(\\boldsymbol{0}, \\sigma^2\\boldsymbol{I}_{N\\times N})$\n",
    "4. For the mean response vector\n",
    "\n",
    "   $\\boldsymbol{E[Y]} = \\boldsymbol{X}\\boldsymbol{\\beta}$, and $\\boldsymbol{\\sigma^2\\{Y\\}}=\\sigma^2\\boldsymbol{I}$"
   ]
  },
  {
   "cell_type": "markdown",
   "id": "27850f12-c77a-4480-ab23-0eeb0082607e",
   "metadata": {
    "editable": true,
    "slideshow": {
     "slide_type": "slide"
    },
    "tags": [
     "Slides"
    ]
   },
   "source": [
    "## OLS Point Estimate for Regression Intercept and Slope\n",
    "\n",
    "Using regular expression, we have shown that the best estimates for regression parameters is to minimize the **sum of squared residuals**, called the **ordinary least squares** method. \n",
    "\n",
    "<div>\n",
    "<img src=\"./img/residuals.png\" width=\"700\"/>\n",
    "</div>"
   ]
  },
  {
   "cell_type": "markdown",
   "id": "027fee0c-9767-4e77-8cc3-7d182fc922be",
   "metadata": {
    "editable": true,
    "slideshow": {
     "slide_type": "slide"
    },
    "tags": [
     "Slides"
    ]
   },
   "source": [
    "## OLS in matrix form\n",
    "\n",
    "What OLS does is to find the parameter estimate $b_0$ and $b_1$, which minimizes \n",
    "\n",
    "$$\n",
    "Q(b_0, b_1) = \\sum_{i}^N (Y_i - b_0 - b_1 X_i)^2\n",
    "$$\n",
    "\n",
    "In matrix form, we have learned that the sum of squres is the inner product of the vector with itself\n",
    "\n",
    "$$\n",
    "\\sum X_i^2 = \\vec{X}^T \\vec{X}\n",
    "$$\n",
    "\n",
    "Additionally, we consider the point estimate as a vector to be estimated as $\\boldsymbol{b} = \\begin{bmatrix} b_0 \\\\ b_1 \\end{bmatrix}$\n",
    "\n",
    "\n",
    "Thus, the function to be minimized is essentially \n",
    "\n",
    "$$\n",
    "Q(b_0, b_1) = (\\boldsymbol{Y} - \\boldsymbol{X}\\boldsymbol{b})^T(\\boldsymbol{Y} - \\boldsymbol{X}\\boldsymbol{b}) = \n",
    "\\boldsymbol{Y^T Y - b^TX^TY - Y^TXb +b^TX^TXb}\n",
    "$$"
   ]
  },
  {
   "cell_type": "markdown",
   "id": "dfcd5846-a1e9-439f-a4a4-6289fa25f34f",
   "metadata": {
    "editable": true,
    "slideshow": {
     "slide_type": "slide"
    },
    "tags": [
     "Slides"
    ]
   },
   "source": [
    "## Find OLS Coefficient Vector\n",
    "\n",
    "Finding the regression coefficient estimates vector $\\boldsymbol{b}$ requires a bit calculus, which is skipped in this class\n",
    "\n",
    "But similar to what we have done previously, we can derive the normal equation\n",
    "\n",
    "$$\n",
    "\\boldsymbol{X^TXb = X^TY}\n",
    "$$\n",
    "\n",
    "In regular expression, from what we have learned, this is equivalent to \n",
    "\n",
    "$$\n",
    "\\sum Y_i = n\\hat{\\beta_0} + \\hat{\\beta_1}\\sum X_i\n",
    "$$\n",
    "$$\n",
    "\\sum X_i Y_i = \\hat{\\beta_0} \\sum X_i + \\hat{\\beta_1}\\sum X_i^2\n",
    "$$\n"
   ]
  },
  {
   "cell_type": "markdown",
   "id": "7809b28a-9d5e-4258-a658-e14011897176",
   "metadata": {
    "editable": true,
    "slideshow": {
     "slide_type": "slide"
    },
    "tags": [
     "Slides"
    ]
   },
   "source": [
    "## Find OLS Coefficient Vector by solving the normal equation\n",
    "\n",
    "How do we solve this equation to get $\\boldsymbol{b}$?\n",
    "\n",
    "We left multiply $\\boldsymbol{(X^TX)^{-1}}$ on both side of the equation\n",
    "\n",
    "$$\n",
    "\\boldsymbol{(X^TX)^{-1}X^TXb = (X^TX)^{-1}X^TY}\n",
    "$$\n",
    "\n",
    "Given that $\\boldsymbol{(X^TX)^{-1}X^TX = I}$\n",
    "\n",
    "We will have \n",
    "\n",
    "$$\n",
    "\\boldsymbol{Ib=(X^TX)^{-1}X^TY}\n",
    "$$\n",
    "Thus\n",
    "\n",
    "$$\n",
    "\\boldsymbol{b = (X^TX)^{-1}X^TY} = \n",
    "\\begin{bmatrix} \\bar{Y}-b_1\\bar{X} \\\\ \\frac{\\sum(X_i-\\bar{X})(Y_i-\\bar{Y})}{\\sum (X_i -\\bar{X})^2} \\end{bmatrix}\n",
    "$$"
   ]
  },
  {
   "cell_type": "markdown",
   "id": "d2a6b03a-1822-40f0-84ef-7ccc44364a5d",
   "metadata": {
    "editable": true,
    "slideshow": {
     "slide_type": "slide"
    },
    "tags": [
     "Slides"
    ]
   },
   "source": [
    "## Practice \n",
    "\n",
    "Now, let's solve this with the example we have shown above\n",
    "\n",
    "| index | Valence | Virality |\n",
    "| --- | --- | --- |\n",
    "| 0 | -1 | 3 | \n",
    "| 1 | 0  |  1  |\n",
    "| 2 | -3  |  5  |\n",
    "| 3 | 2  |  0  |\n",
    "| 4 | 1  |  1  |\n",
    "\n",
    "1. Construct the design matrix $\\boldsymbol{X}$ and the response variable vector $\\boldsymbol{Y}$\n",
    "2. Calculate $\\boldsymbol{X^TX}$\n",
    "3. Calculate $\\boldsymbol{(X^TX)^{-1}}$, recall that $\\begin{bmatrix} a & b \\\\ c & d \\end{bmatrix} ^{-1} = \\frac{1}{ad-bc}\\begin{bmatrix}d & -b \\\\ -c & a\\end{bmatrix}$\n",
    "4. Calculate $\\boldsymbol{X^TY}$\n",
    "5. Calculate $\\boldsymbol{b=(X^TX)^{-1}X^TY}$"
   ]
  },
  {
   "cell_type": "markdown",
   "id": "41ae6d17-3e0a-48b9-aa48-40894b225b10",
   "metadata": {
    "editable": true,
    "slideshow": {
     "slide_type": "slide"
    },
    "tags": [
     "Slides"
    ]
   },
   "source": [
    "## Expected value and Variance of coefficient\n",
    "\n",
    "We have shown that $\\boldsymbol{b = (X^TX)^{-1}X^TY}$\n",
    "\n",
    "Because in regression model, we assume $\\boldsymbol{X}$ is know values, thus the matrix $\\boldsymbol{(X^TX)^{-1}X^T}$ is a known matrix. \n",
    "\n",
    "Thus, we can consider the regression coefficient $\\boldsymbol{b}$ as a product of a known matrix $\\boldsymbol{(X^TX)^{-1}X^T}$ and the random variable vector $\\boldsymbol{Y}$.\n",
    "\n",
    "Or in other words, we can consider $\\boldsymbol{b}$ as a linear combination of $\\boldsymbol{Y}$, or as a linear transformation of $\\boldsymbol{Y}$ by the matrix $\\boldsymbol{(X^TX)^{-1}X^T}$.\n",
    "\n",
    "We assume that $\\boldsymbol{Y}$ follows normal distributions under the normal error model, and it implies that $\\boldsymbol{b}$ also follows a normal distribution. \n",
    "\n",
    "Now the question is, what is the expected value and variance-covariance of the coefficient vector $\\boldsymbol{b}$, so that we can use them for statistical significance testing?"
   ]
  },
  {
   "cell_type": "markdown",
   "id": "7decc3e0-40c9-46d7-a287-8cb0e3da383f",
   "metadata": {
    "editable": true,
    "slideshow": {
     "slide_type": "slide"
    },
    "tags": [
     "Slides"
    ]
   },
   "source": [
    "## Expected value and Variance of random vector\n",
    "\n",
    "First, we need to learn about some rules of expected value and variance of random variables in matrix form. \n",
    "\n",
    "In regular form, we have learned that for a random variable $X$ and a constant $a$\n",
    "\n",
    "$$\n",
    "\\begin{align}\n",
    "E[aX] &= aE[X]\n",
    "\\\\\n",
    "Var(aX) &= a^2Var(X)\n",
    "\\end{align}\n",
    "$$\n",
    "\n",
    "Now, in matrix form, for a random variable vector $\\boldsymbol{X}_{r\\times 1}$ and a known matrix $\\boldsymbol{A}_{s\\times r}$, we will have\n",
    "\n",
    "$$\n",
    "\\begin{align}\n",
    "\\boldsymbol{E[AX]} &= \\boldsymbol{AE[X]}\n",
    "\\\\\n",
    "\\boldsymbol{\\sigma^2\\{AX\\}} &= \\boldsymbol{A\\sigma^2\\{X\\}A^T}\n",
    "\\end{align}\n",
    "$$"
   ]
  },
  {
   "cell_type": "markdown",
   "id": "f428010b-5692-4a56-ae41-99943389b42f",
   "metadata": {
    "editable": true,
    "slideshow": {
     "slide_type": "slide"
    },
    "tags": [
     "Slides"
    ]
   },
   "source": [
    "## Expected value of Coeffcient vector\n",
    "\n",
    "Now, we can start working on the expected value and the variance-covariance of the coefficient vector $\\boldsymbol{b}$.\n",
    "\n",
    "$$\n",
    "\\begin{align} \n",
    "\\boldsymbol{E[b]} &= \\boldsymbol{E[(X^TX)^{-1}X^TY]}\n",
    "\\\\\n",
    "&= \\boldsymbol{(X^TX)^{-1}X^TE[Y]}\n",
    "\\\\\n",
    "&= \\boldsymbol{(X^TX)^{-1}X^TX\\beta} \\ \\ \\ \\ \\ \\ \\ \\ \\ \\text{given that $\\boldsymbol{E[Y]=X\\beta}$}\n",
    "\\\\\n",
    "&= \\boldsymbol{I\\beta} = \\boldsymbol{\\beta} \\ \\ \\ \\ \\ \\ \\ \\ \\ \\ \\ \\ \\text{Given that $\\boldsymbol{(X^TX)^{-1}X^TX=I}$}\n",
    "\\end{align}\n",
    "$$"
   ]
  },
  {
   "cell_type": "markdown",
   "id": "2d23b630-a696-40a7-a19e-9fdf84092fe7",
   "metadata": {
    "editable": true,
    "slideshow": {
     "slide_type": "slide"
    },
    "tags": [
     "Slides"
    ]
   },
   "source": [
    "## Variance-Covariance of coefficient vector\n",
    "\n",
    "What about the variance-covariance of the coefficient vector $\\boldsymbol{b}$?\n",
    "\n",
    "$$\n",
    "\\begin{align}\n",
    "\\boldsymbol{\\sigma^2\\{b\\}} &= \\boldsymbol{\\sigma^2\\{(X^TX)^{-1}X^TY\\}}\n",
    "\\\\\n",
    "&= \\boldsymbol{(X^TX)^{-1}X^T \\sigma^2\\{Y\\} ((X^TX)^{-1}X^T)^T}\n",
    "\\\\\n",
    "&= \\boldsymbol{(X^TX)^{-1}X^T \\sigma^2\\{Y\\} ((X^TX)^{-1}X^T)^T}\n",
    "\\\\\n",
    "&= \\boldsymbol{(X^TX)^{-1}X^T} \\sigma^2 \\boldsymbol{I ((X^TX)^{-1}X^T)^T} \\ \\ \\ \\ \\ \\ \\ \\ \\ \\text{given that $\\boldsymbol{Y} = \\sigma^2\\boldsymbol{I}$}\n",
    "\\\\\n",
    "&= \\sigma^2 \\boldsymbol{(X^TX)^{-1}X^T((X^TX)^{-1}X^T)^T}\n",
    "\\\\\n",
    "&= \\sigma^2 \\boldsymbol{(X^TX)^{-1}X^TX(X^TX)^{-1}}\n",
    "\\\\\n",
    "&= \\sigma^2 \\boldsymbol{(X^TX)^{-1}} \\ \\ \\ \\ \\ \\ \\ \\ \\text{given that $\\boldsymbol{(X^TX)^{-1}X^TX} = \\boldsymbol{I}$}\n",
    "\\\\\n",
    "&= \\sigma^2\n",
    "\\begin{bmatrix}\n",
    "\\frac{1}{n}+\\frac{\\bar{X}^2}{\\sum(X_i-\\bar{X})^2} & -\\frac{\\bar{X}}{\\sum(X_i-\\bar{X})^2} \\\\\n",
    "-\\frac{\\bar{X}}{\\sum(X_i-\\bar{X})^2} & \\frac{1}{\\sum (X_i-\\bar{X})^2}\n",
    "\\end{bmatrix}\n",
    "\\end{align}\n",
    "$$\n",
    "\n",
    "Thus, we can conduct $t$ test using $\\hat{\\sigma^2} = MSE = \\boldsymbol{(Y-Xb)^T(Y-Xb)}/(n-2)$"
   ]
  },
  {
   "cell_type": "markdown",
   "id": "0efe6a85-50ce-4af6-83c8-38de1223ca51",
   "metadata": {
    "editable": true,
    "slideshow": {
     "slide_type": "slide"
    },
    "tags": [
     "Slides"
    ]
   },
   "source": [
    "## Mean Response Vector and Hat Matrix\n",
    "\n",
    "We have shown that $\\boldsymbol{b = (X^TX)^{-1}X^TY}$, thus it is pretty straightforward to derive the mean response vector for dependent variable $\\boldsymbol{\\hat{Y}}$\n",
    "\n",
    "$$\n",
    "\\boldsymbol{\\hat{Y}} = \\boldsymbol{Xb} = \\boldsymbol{X(X^TX)^{-1}X^TY}\n",
    "$$\n",
    "\n",
    "Note that the predicted value of $\\boldsymbol{\\hat{Y}}$ on the regression line is just a linear transformation or project of the actual observed samples $\\boldsymbol{Y}$, by the projection matrix $\\boldsymbol{X(X^TX)^{-1}X^T}$.\n",
    "\n",
    "We define this project matrix as the **Hat Matrix** $\\boldsymbol{H}$, because it transforms observed data $\\boldsymbol{Y}$ into estimated values $\\boldsymbol{\\hat{Y}}$\n",
    "\n",
    "$$\n",
    "\\boldsymbol{H} = \\boldsymbol{X(X^TX)^{-1}X^T}\n",
    "$$\n",
    "$$\n",
    "\\boldsymbol{\\hat{Y}} = \\boldsymbol{HY}\n",
    "$$"
   ]
  },
  {
   "cell_type": "markdown",
   "id": "1659dd29-5733-4daf-8b7a-501a7a141f28",
   "metadata": {
    "editable": true,
    "slideshow": {
     "slide_type": "slide"
    },
    "tags": [
     "Slides"
    ]
   },
   "source": [
    "## ANOVA test in matrix form\n",
    "\n",
    "Just like in regular form, we can express the $F$ test in matrix form as well. \n",
    "\n",
    "We need to calcualte $SSR$, $SSE$, $SSTO$, and $MSR$, $MSE$\n",
    "\n",
    "$$\n",
    "\\begin{align}\n",
    "\\boldsymbol{e} &= \\boldsymbol{Y-\\hat{Y}} = \\boldsymbol{Y - HY} = \\boldsymbol{(I-H)Y}\n",
    "\\\\\n",
    "SSE &= \\boldsymbol{e^Te} = \\boldsymbol{Y^T(I-H)^T(I-H)Y} = \\boldsymbol{Y^T(I-H)Y}\n",
    "\\\\\n",
    "MSE &= \\frac{SSE}{df(SSE)} = \\frac{SSE}{n-2}\n",
    "\\\\\n",
    "SSTO &= \\sum(Y_i-\\bar{Y})^2 = \\sum(Y_i)^2 - n\\bar{Y}^2 \n",
    "\\\\\n",
    "&= \\boldsymbol{Y^TY}-\\frac{1}{n}\\boldsymbol{Y^TJY} = \\boldsymbol{Y^T(I-\\frac{1}{n}J)Y}\n",
    "\\end{align}\n",
    "$$\n",
    "\n",
    "The $\\boldsymbol{J}$ matrix is the square matrix with all 1 in its entries\n",
    "$$\n",
    "\\boldsymbol{J} = \\begin{bmatrix} \n",
    "1& 1& ... & 1\\\\\n",
    "1& 1& ... & 1\\\\\n",
    "... & ... & ... & ...\\\\\n",
    "1& 1& ... & 1\n",
    "\\end{bmatrix}\n",
    "$$"
   ]
  },
  {
   "cell_type": "markdown",
   "id": "7332f3d1-8f3a-46f6-ae8d-6dbd898e11d6",
   "metadata": {
    "editable": true,
    "slideshow": {
     "slide_type": "slide"
    },
    "tags": [
     "Slides"
    ]
   },
   "source": [
    "## Research Example: Negativity Bias in News Headlines\n",
    "\n",
    "### Negativity Bias\n",
    "\n",
    "When you are browsing a news website and searching for which news you want to read, **negativity bias** means that people are biased to choose negative news (bad news) as compared to positive news (good news). \n",
    "\n",
    "Which news you want to read?\n",
    "\n",
    "![news](./img/news_selection.png)"
   ]
  },
  {
   "cell_type": "markdown",
   "id": "5701ccbd-7c36-4d4a-a926-d36945939a03",
   "metadata": {
    "editable": true,
    "slideshow": {
     "slide_type": "slide"
    },
    "tags": [
     "Slides"
    ]
   },
   "source": [
    "## Research example\n",
    "\n",
    "![study](./img/negativity_bias_nature.png)"
   ]
  },
  {
   "cell_type": "markdown",
   "id": "f4ccc055-2ce3-416e-9142-4528dff8ca6e",
   "metadata": {
    "editable": true,
    "slideshow": {
     "slide_type": "slide"
    },
    "tags": [
     "Slides"
    ]
   },
   "source": [
    "## Dataset introduction: Upworthy\n",
    "\n",
    "![data](./img/upworthy.jpeg)"
   ]
  },
  {
   "cell_type": "markdown",
   "id": "ed707949-a120-43ec-854f-87776cbff7d6",
   "metadata": {
    "editable": true,
    "slideshow": {
     "slide_type": "slide"
    },
    "tags": [
     "Slides"
    ]
   },
   "source": [
    "## Dataset introduction: Upworthy Archive\n",
    "\n",
    "**A/B Testing**\n",
    "\n",
    "![data](./img/upworthy_ab_testing.webp)\n",
    "\n",
    "\n",
    "![metric](./img/upworthy_metrics.webp)"
   ]
  },
  {
   "cell_type": "markdown",
   "id": "5d6d7ced-786b-4335-9141-90b38f5af915",
   "metadata": {
    "editable": true,
    "slideshow": {
     "slide_type": "slide"
    },
    "tags": [
     "Slides"
    ]
   },
   "source": [
    "## Dataset introduction: Upworthy Archive\n",
    "\n",
    "The [upworthy archive dataset](https://upworthy.natematias.com/about-the-archive.html) contains 128,217 of such a/b testing results. \n",
    "\n",
    "The dependent variable in this dataset will be **Click Through Rate**, which measures the probability of people clicking on the news after viewing the headline as a measure of the attractiveness of the news headline. \n",
    "\n",
    "$$\n",
    "Click\\_Through\\_Rate = \\frac{\\#\\ Clicks}{\\#\\ Impressions}\n",
    "$$\n",
    "\n",
    "What are the independent variables? \n",
    "\n",
    "It is a set of computationally measured language features using Natural Language Processing techniques. "
   ]
  },
  {
   "cell_type": "markdown",
   "id": "e9332a06-03e9-4517-8775-7c2e902d0711",
   "metadata": {
    "editable": true,
    "slideshow": {
     "slide_type": "slide"
    },
    "tags": [
     "Slides"
    ]
   },
   "source": [
    "## Hypothesis of Negativity Bias\n",
    "\n",
    "Now, lets just keep it simple. We want to test the negaitivty bias hypothesis. \n",
    "\n",
    "We focuse on the percentage of negative words in the headline to be associated with the click-through-rate of the headline. \n",
    "\n",
    "$$\n",
    "Click\\_Through\\_Rate_i = \\beta_0 + \\beta_1 * Percentage\\_Negative\\_Words_i + \\epsilon_i\n",
    "$$\n",
    "$$\n",
    "\\epsilon_i \\sim N(0, \\sigma^2)\n",
    "$$\n",
    "\n",
    "Now lets start analyze the data!"
   ]
  },
  {
   "cell_type": "markdown",
   "id": "15fc0a24-3759-47ba-9909-b78a7eaf9560",
   "metadata": {
    "editable": true,
    "slideshow": {
     "slide_type": "slide"
    },
    "tags": [
     "Slides"
    ]
   },
   "source": [
    "## Load packages"
   ]
  },
  {
   "cell_type": "code",
   "execution_count": 29,
   "id": "4a1f0aa0-77cc-46d2-b3d5-3051e2991e7a",
   "metadata": {
    "editable": true,
    "slideshow": {
     "slide_type": "subslide"
    },
    "tags": [
     "Slides"
    ]
   },
   "outputs": [],
   "source": [
    "import pandas as pd\n",
    "import numpy as np\n",
    "import seaborn as sns\n",
    "from matplotlib import pyplot as plt\n",
    "from statsmodels.tools.tools import add_constant\n",
    "from scipy import stats"
   ]
  },
  {
   "cell_type": "markdown",
   "id": "64074d4c-a33b-4238-86af-49b66a1c45fa",
   "metadata": {
    "editable": true,
    "slideshow": {
     "slide_type": "slide"
    },
    "tags": [
     "Slides"
    ]
   },
   "source": [
    "## Load Data"
   ]
  },
  {
   "cell_type": "code",
   "execution_count": 3,
   "id": "1c2f0e1a-2b2e-484d-957e-413d6e448e44",
   "metadata": {
    "editable": true,
    "slideshow": {
     "slide_type": "subslide"
    },
    "tags": [
     "Slides"
    ]
   },
   "outputs": [
    {
     "name": "stderr",
     "output_type": "stream",
     "text": [
      "/tmp/ipykernel_4053143/1616332058.py:1: DtypeWarning: Columns (6) have mixed types. Specify dtype option on import or set low_memory=False.\n",
      "  df = pd.read_csv(\"./data/negativity_bias_regression_df.csv\")\n"
     ]
    },
    {
     "data": {
      "text/html": [
       "<div>\n",
       "<style scoped>\n",
       "    .dataframe tbody tr th:only-of-type {\n",
       "        vertical-align: middle;\n",
       "    }\n",
       "\n",
       "    .dataframe tbody tr th {\n",
       "        vertical-align: top;\n",
       "    }\n",
       "\n",
       "    .dataframe thead th {\n",
       "        text-align: right;\n",
       "    }\n",
       "</style>\n",
       "<table border=\"1\" class=\"dataframe\">\n",
       "  <thead>\n",
       "    <tr style=\"text-align: right;\">\n",
       "      <th></th>\n",
       "      <th>liwc_negemo</th>\n",
       "      <th>click_rate</th>\n",
       "    </tr>\n",
       "  </thead>\n",
       "  <tbody>\n",
       "    <tr>\n",
       "      <th>0</th>\n",
       "      <td>0.000000</td>\n",
       "      <td>0.013271</td>\n",
       "    </tr>\n",
       "    <tr>\n",
       "      <th>1</th>\n",
       "      <td>0.000000</td>\n",
       "      <td>0.010049</td>\n",
       "    </tr>\n",
       "    <tr>\n",
       "      <th>2</th>\n",
       "      <td>0.052632</td>\n",
       "      <td>0.009615</td>\n",
       "    </tr>\n",
       "    <tr>\n",
       "      <th>3</th>\n",
       "      <td>0.047619</td>\n",
       "      <td>0.028881</td>\n",
       "    </tr>\n",
       "    <tr>\n",
       "      <th>4</th>\n",
       "      <td>0.000000</td>\n",
       "      <td>0.007744</td>\n",
       "    </tr>\n",
       "  </tbody>\n",
       "</table>\n",
       "</div>"
      ],
      "text/plain": [
       "   liwc_negemo  click_rate\n",
       "0     0.000000    0.013271\n",
       "1     0.000000    0.010049\n",
       "2     0.052632    0.009615\n",
       "3     0.047619    0.028881\n",
       "4     0.000000    0.007744"
      ]
     },
     "execution_count": 3,
     "metadata": {},
     "output_type": "execute_result"
    }
   ],
   "source": [
    "df = pd.read_csv(\"./data/negativity_bias_regression_df.csv\")\n",
    "df[[\"liwc_negemo\", \"click_rate\"]].head()"
   ]
  },
  {
   "cell_type": "code",
   "execution_count": 4,
   "id": "c1dbcef1-f077-4428-8041-5a2e11653ffc",
   "metadata": {
    "editable": true,
    "slideshow": {
     "slide_type": "slide"
    },
    "tags": [
     "Slides"
    ]
   },
   "outputs": [
    {
     "data": {
      "text/plain": [
       "<Axes: xlabel='liwc_negemo', ylabel='click_rate'>"
      ]
     },
     "execution_count": 4,
     "metadata": {},
     "output_type": "execute_result"
    },
    {
     "data": {
      "image/png": "[encoded data removed]",
      "text/plain": [
       "<Figure size 640x480 with 1 Axes>"
      ]
     },
     "metadata": {},
     "output_type": "display_data"
    }
   ],
   "source": [
    "sns.regplot(x=df.liwc_negemo, y=df.click_rate, scatter_kws={\"alpha\":0.1, \"s\":2}, line_kws={\"color\": \"black\"})"
   ]
  },
  {
   "cell_type": "markdown",
   "id": "80546bc6-138e-4ce5-be21-a8eaf1fad493",
   "metadata": {
    "editable": true,
    "slideshow": {
     "slide_type": "slide"
    },
    "tags": [
     "Slides"
    ]
   },
   "source": [
    "## Design Matrix"
   ]
  },
  {
   "cell_type": "code",
   "execution_count": 5,
   "id": "8a6a0b9a-b7ea-4825-92e4-9ba71f4a41ba",
   "metadata": {
    "editable": true,
    "slideshow": {
     "slide_type": "subslide"
    },
    "tags": [
     "Slides"
    ]
   },
   "outputs": [
    {
     "name": "stdout",
     "output_type": "stream",
     "text": [
      "(53699, 2)\n"
     ]
    },
    {
     "data": {
      "text/plain": [
       "array([[1.        , 0.        ],\n",
       "       [1.        , 0.        ],\n",
       "       [1.        , 0.05263158],\n",
       "       ...,\n",
       "       [1.        , 0.05263158],\n",
       "       [1.        , 0.        ],\n",
       "       [1.        , 0.        ]])"
      ]
     },
     "execution_count": 5,
     "metadata": {},
     "output_type": "execute_result"
    }
   ],
   "source": [
    "X = df.liwc_negemo.to_numpy()\n",
    "X = add_constant(X)\n",
    "print(X.shape)\n",
    "X"
   ]
  },
  {
   "cell_type": "markdown",
   "id": "06d906e0-182b-416a-9b14-45833b98d69c",
   "metadata": {
    "editable": true,
    "slideshow": {
     "slide_type": "slide"
    },
    "tags": [
     "Slides"
    ]
   },
   "source": [
    "## Response Vector"
   ]
  },
  {
   "cell_type": "code",
   "execution_count": 6,
   "id": "6b02a73b-128c-4cd9-b9e2-34929e8d321a",
   "metadata": {
    "editable": true,
    "slideshow": {
     "slide_type": "subslide"
    },
    "tags": [
     "Slides"
    ]
   },
   "outputs": [
    {
     "name": "stdout",
     "output_type": "stream",
     "text": [
      "(53699,)\n"
     ]
    }
   ],
   "source": [
    "Y = df.click_rate.to_numpy()\n",
    "print(Y.shape)"
   ]
  },
  {
   "cell_type": "markdown",
   "id": "ea494d1e-1f1a-49af-b232-1a70420d16b1",
   "metadata": {
    "editable": true,
    "slideshow": {
     "slide_type": "subslide"
    },
    "tags": [
     "Slides"
    ]
   },
   "source": [
    "## OSL point estimate"
   ]
  },
  {
   "cell_type": "code",
   "execution_count": 7,
   "id": "451bf1a8-6aa8-46f0-9e14-ca60b79e50be",
   "metadata": {
    "editable": true,
    "slideshow": {
     "slide_type": ""
    },
    "tags": []
   },
   "outputs": [
    {
     "name": "stdout",
     "output_type": "stream",
     "text": [
      "[0.01338262 0.0198131 ]\n"
     ]
    }
   ],
   "source": [
    "b = np.linalg.inv(X.T @ X) @ X.T @ Y\n",
    "b0 = b[0]\n",
    "b1 = b[1]\n",
    "print(b)"
   ]
  },
  {
   "cell_type": "markdown",
   "id": "1baac947-4617-4489-a8ca-7d1b5bca010d",
   "metadata": {
    "editable": true,
    "slideshow": {
     "slide_type": "slide"
    },
    "tags": [
     "Slides"
    ]
   },
   "source": [
    "## Variance Covariance Matrix of Coefficients"
   ]
  },
  {
   "cell_type": "code",
   "execution_count": 42,
   "id": "ade828e1-c540-409a-9894-14b0cbe8ac2d",
   "metadata": {
    "editable": true,
    "slideshow": {
     "slide_type": "subslide"
    },
    "tags": [
     "Slides"
    ]
   },
   "outputs": [],
   "source": [
    "Y_hat = X @ b\n",
    "Y_hat\n",
    "e = Y-Y_hat\n",
    "SSE = e.T @ e\n",
    "df_SSE = Y.shape[0]-2\n",
    "MSE = SSE/df_SSE"
   ]
  },
  {
   "cell_type": "code",
   "execution_count": 43,
   "id": "35b15176-981a-445a-9b58-ddaafa4ce597",
   "metadata": {
    "editable": true,
    "slideshow": {
     "slide_type": "subslide"
    },
    "tags": [
     "Slides"
    ]
   },
   "outputs": [],
   "source": [
    "SSTO = (Y-Y.mean()).T @ (Y-Y.mean())\n",
    "df_SSTO = Y.shape[0] - 1\n",
    "SSR = SSTO - SSE\n",
    "MSR = SSR/1\n",
    "r_2 = SSR/SSTO"
   ]
  },
  {
   "cell_type": "markdown",
   "id": "2cefc957-0bc4-44b7-be63-0015e6e6b670",
   "metadata": {
    "editable": true,
    "slideshow": {
     "slide_type": "slide"
    },
    "tags": [
     "Slides"
    ]
   },
   "source": [
    "## Standard Error of Coefficients"
   ]
  },
  {
   "cell_type": "code",
   "execution_count": 35,
   "id": "04096af0-5a04-4642-bc4c-9866f550bf77",
   "metadata": {
    "editable": true,
    "slideshow": {
     "slide_type": "subslide"
    },
    "tags": [
     "Slides"
    ]
   },
   "outputs": [],
   "source": [
    "sigma_2_b = MSE * np.linalg.inv(X.T @ X)\n",
    "\n",
    "sigma_2_b0 = sigma_2_b.diagonal()[0]\n",
    "sigma_2_b1 = sigma_2_b.diagonal()[1]\n",
    "\n",
    "se_b0 = np.sqrt(sigma_2_b0)\n",
    "se_b1 = np.sqrt(sigma_2_b1)"
   ]
  },
  {
   "cell_type": "markdown",
   "id": "89509ca5-f631-4933-b088-43828e54bd67",
   "metadata": {
    "editable": true,
    "slideshow": {
     "slide_type": "slide"
    },
    "tags": [
     "Slides"
    ]
   },
   "source": [
    "## T statistics of Coefficients"
   ]
  },
  {
   "cell_type": "code",
   "execution_count": 40,
   "id": "d0727914-d59e-4236-88a7-53fb05750664",
   "metadata": {
    "editable": true,
    "slideshow": {
     "slide_type": "subslide"
    },
    "tags": [
     "Slides"
    ]
   },
   "outputs": [
    {
     "name": "stdout",
     "output_type": "stream",
     "text": [
      "229.48586976815125\n",
      "17.707484066348993\n"
     ]
    }
   ],
   "source": [
    "t_b0 = b0/se_b0\n",
    "t_b1 = b1/se_b1\n",
    "print(t_b0)\n",
    "print(t_b1)"
   ]
  },
  {
   "cell_type": "markdown",
   "id": "652a3d8f-905a-41b8-a0e9-ce5d87845af1",
   "metadata": {
    "editable": true,
    "slideshow": {
     "slide_type": "slide"
    },
    "tags": [
     "Slides"
    ]
   },
   "source": [
    "## p values of Coefficients"
   ]
  },
  {
   "cell_type": "code",
   "execution_count": 41,
   "id": "df53f02a-65f0-4e28-9f97-7075e01be034",
   "metadata": {
    "editable": true,
    "slideshow": {
     "slide_type": "subslide"
    },
    "tags": [
     "Slides"
    ]
   },
   "outputs": [
    {
     "name": "stdout",
     "output_type": "stream",
     "text": [
      "0.0\n",
      "0.0\n"
     ]
    }
   ],
   "source": [
    "p_b0 = 2*(1-stats.t.cdf(t_b0, df=df_SSE))\n",
    "p_b1 = 2*(1-stats.t.cdf(t_b1, df=df_SSE))\n",
    "print(p_b0)\n",
    "print(p_b1)"
   ]
  },
  {
   "cell_type": "markdown",
   "id": "74eb4f8f-81c3-47ce-8798-dbe9b99cb57b",
   "metadata": {
    "editable": true,
    "slideshow": {
     "slide_type": "slide"
    },
    "tags": [
     "Slides"
    ]
   },
   "source": [
    "## Fit the model using `statsmodel` package"
   ]
  },
  {
   "cell_type": "code",
   "execution_count": 57,
   "id": "ca58d8cc-1397-42a8-b4ff-5bd6d9804fea",
   "metadata": {
    "editable": true,
    "slideshow": {
     "slide_type": "subslide"
    },
    "tags": [
     "Slides"
    ]
   },
   "outputs": [
    {
     "data": {
      "text/html": [
       "<table class=\"simpletable\">\n",
       "<caption>OLS Regression Results</caption>\n",
       "<tr>\n",
       "  <th>Dep. Variable:</th>            <td>y</td>        <th>  R-squared:         </th>  <td>   0.006</td> \n",
       "</tr>\n",
       "<tr>\n",
       "  <th>Model:</th>                   <td>OLS</td>       <th>  Adj. R-squared:    </th>  <td>   0.006</td> \n",
       "</tr>\n",
       "<tr>\n",
       "  <th>Method:</th>             <td>Least Squares</td>  <th>  F-statistic:       </th>  <td>   313.6</td> \n",
       "</tr>\n",
       "<tr>\n",
       "  <th>Date:</th>             <td>Wed, 09 Apr 2025</td> <th>  Prob (F-statistic):</th>  <td>5.81e-70</td> \n",
       "</tr>\n",
       "<tr>\n",
       "  <th>Time:</th>                 <td>17:43:55</td>     <th>  Log-Likelihood:    </th> <td>1.6380e+05</td>\n",
       "</tr>\n",
       "<tr>\n",
       "  <th>No. Observations:</th>      <td> 53699</td>      <th>  AIC:               </th> <td>-3.276e+05</td>\n",
       "</tr>\n",
       "<tr>\n",
       "  <th>Df Residuals:</th>          <td> 53697</td>      <th>  BIC:               </th> <td>-3.276e+05</td>\n",
       "</tr>\n",
       "<tr>\n",
       "  <th>Df Model:</th>              <td>     1</td>      <th>                     </th>      <td> </td>    \n",
       "</tr>\n",
       "<tr>\n",
       "  <th>Covariance Type:</th>      <td>nonrobust</td>    <th>                     </th>      <td> </td>    \n",
       "</tr>\n",
       "</table>"
      ],
      "text/latex": [
       "\\begin{center}\n",
       "\\begin{tabular}{lclc}\n",
       "\\toprule\n",
       "\\textbf{Dep. Variable:}    &        y         & \\textbf{  R-squared:         } &     0.006   \\\\\n",
       "\\textbf{Model:}            &       OLS        & \\textbf{  Adj. R-squared:    } &     0.006   \\\\\n",
       "\\textbf{Method:}           &  Least Squares   & \\textbf{  F-statistic:       } &     313.6   \\\\\n",
       "\\textbf{Date:}             & Wed, 09 Apr 2025 & \\textbf{  Prob (F-statistic):} &  5.81e-70   \\\\\n",
       "\\textbf{Time:}             &     17:43:55     & \\textbf{  Log-Likelihood:    } & 1.6380e+05  \\\\\n",
       "\\textbf{No. Observations:} &       53699      & \\textbf{  AIC:               } & -3.276e+05  \\\\\n",
       "\\textbf{Df Residuals:}     &       53697      & \\textbf{  BIC:               } & -3.276e+05  \\\\\n",
       "\\textbf{Df Model:}         &           1      & \\textbf{                     } &             \\\\\n",
       "\\textbf{Covariance Type:}  &    nonrobust     & \\textbf{                     } &             \\\\\n",
       "\\bottomrule\n",
       "\\end{tabular}\n",
       "%\\caption{OLS Regression Results}\n",
       "\\end{center}"
      ],
      "text/plain": [
       "<class 'statsmodels.iolib.table.SimpleTable'>"
      ]
     },
     "execution_count": 57,
     "metadata": {},
     "output_type": "execute_result"
    }
   ],
   "source": [
    "import statsmodels.api as sm\n",
    "import statsmodels.formula.api as smf\n",
    "\n",
    "results = sm.OLS(Y, X).fit()\n",
    "results.summary().tables[0]"
   ]
  },
  {
   "cell_type": "code",
   "execution_count": 56,
   "id": "e73b4637-6448-4c66-a4ee-b0fb784e512e",
   "metadata": {
    "editable": true,
    "slideshow": {
     "slide_type": "subslide"
    },
    "tags": [
     "Slides"
    ]
   },
   "outputs": [
    {
     "data": {
      "text/html": [
       "<table class=\"simpletable\">\n",
       "<tr>\n",
       "       <td></td>          <th>coef</th>     <th>std err</th>      <th>t</th>      <th>P>|t|</th>  <th>[0.025</th>    <th>0.975]</th>  \n",
       "</tr>\n",
       "<tr>\n",
       "  <th>Intercept</th>   <td>    0.0134</td> <td> 5.83e-05</td> <td>  229.486</td> <td> 0.000</td> <td>    0.013</td> <td>    0.013</td>\n",
       "</tr>\n",
       "<tr>\n",
       "  <th>liwc_negemo</th> <td>    0.0198</td> <td>    0.001</td> <td>   17.707</td> <td> 0.000</td> <td>    0.018</td> <td>    0.022</td>\n",
       "</tr>\n",
       "</table>"
      ],
      "text/latex": [
       "\\begin{center}\n",
       "\\begin{tabular}{lcccccc}\n",
       "\\toprule\n",
       "                      & \\textbf{coef} & \\textbf{std err} & \\textbf{t} & \\textbf{P$> |$t$|$} & \\textbf{[0.025} & \\textbf{0.975]}  \\\\\n",
       "\\midrule\n",
       "\\textbf{Intercept}    &       0.0134  &     5.83e-05     &   229.486  &         0.000        &        0.013    &        0.013     \\\\\n",
       "\\textbf{liwc\\_negemo} &       0.0198  &        0.001     &    17.707  &         0.000        &        0.018    &        0.022     \\\\\n",
       "\\bottomrule\n",
       "\\end{tabular}\n",
       "\\end{center}"
      ],
      "text/plain": [
       "<class 'statsmodels.iolib.table.SimpleTable'>"
      ]
     },
     "execution_count": 56,
     "metadata": {},
     "output_type": "execute_result"
    }
   ],
   "source": [
    "results.summary().tables[1]"
   ]
  },
  {
   "cell_type": "code",
   "execution_count": 54,
   "id": "642f74ad-381b-4188-98ca-3173ce15abd2",
   "metadata": {
    "editable": true,
    "slideshow": {
     "slide_type": "subslide"
    },
    "tags": [
     "Slides"
    ]
   },
   "outputs": [
    {
     "data": {
      "text/html": [
       "<table class=\"simpletable\">\n",
       "<caption>OLS Regression Results</caption>\n",
       "<tr>\n",
       "  <th>Dep. Variable:</th>       <td>click_rate</td>    <th>  R-squared:         </th>  <td>   0.006</td> \n",
       "</tr>\n",
       "<tr>\n",
       "  <th>Model:</th>                   <td>OLS</td>       <th>  Adj. R-squared:    </th>  <td>   0.006</td> \n",
       "</tr>\n",
       "<tr>\n",
       "  <th>Method:</th>             <td>Least Squares</td>  <th>  F-statistic:       </th>  <td>   313.6</td> \n",
       "</tr>\n",
       "<tr>\n",
       "  <th>Date:</th>             <td>Wed, 09 Apr 2025</td> <th>  Prob (F-statistic):</th>  <td>5.81e-70</td> \n",
       "</tr>\n",
       "<tr>\n",
       "  <th>Time:</th>                 <td>17:43:48</td>     <th>  Log-Likelihood:    </th> <td>1.6380e+05</td>\n",
       "</tr>\n",
       "<tr>\n",
       "  <th>No. Observations:</th>      <td> 53699</td>      <th>  AIC:               </th> <td>-3.276e+05</td>\n",
       "</tr>\n",
       "<tr>\n",
       "  <th>Df Residuals:</th>          <td> 53697</td>      <th>  BIC:               </th> <td>-3.276e+05</td>\n",
       "</tr>\n",
       "<tr>\n",
       "  <th>Df Model:</th>              <td>     1</td>      <th>                     </th>      <td> </td>    \n",
       "</tr>\n",
       "<tr>\n",
       "  <th>Covariance Type:</th>      <td>nonrobust</td>    <th>                     </th>      <td> </td>    \n",
       "</tr>\n",
       "</table>"
      ],
      "text/latex": [
       "\\begin{center}\n",
       "\\begin{tabular}{lclc}\n",
       "\\toprule\n",
       "\\textbf{Dep. Variable:}    &   click\\_rate    & \\textbf{  R-squared:         } &     0.006   \\\\\n",
       "\\textbf{Model:}            &       OLS        & \\textbf{  Adj. R-squared:    } &     0.006   \\\\\n",
       "\\textbf{Method:}           &  Least Squares   & \\textbf{  F-statistic:       } &     313.6   \\\\\n",
       "\\textbf{Date:}             & Wed, 09 Apr 2025 & \\textbf{  Prob (F-statistic):} &  5.81e-70   \\\\\n",
       "\\textbf{Time:}             &     17:43:48     & \\textbf{  Log-Likelihood:    } & 1.6380e+05  \\\\\n",
       "\\textbf{No. Observations:} &       53699      & \\textbf{  AIC:               } & -3.276e+05  \\\\\n",
       "\\textbf{Df Residuals:}     &       53697      & \\textbf{  BIC:               } & -3.276e+05  \\\\\n",
       "\\textbf{Df Model:}         &           1      & \\textbf{                     } &             \\\\\n",
       "\\textbf{Covariance Type:}  &    nonrobust     & \\textbf{                     } &             \\\\\n",
       "\\bottomrule\n",
       "\\end{tabular}\n",
       "%\\caption{OLS Regression Results}\n",
       "\\end{center}"
      ],
      "text/plain": [
       "<class 'statsmodels.iolib.table.SimpleTable'>"
      ]
     },
     "execution_count": 54,
     "metadata": {},
     "output_type": "execute_result"
    }
   ],
   "source": [
    "results = smf.ols('click_rate ~ liwc_negemo', data=df).fit()\n",
    "results.summary().tables[0]"
   ]
  },
  {
   "cell_type": "code",
   "execution_count": 55,
   "id": "d694a158-5198-4107-a98e-9d771a04e5c5",
   "metadata": {
    "editable": true,
    "slideshow": {
     "slide_type": "subslide"
    },
    "tags": [
     "Slides"
    ]
   },
   "outputs": [
    {
     "data": {
      "text/html": [
       "<table class=\"simpletable\">\n",
       "<tr>\n",
       "       <td></td>          <th>coef</th>     <th>std err</th>      <th>t</th>      <th>P>|t|</th>  <th>[0.025</th>    <th>0.975]</th>  \n",
       "</tr>\n",
       "<tr>\n",
       "  <th>Intercept</th>   <td>    0.0134</td> <td> 5.83e-05</td> <td>  229.486</td> <td> 0.000</td> <td>    0.013</td> <td>    0.013</td>\n",
       "</tr>\n",
       "<tr>\n",
       "  <th>liwc_negemo</th> <td>    0.0198</td> <td>    0.001</td> <td>   17.707</td> <td> 0.000</td> <td>    0.018</td> <td>    0.022</td>\n",
       "</tr>\n",
       "</table>"
      ],
      "text/latex": [
       "\\begin{center}\n",
       "\\begin{tabular}{lcccccc}\n",
       "\\toprule\n",
       "                      & \\textbf{coef} & \\textbf{std err} & \\textbf{t} & \\textbf{P$> |$t$|$} & \\textbf{[0.025} & \\textbf{0.975]}  \\\\\n",
       "\\midrule\n",
       "\\textbf{Intercept}    &       0.0134  &     5.83e-05     &   229.486  &         0.000        &        0.013    &        0.013     \\\\\n",
       "\\textbf{liwc\\_negemo} &       0.0198  &        0.001     &    17.707  &         0.000        &        0.018    &        0.022     \\\\\n",
       "\\bottomrule\n",
       "\\end{tabular}\n",
       "\\end{center}"
      ],
      "text/plain": [
       "<class 'statsmodels.iolib.table.SimpleTable'>"
      ]
     },
     "execution_count": 55,
     "metadata": {},
     "output_type": "execute_result"
    }
   ],
   "source": [
    "results.summary().tables[1]"
   ]
  }
 ],
 "metadata": {
  "kernelspec": {
   "display_name": "Python 3 (ipykernel)",
   "language": "python",
   "name": "python3"
  },
  "language_info": {
   "codemirror_mode": {
    "name": "ipython",
    "version": 3
   },
   "file_extension": ".py",
   "mimetype": "text/x-python",
   "name": "python",
   "nbconvert_exporter": "python",
   "pygments_lexer": "ipython3",
   "version": "3.11.6"
  }
 },
 "nbformat": 4,
 "nbformat_minor": 5
}
