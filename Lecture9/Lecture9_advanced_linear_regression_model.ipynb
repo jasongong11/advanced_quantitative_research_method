{
 "cells": [
  {
   "cell_type": "markdown",
   "id": "2089cd41-c460-4e79-bb39-e43aa902a4fb",
   "metadata": {
    "editable": true,
    "slideshow": {
     "slide_type": "slide"
    },
    "tags": [
     "slice"
    ]
   },
   "source": [
    "# Advanced Regression Models"
   ]
  },
  {
   "cell_type": "markdown",
   "id": "12b92738-b962-4a50-bfb4-6eaa75dddbb2",
   "metadata": {
    "editable": true,
    "slideshow": {
     "slide_type": "slide"
    },
    "tags": [
     "slice"
    ]
   },
   "source": [
    "## Generalized Linear Models (GLM)\n",
    "\n",
    "In multiple regression models, we specify that\n",
    "\n",
    "$$\n",
    "\\boldsymbol{Y} = \\boldsymbol{X\\beta + \\epsilon}\n",
    "$$\n",
    "$$\n",
    "\\boldsymbol{E(\\epsilon)} = \\boldsymbol{0} \\ \\ \\ \\ \\ \\ \\boldsymbol{\\sigma^2\\{\\epsilon\\}} = \\sigma^2 \\boldsymbol{I}\n",
    "$$\n",
    "\n",
    "Essentially, we are constructing a **linear predictor** as $\\boldsymbol{\\eta}_{N\\times 1} = \\boldsymbol{X\\beta}$, and assumes the dependent variable follows normal distributions $\\boldsymbol{Y}\\sim \\boldsymbol{N(\\eta, \\sigma^2 I)}$. \n",
    "\n",
    "But as we have seen in many dataset analyses, it is common that the residuals do not follow a normal distribution or have constant variance. In some cases, they are even categorical instead of numerical. \n",
    "\n",
    "In these cases, we can not rely on multiple regression, but need to generalize our linear models to include more types of distributions. "
   ]
  },
  {
   "cell_type": "markdown",
   "id": "23d526ac-7151-4eba-8b9f-d99ab983e8d2",
   "metadata": {
    "editable": true,
    "slideshow": {
     "slide_type": "slide"
    },
    "tags": [
     "slice"
    ]
   },
   "source": [
    "## Logistic Regression Use Case\n",
    "\n",
    "The first example is when we have dependent variables as dummy coded variables as Yes (1) or No (0).\n",
    "\n",
    "Ex. \n",
    "1. Who is going to win 2028 election?\n",
    "2. Whether or not people will be persuaded (e.g. take vaccine)?\n",
    "3. Will people click the headline?\n",
    "\n",
    "When the dependent variable is a **dummy variable** or **empirical probability of success**, we can use a **logistic regression model**."
   ]
  },
  {
   "cell_type": "markdown",
   "id": "31d6e84a-564e-4509-9a5a-d78e7feaa6f9",
   "metadata": {
    "editable": true,
    "slideshow": {
     "slide_type": "slide"
    },
    "tags": [
     "slice"
    ]
   },
   "source": [
    "## Logistic Regression specification\n",
    "\n",
    "A logistic regression, similar to ordinary regression, has a **linear predictor** as $\\boldsymbol{\\eta}_{N\\times 1} = \\boldsymbol{X\\beta}$.\n",
    "\n",
    "But different from ordinary regression, it does not limit the expected value of the dependent variable of the samples to be the linear predictor.\n",
    "\n",
    "Instead, it specifies a **link function**, which specifies that the linear predictor is the logit of the dependent variable. In another way, it specifies that the dependent variable is the inverse logit function of the linear predictor.\n",
    "\n",
    "$$\n",
    "logit(\\boldsymbol{Y}) = \\boldsymbol{\\eta} = \\boldsymbol{X\\beta}\n",
    "$$\n",
    "$$\n",
    "\\boldsymbol{Y} = logit^{-1}(\\boldsymbol{\\eta})\n",
    "$$\n",
    "\n",
    "Where the logit function is \n",
    "\n",
    "$$\n",
    "logit(p) = ln(\\frac{p}{1-p})\n",
    "$$\n"
   ]
  },
  {
   "cell_type": "markdown",
   "id": "c30724c3-f60b-4c99-be8b-45b5c66fd897",
   "metadata": {
    "editable": true,
    "slideshow": {
     "slide_type": "slide"
    },
    "tags": [
     "slice"
    ]
   },
   "source": [
    "## Logistic Regression specification\n",
    "Taken together, the logistic regression can be written as \n",
    "\n",
    "$$\n",
    "ln(\\frac{Y_i}{1-Y_i}) = \\beta_0 + \\beta_1 X_{i,1} + \\beta_2 X_{i, 2} + ... + \\beta_{p-1}X_{i, p-1}\n",
    "$$\n",
    "$$\n",
    "E[Y_i]= \\frac{1}{1+\\exp^{\\beta_0 + \\beta_1 X_{i,1} + \\beta_2 X_{i, 2} + ... + \\beta_{p-1}X_{i, p-1}}}\n",
    "$$"
   ]
  },
  {
   "cell_type": "markdown",
   "id": "9ea042f1-a3b9-4ad7-a04f-7fedef969d92",
   "metadata": {
    "editable": true,
    "slideshow": {
     "slide_type": "slide"
    },
    "tags": [
     "slice"
    ]
   },
   "source": [
    "## Logistic Regression\n",
    "\n",
    "![logistic](./img/logistic_regression.png)"
   ]
  },
  {
   "cell_type": "markdown",
   "id": "292f2ca5-8ab1-448c-bb17-912b0de1afe0",
   "metadata": {
    "editable": true,
    "slideshow": {
     "slide_type": "slide"
    },
    "tags": [
     "slice"
    ]
   },
   "source": [
    "## Comparing between ordinary regression and logistic regression"
   ]
  },
  {
   "cell_type": "code",
   "execution_count": 49,
   "id": "57dc3f5d-ae1f-4122-9ebb-a178e0b231b2",
   "metadata": {
    "editable": true,
    "slideshow": {
     "slide_type": "slide"
    },
    "tags": [
     "slice"
    ]
   },
   "outputs": [],
   "source": [
    "import seaborn as sns\n",
    "import pandas as pd\n",
    "from matplotlib import pyplot as plt\n",
    "\n",
    "df = pd.read_csv(\"./data/framingham.csv\")\n",
    "df = df.dropna()"
   ]
  },
  {
   "cell_type": "markdown",
   "id": "a7c8e202-2094-43d4-abdd-e44e1172c2fe",
   "metadata": {
    "editable": true,
    "slideshow": {
     "slide_type": "slide"
    },
    "tags": [
     "slice"
    ]
   },
   "source": [
    "| Column | Description|\n",
    "|--------| -----------|\n",
    "|Sex\t|male or female(Nominal)|\n",
    "|Age\t|Age of the patient|\n",
    "|Current Smoker|whether or not the patient is a current smoker (Nominal)|\n",
    "|Cigs Per Day | the number of cigarettes that the person smoked on average in one day.(can be considered continuous as one can have any number of cigarettes, even half a cigarette.)|\n",
    "|BP Meds | whether or not the patient was on blood pressure medication (Nominal)|\n",
    "|Prevalent Stroke | whether or not the patient had previously had a stroke (Nominal)|\n",
    "|Prevalent Hyp | whether or not the patient was hypertensive (Nominal)|\n",
    "|Diabetes| whether or not the patient had diabetes (Nominal)|\n",
    "|Tot Chol |\ttotal cholesterol level (Continuous)|\n",
    "|Sys BP |\tdiastolic blood pressure (Continuous)|\n",
    "|BMI |\tBody Mass Index (Continuous)|\n",
    "|Heart Rate |\theart rate (Continuous - In medical research, variables such as heart rate though in fact discrete, yet are considered continuous because of large number of possible values.)|\n",
    "|Glucose |\t glucose level (Continuous)|\n",
    "| **CHD** |\t**10 year risk of coronary heart disease (binary: “1”, means “Yes”, “0” means “No”)**|"
   ]
  },
  {
   "cell_type": "code",
   "execution_count": 50,
   "id": "cdaa5712-cce5-40c7-9bc3-e7d24692c2b1",
   "metadata": {
    "editable": true,
    "slideshow": {
     "slide_type": "slide"
    },
    "tags": [
     "slice"
    ]
   },
   "outputs": [
    {
     "data": {
      "text/html": [
       "<div>\n",
       "<style scoped>\n",
       "    .dataframe tbody tr th:only-of-type {\n",
       "        vertical-align: middle;\n",
       "    }\n",
       "\n",
       "    .dataframe tbody tr th {\n",
       "        vertical-align: top;\n",
       "    }\n",
       "\n",
       "    .dataframe thead th {\n",
       "        text-align: right;\n",
       "    }\n",
       "</style>\n",
       "<table border=\"1\" class=\"dataframe\">\n",
       "  <thead>\n",
       "    <tr style=\"text-align: right;\">\n",
       "      <th></th>\n",
       "      <th>male</th>\n",
       "      <th>age</th>\n",
       "      <th>education</th>\n",
       "      <th>currentSmoker</th>\n",
       "      <th>cigsPerDay</th>\n",
       "      <th>BPMeds</th>\n",
       "      <th>prevalentStroke</th>\n",
       "      <th>prevalentHyp</th>\n",
       "      <th>diabetes</th>\n",
       "      <th>totChol</th>\n",
       "      <th>sysBP</th>\n",
       "      <th>diaBP</th>\n",
       "      <th>BMI</th>\n",
       "      <th>heartRate</th>\n",
       "      <th>glucose</th>\n",
       "      <th>TenYearCHD</th>\n",
       "    </tr>\n",
       "  </thead>\n",
       "  <tbody>\n",
       "    <tr>\n",
       "      <th>0</th>\n",
       "      <td>1</td>\n",
       "      <td>39</td>\n",
       "      <td>4.0</td>\n",
       "      <td>0</td>\n",
       "      <td>0.0</td>\n",
       "      <td>0.0</td>\n",
       "      <td>0</td>\n",
       "      <td>0</td>\n",
       "      <td>0</td>\n",
       "      <td>195.0</td>\n",
       "      <td>106.0</td>\n",
       "      <td>70.0</td>\n",
       "      <td>26.97</td>\n",
       "      <td>80.0</td>\n",
       "      <td>77.0</td>\n",
       "      <td>0</td>\n",
       "    </tr>\n",
       "    <tr>\n",
       "      <th>1</th>\n",
       "      <td>0</td>\n",
       "      <td>46</td>\n",
       "      <td>2.0</td>\n",
       "      <td>0</td>\n",
       "      <td>0.0</td>\n",
       "      <td>0.0</td>\n",
       "      <td>0</td>\n",
       "      <td>0</td>\n",
       "      <td>0</td>\n",
       "      <td>250.0</td>\n",
       "      <td>121.0</td>\n",
       "      <td>81.0</td>\n",
       "      <td>28.73</td>\n",
       "      <td>95.0</td>\n",
       "      <td>76.0</td>\n",
       "      <td>0</td>\n",
       "    </tr>\n",
       "    <tr>\n",
       "      <th>2</th>\n",
       "      <td>1</td>\n",
       "      <td>48</td>\n",
       "      <td>1.0</td>\n",
       "      <td>1</td>\n",
       "      <td>20.0</td>\n",
       "      <td>0.0</td>\n",
       "      <td>0</td>\n",
       "      <td>0</td>\n",
       "      <td>0</td>\n",
       "      <td>245.0</td>\n",
       "      <td>127.5</td>\n",
       "      <td>80.0</td>\n",
       "      <td>25.34</td>\n",
       "      <td>75.0</td>\n",
       "      <td>70.0</td>\n",
       "      <td>0</td>\n",
       "    </tr>\n",
       "    <tr>\n",
       "      <th>3</th>\n",
       "      <td>0</td>\n",
       "      <td>61</td>\n",
       "      <td>3.0</td>\n",
       "      <td>1</td>\n",
       "      <td>30.0</td>\n",
       "      <td>0.0</td>\n",
       "      <td>0</td>\n",
       "      <td>1</td>\n",
       "      <td>0</td>\n",
       "      <td>225.0</td>\n",
       "      <td>150.0</td>\n",
       "      <td>95.0</td>\n",
       "      <td>28.58</td>\n",
       "      <td>65.0</td>\n",
       "      <td>103.0</td>\n",
       "      <td>1</td>\n",
       "    </tr>\n",
       "    <tr>\n",
       "      <th>4</th>\n",
       "      <td>0</td>\n",
       "      <td>46</td>\n",
       "      <td>3.0</td>\n",
       "      <td>1</td>\n",
       "      <td>23.0</td>\n",
       "      <td>0.0</td>\n",
       "      <td>0</td>\n",
       "      <td>0</td>\n",
       "      <td>0</td>\n",
       "      <td>285.0</td>\n",
       "      <td>130.0</td>\n",
       "      <td>84.0</td>\n",
       "      <td>23.10</td>\n",
       "      <td>85.0</td>\n",
       "      <td>85.0</td>\n",
       "      <td>0</td>\n",
       "    </tr>\n",
       "  </tbody>\n",
       "</table>\n",
       "</div>"
      ],
      "text/plain": [
       "   male  age  education  currentSmoker  cigsPerDay  BPMeds  prevalentStroke  \\\n",
       "0     1   39        4.0              0         0.0     0.0                0   \n",
       "1     0   46        2.0              0         0.0     0.0                0   \n",
       "2     1   48        1.0              1        20.0     0.0                0   \n",
       "3     0   61        3.0              1        30.0     0.0                0   \n",
       "4     0   46        3.0              1        23.0     0.0                0   \n",
       "\n",
       "   prevalentHyp  diabetes  totChol  sysBP  diaBP    BMI  heartRate  glucose  \\\n",
       "0             0         0    195.0  106.0   70.0  26.97       80.0     77.0   \n",
       "1             0         0    250.0  121.0   81.0  28.73       95.0     76.0   \n",
       "2             0         0    245.0  127.5   80.0  25.34       75.0     70.0   \n",
       "3             1         0    225.0  150.0   95.0  28.58       65.0    103.0   \n",
       "4             0         0    285.0  130.0   84.0  23.10       85.0     85.0   \n",
       "\n",
       "   TenYearCHD  \n",
       "0           0  \n",
       "1           0  \n",
       "2           0  \n",
       "3           1  \n",
       "4           0  "
      ]
     },
     "execution_count": 50,
     "metadata": {},
     "output_type": "execute_result"
    }
   ],
   "source": [
    "df.head()"
   ]
  },
  {
   "cell_type": "code",
   "execution_count": 51,
   "id": "452250c3-bf7d-4586-b6d3-e0cf7b19be81",
   "metadata": {
    "editable": true,
    "slideshow": {
     "slide_type": "slide"
    },
    "tags": [
     "slice"
    ]
   },
   "outputs": [
    {
     "name": "stdout",
     "output_type": "stream",
     "text": [
      "Optimization terminated successfully.\n",
      "         Current function value: 0.376724\n",
      "         Iterations 7\n"
     ]
    }
   ],
   "source": [
    "import statsmodels.formula.api as smf\n",
    "\n",
    "ordinary_regression = smf.ols(formula='TenYearCHD ~ age + male + education + currentSmoker + cigsPerDay' + \\\n",
    "                              '+ BPMeds + prevalentStroke + prevalentHyp + diabetes + totChol + sysBP + BMI' + \\\n",
    "                              '+ heartRate + glucose', data=df)\n",
    "\n",
    "logistic_regression = smf.logit(formula='TenYearCHD ~ age + male + education + currentSmoker + cigsPerDay' + \\\n",
    "                              '+ BPMeds + prevalentStroke + prevalentHyp + diabetes + totChol + sysBP + BMI' + \\\n",
    "                              '+ heartRate + glucose', data=df)\n",
    "\n",
    "ordinary_regression_result = ordinary_regression.fit()\n",
    "logistic_regression_result = logistic_regression.fit()"
   ]
  },
  {
   "cell_type": "code",
   "execution_count": 59,
   "id": "157c4695-73c4-4298-a817-c5b2b6974c78",
   "metadata": {
    "editable": true,
    "slideshow": {
     "slide_type": "slide"
    },
    "tags": [
     "slice"
    ]
   },
   "outputs": [
    {
     "data": {
      "text/html": [
       "<table class=\"simpletable\">\n",
       "<caption>Logit Regression Results</caption>\n",
       "<tr>\n",
       "  <th>Dep. Variable:</th>      <td>TenYearCHD</td>    <th>  No. Observations:  </th>  <td>  3656</td>  \n",
       "</tr>\n",
       "<tr>\n",
       "  <th>Model:</th>                 <td>Logit</td>      <th>  Df Residuals:      </th>  <td>  3641</td>  \n",
       "</tr>\n",
       "<tr>\n",
       "  <th>Method:</th>                 <td>MLE</td>       <th>  Df Model:          </th>  <td>    14</td>  \n",
       "</tr>\n",
       "<tr>\n",
       "  <th>Date:</th>            <td>Wed, 23 Apr 2025</td> <th>  Pseudo R-squ.:     </th>  <td>0.1173</td>  \n",
       "</tr>\n",
       "<tr>\n",
       "  <th>Time:</th>                <td>01:09:45</td>     <th>  Log-Likelihood:    </th> <td> -1377.3</td> \n",
       "</tr>\n",
       "<tr>\n",
       "  <th>converged:</th>             <td>True</td>       <th>  LL-Null:           </th> <td> -1560.3</td> \n",
       "</tr>\n",
       "<tr>\n",
       "  <th>Covariance Type:</th>     <td>nonrobust</td>    <th>  LLR p-value:       </th> <td>1.876e-69</td>\n",
       "</tr>\n",
       "</table>\n",
       "<table class=\"simpletable\">\n",
       "<tr>\n",
       "         <td></td>            <th>coef</th>     <th>std err</th>      <th>z</th>      <th>P>|z|</th>  <th>[0.025</th>    <th>0.975]</th>  \n",
       "</tr>\n",
       "<tr>\n",
       "  <th>Intercept</th>       <td>   -8.4486</td> <td>    0.688</td> <td>  -12.272</td> <td> 0.000</td> <td>   -9.798</td> <td>   -7.099</td>\n",
       "</tr>\n",
       "<tr>\n",
       "  <th>age</th>             <td>    0.0643</td> <td>    0.007</td> <td>    9.829</td> <td> 0.000</td> <td>    0.052</td> <td>    0.077</td>\n",
       "</tr>\n",
       "<tr>\n",
       "  <th>male</th>            <td>    0.5462</td> <td>    0.108</td> <td>    5.052</td> <td> 0.000</td> <td>    0.334</td> <td>    0.758</td>\n",
       "</tr>\n",
       "<tr>\n",
       "  <th>education</th>       <td>   -0.0499</td> <td>    0.049</td> <td>   -1.013</td> <td> 0.311</td> <td>   -0.146</td> <td>    0.047</td>\n",
       "</tr>\n",
       "<tr>\n",
       "  <th>currentSmoker</th>   <td>    0.0734</td> <td>    0.157</td> <td>    0.469</td> <td> 0.639</td> <td>   -0.234</td> <td>    0.381</td>\n",
       "</tr>\n",
       "<tr>\n",
       "  <th>cigsPerDay</th>      <td>    0.0179</td> <td>    0.006</td> <td>    2.871</td> <td> 0.004</td> <td>    0.006</td> <td>    0.030</td>\n",
       "</tr>\n",
       "<tr>\n",
       "  <th>BPMeds</th>          <td>    0.1664</td> <td>    0.234</td> <td>    0.711</td> <td> 0.477</td> <td>   -0.292</td> <td>    0.625</td>\n",
       "</tr>\n",
       "<tr>\n",
       "  <th>prevalentStroke</th> <td>    0.6867</td> <td>    0.489</td> <td>    1.404</td> <td> 0.160</td> <td>   -0.272</td> <td>    1.645</td>\n",
       "</tr>\n",
       "<tr>\n",
       "  <th>prevalentHyp</th>    <td>    0.2221</td> <td>    0.137</td> <td>    1.627</td> <td> 0.104</td> <td>   -0.045</td> <td>    0.490</td>\n",
       "</tr>\n",
       "<tr>\n",
       "  <th>diabetes</th>        <td>    0.0448</td> <td>    0.315</td> <td>    0.142</td> <td> 0.887</td> <td>   -0.573</td> <td>    0.663</td>\n",
       "</tr>\n",
       "<tr>\n",
       "  <th>totChol</th>         <td>    0.0023</td> <td>    0.001</td> <td>    2.068</td> <td> 0.039</td> <td>    0.000</td> <td>    0.005</td>\n",
       "</tr>\n",
       "<tr>\n",
       "  <th>sysBP</th>           <td>    0.0138</td> <td>    0.003</td> <td>    4.712</td> <td> 0.000</td> <td>    0.008</td> <td>    0.020</td>\n",
       "</tr>\n",
       "<tr>\n",
       "  <th>BMI</th>             <td>    0.0050</td> <td>    0.013</td> <td>    0.403</td> <td> 0.687</td> <td>   -0.019</td> <td>    0.030</td>\n",
       "</tr>\n",
       "<tr>\n",
       "  <th>heartRate</th>       <td>   -0.0034</td> <td>    0.004</td> <td>   -0.798</td> <td> 0.425</td> <td>   -0.012</td> <td>    0.005</td>\n",
       "</tr>\n",
       "<tr>\n",
       "  <th>glucose</th>         <td>    0.0072</td> <td>    0.002</td> <td>    3.208</td> <td> 0.001</td> <td>    0.003</td> <td>    0.012</td>\n",
       "</tr>\n",
       "</table>"
      ],
      "text/latex": [
       "\\begin{center}\n",
       "\\begin{tabular}{lclc}\n",
       "\\toprule\n",
       "\\textbf{Dep. Variable:}   &    TenYearCHD    & \\textbf{  No. Observations:  } &     3656    \\\\\n",
       "\\textbf{Model:}           &      Logit       & \\textbf{  Df Residuals:      } &     3641    \\\\\n",
       "\\textbf{Method:}          &       MLE        & \\textbf{  Df Model:          } &       14    \\\\\n",
       "\\textbf{Date:}            & Wed, 23 Apr 2025 & \\textbf{  Pseudo R-squ.:     } &   0.1173    \\\\\n",
       "\\textbf{Time:}            &     01:09:45     & \\textbf{  Log-Likelihood:    } &   -1377.3   \\\\\n",
       "\\textbf{converged:}       &       True       & \\textbf{  LL-Null:           } &   -1560.3   \\\\\n",
       "\\textbf{Covariance Type:} &    nonrobust     & \\textbf{  LLR p-value:       } & 1.876e-69   \\\\\n",
       "\\bottomrule\n",
       "\\end{tabular}\n",
       "\\begin{tabular}{lcccccc}\n",
       "                         & \\textbf{coef} & \\textbf{std err} & \\textbf{z} & \\textbf{P$> |$z$|$} & \\textbf{[0.025} & \\textbf{0.975]}  \\\\\n",
       "\\midrule\n",
       "\\textbf{Intercept}       &      -8.4486  &        0.688     &   -12.272  &         0.000        &       -9.798    &       -7.099     \\\\\n",
       "\\textbf{age}             &       0.0643  &        0.007     &     9.829  &         0.000        &        0.052    &        0.077     \\\\\n",
       "\\textbf{male}            &       0.5462  &        0.108     &     5.052  &         0.000        &        0.334    &        0.758     \\\\\n",
       "\\textbf{education}       &      -0.0499  &        0.049     &    -1.013  &         0.311        &       -0.146    &        0.047     \\\\\n",
       "\\textbf{currentSmoker}   &       0.0734  &        0.157     &     0.469  &         0.639        &       -0.234    &        0.381     \\\\\n",
       "\\textbf{cigsPerDay}      &       0.0179  &        0.006     &     2.871  &         0.004        &        0.006    &        0.030     \\\\\n",
       "\\textbf{BPMeds}          &       0.1664  &        0.234     &     0.711  &         0.477        &       -0.292    &        0.625     \\\\\n",
       "\\textbf{prevalentStroke} &       0.6867  &        0.489     &     1.404  &         0.160        &       -0.272    &        1.645     \\\\\n",
       "\\textbf{prevalentHyp}    &       0.2221  &        0.137     &     1.627  &         0.104        &       -0.045    &        0.490     \\\\\n",
       "\\textbf{diabetes}        &       0.0448  &        0.315     &     0.142  &         0.887        &       -0.573    &        0.663     \\\\\n",
       "\\textbf{totChol}         &       0.0023  &        0.001     &     2.068  &         0.039        &        0.000    &        0.005     \\\\\n",
       "\\textbf{sysBP}           &       0.0138  &        0.003     &     4.712  &         0.000        &        0.008    &        0.020     \\\\\n",
       "\\textbf{BMI}             &       0.0050  &        0.013     &     0.403  &         0.687        &       -0.019    &        0.030     \\\\\n",
       "\\textbf{heartRate}       &      -0.0034  &        0.004     &    -0.798  &         0.425        &       -0.012    &        0.005     \\\\\n",
       "\\textbf{glucose}         &       0.0072  &        0.002     &     3.208  &         0.001        &        0.003    &        0.012     \\\\\n",
       "\\bottomrule\n",
       "\\end{tabular}\n",
       "%\\caption{Logit Regression Results}\n",
       "\\end{center}"
      ],
      "text/plain": [
       "<class 'statsmodels.iolib.summary.Summary'>\n",
       "\"\"\"\n",
       "                           Logit Regression Results                           \n",
       "==============================================================================\n",
       "Dep. Variable:             TenYearCHD   No. Observations:                 3656\n",
       "Model:                          Logit   Df Residuals:                     3641\n",
       "Method:                           MLE   Df Model:                           14\n",
       "Date:                Wed, 23 Apr 2025   Pseudo R-squ.:                  0.1173\n",
       "Time:                        01:09:45   Log-Likelihood:                -1377.3\n",
       "converged:                       True   LL-Null:                       -1560.3\n",
       "Covariance Type:            nonrobust   LLR p-value:                 1.876e-69\n",
       "===================================================================================\n",
       "                      coef    std err          z      P>|z|      [0.025      0.975]\n",
       "-----------------------------------------------------------------------------------\n",
       "Intercept          -8.4486      0.688    -12.272      0.000      -9.798      -7.099\n",
       "age                 0.0643      0.007      9.829      0.000       0.052       0.077\n",
       "male                0.5462      0.108      5.052      0.000       0.334       0.758\n",
       "education          -0.0499      0.049     -1.013      0.311      -0.146       0.047\n",
       "currentSmoker       0.0734      0.157      0.469      0.639      -0.234       0.381\n",
       "cigsPerDay          0.0179      0.006      2.871      0.004       0.006       0.030\n",
       "BPMeds              0.1664      0.234      0.711      0.477      -0.292       0.625\n",
       "prevalentStroke     0.6867      0.489      1.404      0.160      -0.272       1.645\n",
       "prevalentHyp        0.2221      0.137      1.627      0.104      -0.045       0.490\n",
       "diabetes            0.0448      0.315      0.142      0.887      -0.573       0.663\n",
       "totChol             0.0023      0.001      2.068      0.039       0.000       0.005\n",
       "sysBP               0.0138      0.003      4.712      0.000       0.008       0.020\n",
       "BMI                 0.0050      0.013      0.403      0.687      -0.019       0.030\n",
       "heartRate          -0.0034      0.004     -0.798      0.425      -0.012       0.005\n",
       "glucose             0.0072      0.002      3.208      0.001       0.003       0.012\n",
       "===================================================================================\n",
       "\"\"\""
      ]
     },
     "execution_count": 59,
     "metadata": {},
     "output_type": "execute_result"
    }
   ],
   "source": [
    "logistic_regression_result.summary()"
   ]
  },
  {
   "cell_type": "code",
   "execution_count": 62,
   "id": "0823ff89-4f91-4994-a3e4-8d0227063348",
   "metadata": {
    "editable": true,
    "slideshow": {
     "slide_type": "slide"
    },
    "tags": [
     "slice"
    ]
   },
   "outputs": [
    {
     "data": {
      "text/html": [
       "<table class=\"simpletable\">\n",
       "<caption>OLS Regression Results</caption>\n",
       "<tr>\n",
       "  <th>Dep. Variable:</th>       <td>TenYearCHD</td>    <th>  R-squared:         </th> <td>   0.101</td>\n",
       "</tr>\n",
       "<tr>\n",
       "  <th>Model:</th>                   <td>OLS</td>       <th>  Adj. R-squared:    </th> <td>   0.097</td>\n",
       "</tr>\n",
       "<tr>\n",
       "  <th>Method:</th>             <td>Least Squares</td>  <th>  F-statistic:       </th> <td>   29.11</td>\n",
       "</tr>\n",
       "<tr>\n",
       "  <th>Date:</th>             <td>Wed, 23 Apr 2025</td> <th>  Prob (F-statistic):</th> <td>7.34e-74</td>\n",
       "</tr>\n",
       "<tr>\n",
       "  <th>Time:</th>                 <td>01:11:57</td>     <th>  Log-Likelihood:    </th> <td> -1252.1</td>\n",
       "</tr>\n",
       "<tr>\n",
       "  <th>No. Observations:</th>      <td>  3656</td>      <th>  AIC:               </th> <td>   2534.</td>\n",
       "</tr>\n",
       "<tr>\n",
       "  <th>Df Residuals:</th>          <td>  3641</td>      <th>  BIC:               </th> <td>   2627.</td>\n",
       "</tr>\n",
       "<tr>\n",
       "  <th>Df Model:</th>              <td>    14</td>      <th>                     </th>     <td> </td>   \n",
       "</tr>\n",
       "<tr>\n",
       "  <th>Covariance Type:</th>      <td>nonrobust</td>    <th>                     </th>     <td> </td>   \n",
       "</tr>\n",
       "</table>\n",
       "<table class=\"simpletable\">\n",
       "<tr>\n",
       "         <td></td>            <th>coef</th>     <th>std err</th>      <th>t</th>      <th>P>|t|</th>  <th>[0.025</th>    <th>0.975]</th>  \n",
       "</tr>\n",
       "<tr>\n",
       "  <th>Intercept</th>       <td>   -0.6058</td> <td>    0.076</td> <td>   -7.958</td> <td> 0.000</td> <td>   -0.755</td> <td>   -0.457</td>\n",
       "</tr>\n",
       "<tr>\n",
       "  <th>age</th>             <td>    0.0072</td> <td>    0.001</td> <td>    9.561</td> <td> 0.000</td> <td>    0.006</td> <td>    0.009</td>\n",
       "</tr>\n",
       "<tr>\n",
       "  <th>male</th>            <td>    0.0551</td> <td>    0.012</td> <td>    4.452</td> <td> 0.000</td> <td>    0.031</td> <td>    0.079</td>\n",
       "</tr>\n",
       "<tr>\n",
       "  <th>education</th>       <td>   -0.0061</td> <td>    0.006</td> <td>   -1.078</td> <td> 0.281</td> <td>   -0.017</td> <td>    0.005</td>\n",
       "</tr>\n",
       "<tr>\n",
       "  <th>currentSmoker</th>   <td>    0.0091</td> <td>    0.018</td> <td>    0.499</td> <td> 0.618</td> <td>   -0.027</td> <td>    0.045</td>\n",
       "</tr>\n",
       "<tr>\n",
       "  <th>cigsPerDay</th>      <td>    0.0022</td> <td>    0.001</td> <td>    2.760</td> <td> 0.006</td> <td>    0.001</td> <td>    0.004</td>\n",
       "</tr>\n",
       "<tr>\n",
       "  <th>BPMeds</th>          <td>    0.0475</td> <td>    0.035</td> <td>    1.368</td> <td> 0.171</td> <td>   -0.021</td> <td>    0.115</td>\n",
       "</tr>\n",
       "<tr>\n",
       "  <th>prevalentStroke</th> <td>    0.1351</td> <td>    0.075</td> <td>    1.792</td> <td> 0.073</td> <td>   -0.013</td> <td>    0.283</td>\n",
       "</tr>\n",
       "<tr>\n",
       "  <th>prevalentHyp</th>    <td>    0.0248</td> <td>    0.017</td> <td>    1.436</td> <td> 0.151</td> <td>   -0.009</td> <td>    0.059</td>\n",
       "</tr>\n",
       "<tr>\n",
       "  <th>diabetes</th>        <td>    0.0268</td> <td>    0.044</td> <td>    0.606</td> <td> 0.545</td> <td>   -0.060</td> <td>    0.113</td>\n",
       "</tr>\n",
       "<tr>\n",
       "  <th>totChol</th>         <td>    0.0001</td> <td>    0.000</td> <td>    0.902</td> <td> 0.367</td> <td>   -0.000</td> <td>    0.000</td>\n",
       "</tr>\n",
       "<tr>\n",
       "  <th>sysBP</th>           <td>    0.0020</td> <td>    0.000</td> <td>    5.279</td> <td> 0.000</td> <td>    0.001</td> <td>    0.003</td>\n",
       "</tr>\n",
       "<tr>\n",
       "  <th>BMI</th>             <td>   -0.0004</td> <td>    0.002</td> <td>   -0.236</td> <td> 0.813</td> <td>   -0.003</td> <td>    0.003</td>\n",
       "</tr>\n",
       "<tr>\n",
       "  <th>heartRate</th>       <td>   -0.0004</td> <td>    0.000</td> <td>   -0.818</td> <td> 0.413</td> <td>   -0.001</td> <td>    0.001</td>\n",
       "</tr>\n",
       "<tr>\n",
       "  <th>glucose</th>         <td>    0.0012</td> <td>    0.000</td> <td>    3.860</td> <td> 0.000</td> <td>    0.001</td> <td>    0.002</td>\n",
       "</tr>\n",
       "</table>\n",
       "<table class=\"simpletable\">\n",
       "<tr>\n",
       "  <th>Omnibus:</th>       <td>999.210</td> <th>  Durbin-Watson:     </th> <td>   2.043</td>\n",
       "</tr>\n",
       "<tr>\n",
       "  <th>Prob(Omnibus):</th> <td> 0.000</td>  <th>  Jarque-Bera (JB):  </th> <td>2044.915</td>\n",
       "</tr>\n",
       "<tr>\n",
       "  <th>Skew:</th>          <td> 1.668</td>  <th>  Prob(JB):          </th> <td>    0.00</td>\n",
       "</tr>\n",
       "<tr>\n",
       "  <th>Kurtosis:</th>      <td> 4.513</td>  <th>  Cond. No.          </th> <td>4.13e+03</td>\n",
       "</tr>\n",
       "</table><br/><br/>Notes:<br/>[1] Standard Errors assume that the covariance matrix of the errors is correctly specified.<br/>[2] The condition number is large, 4.13e+03. This might indicate that there are<br/>strong multicollinearity or other numerical problems."
      ],
      "text/latex": [
       "\\begin{center}\n",
       "\\begin{tabular}{lclc}\n",
       "\\toprule\n",
       "\\textbf{Dep. Variable:}    &    TenYearCHD    & \\textbf{  R-squared:         } &     0.101   \\\\\n",
       "\\textbf{Model:}            &       OLS        & \\textbf{  Adj. R-squared:    } &     0.097   \\\\\n",
       "\\textbf{Method:}           &  Least Squares   & \\textbf{  F-statistic:       } &     29.11   \\\\\n",
       "\\textbf{Date:}             & Wed, 23 Apr 2025 & \\textbf{  Prob (F-statistic):} &  7.34e-74   \\\\\n",
       "\\textbf{Time:}             &     01:11:57     & \\textbf{  Log-Likelihood:    } &   -1252.1   \\\\\n",
       "\\textbf{No. Observations:} &        3656      & \\textbf{  AIC:               } &     2534.   \\\\\n",
       "\\textbf{Df Residuals:}     &        3641      & \\textbf{  BIC:               } &     2627.   \\\\\n",
       "\\textbf{Df Model:}         &          14      & \\textbf{                     } &             \\\\\n",
       "\\textbf{Covariance Type:}  &    nonrobust     & \\textbf{                     } &             \\\\\n",
       "\\bottomrule\n",
       "\\end{tabular}\n",
       "\\begin{tabular}{lcccccc}\n",
       "                         & \\textbf{coef} & \\textbf{std err} & \\textbf{t} & \\textbf{P$> |$t$|$} & \\textbf{[0.025} & \\textbf{0.975]}  \\\\\n",
       "\\midrule\n",
       "\\textbf{Intercept}       &      -0.6058  &        0.076     &    -7.958  &         0.000        &       -0.755    &       -0.457     \\\\\n",
       "\\textbf{age}             &       0.0072  &        0.001     &     9.561  &         0.000        &        0.006    &        0.009     \\\\\n",
       "\\textbf{male}            &       0.0551  &        0.012     &     4.452  &         0.000        &        0.031    &        0.079     \\\\\n",
       "\\textbf{education}       &      -0.0061  &        0.006     &    -1.078  &         0.281        &       -0.017    &        0.005     \\\\\n",
       "\\textbf{currentSmoker}   &       0.0091  &        0.018     &     0.499  &         0.618        &       -0.027    &        0.045     \\\\\n",
       "\\textbf{cigsPerDay}      &       0.0022  &        0.001     &     2.760  &         0.006        &        0.001    &        0.004     \\\\\n",
       "\\textbf{BPMeds}          &       0.0475  &        0.035     &     1.368  &         0.171        &       -0.021    &        0.115     \\\\\n",
       "\\textbf{prevalentStroke} &       0.1351  &        0.075     &     1.792  &         0.073        &       -0.013    &        0.283     \\\\\n",
       "\\textbf{prevalentHyp}    &       0.0248  &        0.017     &     1.436  &         0.151        &       -0.009    &        0.059     \\\\\n",
       "\\textbf{diabetes}        &       0.0268  &        0.044     &     0.606  &         0.545        &       -0.060    &        0.113     \\\\\n",
       "\\textbf{totChol}         &       0.0001  &        0.000     &     0.902  &         0.367        &       -0.000    &        0.000     \\\\\n",
       "\\textbf{sysBP}           &       0.0020  &        0.000     &     5.279  &         0.000        &        0.001    &        0.003     \\\\\n",
       "\\textbf{BMI}             &      -0.0004  &        0.002     &    -0.236  &         0.813        &       -0.003    &        0.003     \\\\\n",
       "\\textbf{heartRate}       &      -0.0004  &        0.000     &    -0.818  &         0.413        &       -0.001    &        0.001     \\\\\n",
       "\\textbf{glucose}         &       0.0012  &        0.000     &     3.860  &         0.000        &        0.001    &        0.002     \\\\\n",
       "\\bottomrule\n",
       "\\end{tabular}\n",
       "\\begin{tabular}{lclc}\n",
       "\\textbf{Omnibus:}       & 999.210 & \\textbf{  Durbin-Watson:     } &    2.043  \\\\\n",
       "\\textbf{Prob(Omnibus):} &   0.000 & \\textbf{  Jarque-Bera (JB):  } & 2044.915  \\\\\n",
       "\\textbf{Skew:}          &   1.668 & \\textbf{  Prob(JB):          } &     0.00  \\\\\n",
       "\\textbf{Kurtosis:}      &   4.513 & \\textbf{  Cond. No.          } & 4.13e+03  \\\\\n",
       "\\bottomrule\n",
       "\\end{tabular}\n",
       "%\\caption{OLS Regression Results}\n",
       "\\end{center}\n",
       "\n",
       "Notes: \\newline\n",
       " [1] Standard Errors assume that the covariance matrix of the errors is correctly specified. \\newline\n",
       " [2] The condition number is large, 4.13e+03. This might indicate that there are \\newline\n",
       " strong multicollinearity or other numerical problems."
      ],
      "text/plain": [
       "<class 'statsmodels.iolib.summary.Summary'>\n",
       "\"\"\"\n",
       "                            OLS Regression Results                            \n",
       "==============================================================================\n",
       "Dep. Variable:             TenYearCHD   R-squared:                       0.101\n",
       "Model:                            OLS   Adj. R-squared:                  0.097\n",
       "Method:                 Least Squares   F-statistic:                     29.11\n",
       "Date:                Wed, 23 Apr 2025   Prob (F-statistic):           7.34e-74\n",
       "Time:                        01:11:57   Log-Likelihood:                -1252.1\n",
       "No. Observations:                3656   AIC:                             2534.\n",
       "Df Residuals:                    3641   BIC:                             2627.\n",
       "Df Model:                          14                                         \n",
       "Covariance Type:            nonrobust                                         \n",
       "===================================================================================\n",
       "                      coef    std err          t      P>|t|      [0.025      0.975]\n",
       "-----------------------------------------------------------------------------------\n",
       "Intercept          -0.6058      0.076     -7.958      0.000      -0.755      -0.457\n",
       "age                 0.0072      0.001      9.561      0.000       0.006       0.009\n",
       "male                0.0551      0.012      4.452      0.000       0.031       0.079\n",
       "education          -0.0061      0.006     -1.078      0.281      -0.017       0.005\n",
       "currentSmoker       0.0091      0.018      0.499      0.618      -0.027       0.045\n",
       "cigsPerDay          0.0022      0.001      2.760      0.006       0.001       0.004\n",
       "BPMeds              0.0475      0.035      1.368      0.171      -0.021       0.115\n",
       "prevalentStroke     0.1351      0.075      1.792      0.073      -0.013       0.283\n",
       "prevalentHyp        0.0248      0.017      1.436      0.151      -0.009       0.059\n",
       "diabetes            0.0268      0.044      0.606      0.545      -0.060       0.113\n",
       "totChol             0.0001      0.000      0.902      0.367      -0.000       0.000\n",
       "sysBP               0.0020      0.000      5.279      0.000       0.001       0.003\n",
       "BMI                -0.0004      0.002     -0.236      0.813      -0.003       0.003\n",
       "heartRate          -0.0004      0.000     -0.818      0.413      -0.001       0.001\n",
       "glucose             0.0012      0.000      3.860      0.000       0.001       0.002\n",
       "==============================================================================\n",
       "Omnibus:                      999.210   Durbin-Watson:                   2.043\n",
       "Prob(Omnibus):                  0.000   Jarque-Bera (JB):             2044.915\n",
       "Skew:                           1.668   Prob(JB):                         0.00\n",
       "Kurtosis:                       4.513   Cond. No.                     4.13e+03\n",
       "==============================================================================\n",
       "\n",
       "Notes:\n",
       "[1] Standard Errors assume that the covariance matrix of the errors is correctly specified.\n",
       "[2] The condition number is large, 4.13e+03. This might indicate that there are\n",
       "strong multicollinearity or other numerical problems.\n",
       "\"\"\""
      ]
     },
     "execution_count": 62,
     "metadata": {},
     "output_type": "execute_result"
    }
   ],
   "source": [
    "ordinary_regression_result.summary()"
   ]
  },
  {
   "cell_type": "code",
   "execution_count": 53,
   "id": "7b349202-969c-4931-bc5e-1ec87d81781c",
   "metadata": {
    "editable": true,
    "slideshow": {
     "slide_type": "slide"
    },
    "tags": [
     "slice"
    ]
   },
   "outputs": [
    {
     "data": {
      "text/plain": [
       "<Axes: ylabel='TenYearCHD'>"
      ]
     },
     "execution_count": 53,
     "metadata": {},
     "output_type": "execute_result"
    },
    {
     "data": {
      "image/png": "[encoded data removed]",
      "text/plain": [
       "<Figure size 640x480 with 1 Axes>"
      ]
     },
     "metadata": {},
     "output_type": "display_data"
    }
   ],
   "source": [
    "sns.regplot(x=ordinary_regression_result.fittedvalues, y=df[\"TenYearCHD\"])"
   ]
  },
  {
   "cell_type": "code",
   "execution_count": 56,
   "id": "0d793508-953d-4e40-9d29-f12bcb761d85",
   "metadata": {
    "editable": true,
    "slideshow": {
     "slide_type": "slide"
    },
    "tags": [
     "slice"
    ]
   },
   "outputs": [
    {
     "data": {
      "text/plain": [
       "<Axes: ylabel='TenYearCHD'>"
      ]
     },
     "execution_count": 56,
     "metadata": {},
     "output_type": "execute_result"
    },
    {
     "data": {
      "image/png": "[encoded data removed]",
      "text/plain": [
       "<Figure size 640x480 with 1 Axes>"
      ]
     },
     "metadata": {},
     "output_type": "display_data"
    }
   ],
   "source": [
    "sns.regplot(x=logistic_regression_result.fittedvalues, y=df[\"TenYearCHD\"], logistic=True)"
   ]
  },
  {
   "cell_type": "markdown",
   "id": "42e66117-8b38-48a7-acd6-86e1be2ee793",
   "metadata": {
    "editable": true,
    "slideshow": {
     "slide_type": "slide"
    },
    "tags": [
     "slice"
    ]
   },
   "source": [
    "## Generalized Linear Model\n",
    "\n",
    "If we generalize from ordinary regression and logistic regression, we can specify the distribution of dependent variables more accurately by specifying the **link function** $g$.\n",
    "\n",
    "$$\n",
    "\\boldsymbol{E[Y]} = g^{-1}(\\boldsymbol{X\\beta})\n",
    "$$\n",
    "\n",
    "Here is a [table](https://en.wikipedia.org/wiki/Generalized_linear_model) showing that which link function you may use for the types of dependent variable. "
   ]
  },
  {
   "cell_type": "markdown",
   "id": "0a65cf00-cf64-4314-aa23-7aca11ee6678",
   "metadata": {
    "editable": true,
    "slideshow": {
     "slide_type": "slide"
    },
    "tags": [
     "slice"
    ]
   },
   "source": [
    "<div>\n",
    "<img src=\"./img/glm_link.png\" width=\"600\"/>\n",
    "</div>\n"
   ]
  },
  {
   "cell_type": "markdown",
   "id": "3295476d-7f45-472f-8281-b2353db8375c",
   "metadata": {
    "editable": true,
    "slideshow": {
     "slide_type": "slide"
    },
    "tags": [
     "slice"
    ]
   },
   "source": [
    "## Mixed Effect Model"
   ]
  },
  {
   "cell_type": "markdown",
   "id": "bb155b0e-b2c1-4818-a5b1-48a9d9c31caf",
   "metadata": {
    "editable": true,
    "slideshow": {
     "slide_type": "slide"
    },
    "tags": [
     "slice"
    ]
   },
   "source": [
    "Previously, we have introduced the **independence assumption** of linear regression models. \n",
    "\n",
    "Regression models assume that your data samples are collected as $i.i.d$ samples. \n",
    "\n",
    "But in real-world practices, our data samples are usually grouped together. \n",
    "\n",
    "In these cases, we need to use a mixed effect model, which will specify the group structure of the samples by specifying a random intercept and/or random slopes. \n",
    "\n",
    "It will\n",
    "1. Address issues with the independence assumption.\n",
    "2. Increase the power of your hypothesis testing.\n",
    "3. Address potential issues like Simpson's Paradox.\n",
    "4. But be aware that the mixed effect model will introduce more parameters into your model, which may introduce some other issues like insufficient degrees of freedom. "
   ]
  },
  {
   "cell_type": "markdown",
   "id": "c0ab4080-ea3b-4cd8-8ab2-7135b5bca84c",
   "metadata": {
    "editable": true,
    "slideshow": {
     "slide_type": "slide"
    },
    "tags": [
     "slice"
    ]
   },
   "source": [
    "![mixed](./img/mixed_effect.jpg)"
   ]
  },
  {
   "cell_type": "markdown",
   "id": "df77217b-4ba5-4eb1-8911-49d404249347",
   "metadata": {
    "editable": true,
    "slideshow": {
     "slide_type": "slide"
    },
    "tags": [
     "slice"
    ]
   },
   "source": [
    "![mixed](./img/mixed_effect.png)"
   ]
  },
  {
   "cell_type": "markdown",
   "id": "b6227ab0-f96d-43e2-b60d-77172105e2ff",
   "metadata": {
    "editable": true,
    "slideshow": {
     "slide_type": "slide"
    },
    "tags": [
     "slice"
    ]
   },
   "source": [
    "## Simpson's Paradox\n",
    "\n",
    "![simpson](./img/simpson.png)"
   ]
  },
  {
   "cell_type": "markdown",
   "id": "6faaeb0e-5a92-4267-a0f0-aa60144bada9",
   "metadata": {
    "editable": true,
    "slideshow": {
     "slide_type": "slide"
    },
    "tags": [
     "slice"
    ]
   },
   "source": [
    "## Practical Guidance\n",
    "\n",
    "You may ask, if I have a different slope and intercept for each of my group, why not just fit a regression model for each of my group seperately? \n",
    "\n",
    "It is usually recommended to fit a mixed effect model rather than multiple independent regression models for each group. \n",
    "\n",
    "There are a few reasons:\n",
    "1. Mixed effect model produce a single model fitting for all of your groups\n",
    "2. It will have more degree of freedom of your samples.\n",
    "3. It will make your interepretation easier.\n",
    "4. It will increase your power to detect the fixed effect because it **shrink** the regression coefficients for each group, because it specifies that the random intercept and random slopes are regulated by higher level distributions. \n",
    " \n",
    "For a more detailed explanation, I found this [tutorial](https://www.pymc.io/projects/examples/en/latest/generalized_linear_models/multilevel_modeling.html) to be pretty helpful. \n",
    "\n",
    "For a tutorial, please follow the tutorial in assignment 5."
   ]
  },
  {
   "cell_type": "markdown",
   "id": "7f23d47c-91f6-49d8-8aa7-0d13bf7b5c98",
   "metadata": {
    "editable": true,
    "slideshow": {
     "slide_type": "slide"
    },
    "tags": [
     "slice"
    ]
   },
   "source": [
    "## Ridge and LASSO regression\n",
    "In ordinary regression models, we use the Ordinary Least Squares (OLS) method to estimate the regression coefficients, because the OLS method is unbiased and has the least variance. \n",
    "\n",
    "The OLS method is basically to minimize the sum of squared errors.\n",
    "\n",
    "$$\n",
    "Q = \\sum (Y_i - \\beta_0 - \\beta_1 X_{i, 1} - \\beta_2 X_{i, 2} -... - \\beta_{p-1} X_{i, p-1})^2\n",
    "$$\n",
    "\n",
    "But one issue with the OLS method is that it relies on the data we give it to fit. And when the size of the independent variables is large, it will overfit and produce bad predictions, because of the bias-variance trade-off.\n",
    "\n",
    "So, when we have a lot of independent variables, what should we do to counter the model variance issue? \n",
    "\n",
    "There are two solutions: **Ridge Regression** and **LASSO Regression**."
   ]
  },
  {
   "cell_type": "markdown",
   "id": "59f0f000-19be-4f54-b962-07113e0d7304",
   "metadata": {
    "editable": true,
    "slideshow": {
     "slide_type": "slide"
    },
    "tags": [
     "slice"
    ]
   },
   "source": [
    "## Ridge Regression\n",
    "\n",
    "We know that the problem of OLS method is that it will have large model variance when we have a lot of independent variables. So to address this problem, Ridge Regression is set to **shrink** the magnitude of the estimated regression coefficients. To do so, it tries to minimize the following cost function.\n",
    "\n",
    "$$\n",
    "Q = \\sum_{i=1}^N (Y_i - \\hat{Y_i})^2 + \\lambda \\sum_{k=1}^p \\hat{\\beta_k}^2\n",
    "$$\n",
    "\n",
    "This is also called **L-2 regularization**, because we will penalize the model if it has a very large L-2 norm of the regression coefficients.\n",
    "\n",
    "$$\n",
    "||\\boldsymbol{\\hat{\\beta}}||^2 = \\sum_{k=1}^p \\hat{\\beta_k}^2\n",
    "$$\n",
    "\n",
    "The **hyperparameter** $\\lambda$ sets up how much we want to penalize the model to reduce the model variance. In practice, you may need to **tune** this hyperparameter by comparing different $\\lambda$ values using evaluation metrics, such as prediction accuracy, leave-one-out-cross-validation, or multi-fold-cross-validation. "
   ]
  },
  {
   "cell_type": "markdown",
   "id": "b209a282-9641-488f-8cf1-206c780e0fba",
   "metadata": {
    "editable": true,
    "slideshow": {
     "slide_type": "slide"
    },
    "tags": [
     "slice"
    ]
   },
   "source": [
    "![ridge](./img/ridge.png)"
   ]
  },
  {
   "cell_type": "markdown",
   "id": "6a19ca88-c47f-4aef-ac4f-cd9c085d4ec7",
   "metadata": {
    "editable": true,
    "slideshow": {
     "slide_type": "slide"
    },
    "tags": [
     "slice"
    ]
   },
   "source": [
    "## LASSO Regression\n",
    "\n",
    "Similarly, LASSO regression is also called L-1 regularization, because it penalize the model if it has a large L-1 norm of the regression coefficient. \n",
    "\n",
    "$$\n",
    "||\\boldsymbol{\\beta}||^1 = \\sum_{k=1}^p |\\hat{\\beta_k}|\n",
    "$$\n",
    "\n",
    "$$\n",
    "Q = \\sum_{i=1}^N (Y_i - \\hat{Y_i})^2 + \\lambda \\sum_{k=1}^p |\\hat{\\beta_k}|\n",
    "$$\n",
    "\n",
    "In general, when we set up LASSO regression, it will help us to shrink some coefficients, usually those that are less important in the regression model, to 0. This property usually helps us to **reduce** the size of our independent variables. "
   ]
  },
  {
   "cell_type": "markdown",
   "id": "8696269f-543e-4481-8e46-66e63a0998c5",
   "metadata": {
    "editable": true,
    "slideshow": {
     "slide_type": "slide"
    },
    "tags": [
     "slice"
    ]
   },
   "source": [
    "![lasso](./img/lasso.png)"
   ]
  },
  {
   "cell_type": "markdown",
   "id": "b54a4538-8022-47bf-ab76-438d8e3d89fb",
   "metadata": {
    "editable": true,
    "slideshow": {
     "slide_type": "slide"
    },
    "tags": [
     "slice"
    ]
   },
   "source": [
    "## Tunning $\\lambda$\n",
    "![tune](./img/tunning.png)"
   ]
  },
  {
   "cell_type": "markdown",
   "id": "d52f1c42-f3c9-4ae6-b334-563518d7cf7f",
   "metadata": {
    "editable": true,
    "slideshow": {
     "slide_type": "slide"
    },
    "tags": [
     "slice"
    ]
   },
   "source": [
    "## Difference Between Ridge and LASSO regression\n",
    "\n",
    "\n",
    "<div>\n",
    "<img src=\"./img/diff_ridge_lasso.png\" width=\"600\"/>\n",
    "</div>\n"
   ]
  },
  {
   "cell_type": "markdown",
   "id": "46556405-a348-4407-b057-17f7b7a34dbe",
   "metadata": {
    "editable": true,
    "slideshow": {
     "slide_type": "slide"
    },
    "tags": [
     "slice"
    ]
   },
   "source": [
    "## Practical Guidance\n",
    "\n",
    "These regularization techniques are usually used for **prediction** models. In most of our research, we want to explain the effect in our existing data by testing the **significance of the coefficients**. Thus we usually do not use these approaches, because these techniques will bias our coefficient estimates. \n",
    "\n",
    "Sometimes, you may want to use them, when\n",
    "\n",
    "1. You are trying to make predictions.\n",
    "2. You have a very large amount of independent variables, and want to reduce the size of your independent variables. You can fit a LASSO regression model first to find the best LASSO model, and find out which variables it reduced, and fit the model again with the survived independent variables. "
   ]
  },
  {
   "cell_type": "markdown",
   "id": "8acc99f4-340f-41e2-8c69-62ef8c1438f5",
   "metadata": {
    "editable": true,
    "slideshow": {
     "slide_type": "slide"
    },
    "tags": [
     "slice"
    ]
   },
   "source": [
    "## Dynamic Regression Model\n",
    "\n",
    "When our collected data samples are time series data, we may need to use a dynamic regression model, because \n",
    "\n",
    "1. Data samples are usually correlated, also called **Autocorrelation**.\n",
    "2. It is likely to have **spurious regression** result, which means that the observed effect of independent variables on dependent variables comes from time, seasonality, or autocorrelation.\n",
    "\n",
    "In order to recover the independence of time series, we need to ensure that our data are **stationary**, meaning that samples' statistical properties, like the mean, variance, and autocorrelation, do not change over time."
   ]
  },
  {
   "cell_type": "markdown",
   "id": "e2bddd37-e198-4af4-9df9-f395cd7e5b86",
   "metadata": {
    "editable": true,
    "slideshow": {
     "slide_type": "slide"
    },
    "tags": [
     "slice"
    ]
   },
   "source": [
    "![stationary](./img/stationary.png)"
   ]
  },
  {
   "cell_type": "code",
   "execution_count": 192,
   "id": "d5474929-ad20-404e-ba23-ffb7d120a8a2",
   "metadata": {
    "editable": true,
    "slideshow": {
     "slide_type": "slide"
    },
    "tags": [
     "slice"
    ]
   },
   "outputs": [
    {
     "data": {
      "text/html": [
       "<div>\n",
       "<style scoped>\n",
       "    .dataframe tbody tr th:only-of-type {\n",
       "        vertical-align: middle;\n",
       "    }\n",
       "\n",
       "    .dataframe tbody tr th {\n",
       "        vertical-align: top;\n",
       "    }\n",
       "\n",
       "    .dataframe thead th {\n",
       "        text-align: right;\n",
       "    }\n",
       "</style>\n",
       "<table border=\"1\" class=\"dataframe\">\n",
       "  <thead>\n",
       "    <tr style=\"text-align: right;\">\n",
       "      <th></th>\n",
       "      <th>year</th>\n",
       "      <th>quarter</th>\n",
       "      <th>realgdp</th>\n",
       "      <th>realcons</th>\n",
       "      <th>realinv</th>\n",
       "      <th>realgovt</th>\n",
       "      <th>realdpi</th>\n",
       "      <th>cpi</th>\n",
       "      <th>m1</th>\n",
       "      <th>tbilrate</th>\n",
       "      <th>unemp</th>\n",
       "      <th>pop</th>\n",
       "      <th>infl</th>\n",
       "      <th>realint</th>\n",
       "    </tr>\n",
       "  </thead>\n",
       "  <tbody>\n",
       "    <tr>\n",
       "      <th>0</th>\n",
       "      <td>1959.0</td>\n",
       "      <td>1.0</td>\n",
       "      <td>2710.349</td>\n",
       "      <td>1707.4</td>\n",
       "      <td>286.898</td>\n",
       "      <td>470.045</td>\n",
       "      <td>1886.9</td>\n",
       "      <td>28.98</td>\n",
       "      <td>139.7</td>\n",
       "      <td>2.82</td>\n",
       "      <td>5.8</td>\n",
       "      <td>177.146</td>\n",
       "      <td>0.00</td>\n",
       "      <td>0.00</td>\n",
       "    </tr>\n",
       "    <tr>\n",
       "      <th>1</th>\n",
       "      <td>1959.0</td>\n",
       "      <td>2.0</td>\n",
       "      <td>2778.801</td>\n",
       "      <td>1733.7</td>\n",
       "      <td>310.859</td>\n",
       "      <td>481.301</td>\n",
       "      <td>1919.7</td>\n",
       "      <td>29.15</td>\n",
       "      <td>141.7</td>\n",
       "      <td>3.08</td>\n",
       "      <td>5.1</td>\n",
       "      <td>177.830</td>\n",
       "      <td>2.34</td>\n",
       "      <td>0.74</td>\n",
       "    </tr>\n",
       "    <tr>\n",
       "      <th>2</th>\n",
       "      <td>1959.0</td>\n",
       "      <td>3.0</td>\n",
       "      <td>2775.488</td>\n",
       "      <td>1751.8</td>\n",
       "      <td>289.226</td>\n",
       "      <td>491.260</td>\n",
       "      <td>1916.4</td>\n",
       "      <td>29.35</td>\n",
       "      <td>140.5</td>\n",
       "      <td>3.82</td>\n",
       "      <td>5.3</td>\n",
       "      <td>178.657</td>\n",
       "      <td>2.74</td>\n",
       "      <td>1.09</td>\n",
       "    </tr>\n",
       "    <tr>\n",
       "      <th>3</th>\n",
       "      <td>1959.0</td>\n",
       "      <td>4.0</td>\n",
       "      <td>2785.204</td>\n",
       "      <td>1753.7</td>\n",
       "      <td>299.356</td>\n",
       "      <td>484.052</td>\n",
       "      <td>1931.3</td>\n",
       "      <td>29.37</td>\n",
       "      <td>140.0</td>\n",
       "      <td>4.33</td>\n",
       "      <td>5.6</td>\n",
       "      <td>179.386</td>\n",
       "      <td>0.27</td>\n",
       "      <td>4.06</td>\n",
       "    </tr>\n",
       "    <tr>\n",
       "      <th>4</th>\n",
       "      <td>1960.0</td>\n",
       "      <td>1.0</td>\n",
       "      <td>2847.699</td>\n",
       "      <td>1770.5</td>\n",
       "      <td>331.722</td>\n",
       "      <td>462.199</td>\n",
       "      <td>1955.5</td>\n",
       "      <td>29.54</td>\n",
       "      <td>139.6</td>\n",
       "      <td>3.50</td>\n",
       "      <td>5.2</td>\n",
       "      <td>180.007</td>\n",
       "      <td>2.31</td>\n",
       "      <td>1.19</td>\n",
       "    </tr>\n",
       "  </tbody>\n",
       "</table>\n",
       "</div>"
      ],
      "text/plain": [
       "     year  quarter   realgdp  realcons  realinv  realgovt  realdpi    cpi  \\\n",
       "0  1959.0      1.0  2710.349    1707.4  286.898   470.045   1886.9  28.98   \n",
       "1  1959.0      2.0  2778.801    1733.7  310.859   481.301   1919.7  29.15   \n",
       "2  1959.0      3.0  2775.488    1751.8  289.226   491.260   1916.4  29.35   \n",
       "3  1959.0      4.0  2785.204    1753.7  299.356   484.052   1931.3  29.37   \n",
       "4  1960.0      1.0  2847.699    1770.5  331.722   462.199   1955.5  29.54   \n",
       "\n",
       "      m1  tbilrate  unemp      pop  infl  realint  \n",
       "0  139.7      2.82    5.8  177.146  0.00     0.00  \n",
       "1  141.7      3.08    5.1  177.830  2.34     0.74  \n",
       "2  140.5      3.82    5.3  178.657  2.74     1.09  \n",
       "3  140.0      4.33    5.6  179.386  0.27     4.06  \n",
       "4  139.6      3.50    5.2  180.007  2.31     1.19  "
      ]
     },
     "execution_count": 192,
     "metadata": {},
     "output_type": "execute_result"
    }
   ],
   "source": [
    "data = data = sm.datasets.macrodata.load_pandas().data\n",
    "data.head()"
   ]
  },
  {
   "cell_type": "markdown",
   "id": "36b188cb-1416-4d2a-a153-ca68cd43fdcf",
   "metadata": {
    "editable": true,
    "slideshow": {
     "slide_type": "slide"
    },
    "tags": [
     "slice"
    ]
   },
   "source": [
    "## Does Consumption Impact GDP?"
   ]
  },
  {
   "cell_type": "code",
   "execution_count": 193,
   "id": "7585c150-3966-4cf9-a431-a672a84016c1",
   "metadata": {
    "editable": true,
    "slideshow": {
     "slide_type": "slide"
    },
    "tags": [
     "slice"
    ]
   },
   "outputs": [
    {
     "data": {
      "text/plain": [
       "<matplotlib.legend.Legend at 0x7f932aa7b550>"
      ]
     },
     "execution_count": 193,
     "metadata": {},
     "output_type": "execute_result"
    },
    {
     "data": {
      "image/png": "[encoded data removed]",
      "text/plain": [
       "<Figure size 640x480 with 1 Axes>"
      ]
     },
     "metadata": {},
     "output_type": "display_data"
    }
   ],
   "source": [
    "sns.lineplot(data.realgdp, label=\"GDP\")\n",
    "sns.lineplot(data.realcons, label=\"Consumption\")\n",
    "plt.ylabel(\"value\")\n",
    "plt.legend()"
   ]
  },
  {
   "cell_type": "markdown",
   "id": "a3c987a1-246b-4c92-8c04-5f209414428e",
   "metadata": {
    "editable": true,
    "slideshow": {
     "slide_type": "slide"
    },
    "tags": [
     "slice"
    ]
   },
   "source": [
    "## Spurious Regression"
   ]
  },
  {
   "cell_type": "code",
   "execution_count": 194,
   "id": "ba1eeeba-7d80-4ace-a76d-f02abf6df3cf",
   "metadata": {
    "editable": true,
    "slideshow": {
     "slide_type": "slide"
    },
    "tags": [
     "slice"
    ]
   },
   "outputs": [
    {
     "data": {
      "text/plain": [
       "<Axes: xlabel='realcons', ylabel='realgdp'>"
      ]
     },
     "execution_count": 194,
     "metadata": {},
     "output_type": "execute_result"
    },
    {
     "data": {
      "image/png": "[encoded data removed]",
      "text/plain": [
       "<Figure size 640x480 with 1 Axes>"
      ]
     },
     "metadata": {},
     "output_type": "display_data"
    }
   ],
   "source": [
    "sns.scatterplot(data=data, x=\"realcons\", y=\"realgdp\")"
   ]
  },
  {
   "cell_type": "markdown",
   "id": "aff16755-bd6d-4db7-ad96-808a43e25e8f",
   "metadata": {
    "editable": true,
    "slideshow": {
     "slide_type": "slide"
    },
    "tags": [
     "slice"
    ]
   },
   "source": [
    "## Autocorrelation"
   ]
  },
  {
   "cell_type": "code",
   "execution_count": 195,
   "id": "286f4534-36e7-4186-b585-a1882360d05d",
   "metadata": {
    "editable": true,
    "slideshow": {
     "slide_type": "slide"
    },
    "tags": [
     "slice"
    ]
   },
   "outputs": [
    {
     "data": {
      "text/plain": [
       "Text(0, 0.5, 'GDP (t)')"
      ]
     },
     "execution_count": 195,
     "metadata": {},
     "output_type": "execute_result"
    },
    {
     "data": {
      "image/png": "[encoded data removed]",
      "text/plain": [
       "<Figure size 640x480 with 1 Axes>"
      ]
     },
     "metadata": {},
     "output_type": "display_data"
    }
   ],
   "source": [
    "sns.scatterplot(data=data, x=data.realgdp.shift(), y=\"realgdp\")\n",
    "plt.xlabel(\"GDP (t-1)\")\n",
    "plt.ylabel(\"GDP (t)\")"
   ]
  },
  {
   "cell_type": "markdown",
   "id": "13cd2b0d-460e-4a70-95c2-e31fafabd649",
   "metadata": {
    "editable": true,
    "slideshow": {
     "slide_type": "slide"
    },
    "tags": [
     "slice"
    ]
   },
   "source": [
    "## Strategies\n",
    "\n",
    "Usually when dealing with regression with time series data, we need to \n",
    "\n",
    "1. Apply transformation techniques to ensure the variables are stationary.\n",
    "2. Add time and autoregressive regressors in the model to account for the autocorrelation in the error terms."
   ]
  },
  {
   "cell_type": "markdown",
   "id": "677de4c3-2b80-4990-a271-a626eb8f8ec6",
   "metadata": {
    "editable": true,
    "slideshow": {
     "slide_type": "slide"
    },
    "tags": [
     "slice"
    ]
   },
   "source": [
    "## ACF and PACF plots for autoregression with lags\n",
    "\n",
    "We can use ACF plots to visualize how the samples at time $t$ is correlated with previous data $t-1$, $t-2$, ..., or denoted as $t-k$, where $k$ is the time lag of correlation test between samples. \n",
    "\n",
    "Usually, a PACF plot is used to visualize how the sample at $t$ is correlated with the sample at $t-k$, after accounting for the autoregression for samples before $t-k$. "
   ]
  },
  {
   "cell_type": "code",
   "execution_count": 197,
   "id": "f67a1903-4aac-4246-a059-dd6d56155f17",
   "metadata": {
    "editable": true,
    "slideshow": {
     "slide_type": "slide"
    },
    "tags": [
     "slice"
    ]
   },
   "outputs": [
    {
     "data": {
      "image/png": "[encoded data removed]",
      "text/plain": [
       "<Figure size 1000x500 with 2 Axes>"
      ]
     },
     "metadata": {},
     "output_type": "display_data"
    }
   ],
   "source": [
    "from statsmodels.graphics.tsaplots import plot_acf, plot_pacf\n",
    "fig, ax = plt.subplots(ncols=2, figsize=(10, 5))\n",
    "plot_acf(data.realcons, ax=ax[0])\n",
    "plot_acf(data.realgdp, ax=ax[1])\n",
    "plt.show()"
   ]
  },
  {
   "cell_type": "code",
   "execution_count": 198,
   "id": "bf5c5e2d-1131-446a-a1a0-965583afc51a",
   "metadata": {
    "editable": true,
    "slideshow": {
     "slide_type": "slide"
    },
    "tags": [
     "slice"
    ]
   },
   "outputs": [
    {
     "data": {
      "image/png": "[encoded data removed]",
      "text/plain": [
       "<Figure size 1000x500 with 2 Axes>"
      ]
     },
     "metadata": {},
     "output_type": "display_data"
    }
   ],
   "source": [
    "fig, ax = plt.subplots(ncols=2, figsize=(10, 5))\n",
    "plot_pacf(data.realcons, ax=ax[0])\n",
    "plot_pacf(data.realgdp, ax=ax[1])\n",
    "plt.show()"
   ]
  },
  {
   "cell_type": "markdown",
   "id": "960b7f40-12d7-469f-a329-cc042224b834",
   "metadata": {
    "editable": true,
    "slideshow": {
     "slide_type": "slide"
    },
    "tags": [
     "slice"
    ]
   },
   "source": [
    "## Stationarity and detrending (ADF/KPSS)\n",
    "\n",
    "We can also use two statistical tests to test the stationarity of our data samples - Augmented Dickey Fuller (**ADF**) test and Kwiatkowski-Phillips-Schmidt-Shin (**KPSS**) test.\n",
    "\n",
    "- Case 1: Both tests conclude that the series is not stationary - The series is not stationary\n",
    "- Case 2: Both tests conclude that the series is stationary - The series is stationary\n",
    "- Case 3: KPSS indicates stationarity and ADF indicates non-stationarity - The series is trend stationary. Trend needs to be removed to make series strict stationary. The detrended series is checked for stationarity.\n",
    "- Case 4: KPSS indicates non-stationarity and ADF indicates stationarity - The series is difference stationary. Differencing is to be used to make series stationary. The differenced series is checked for stationarity."
   ]
  },
  {
   "cell_type": "code",
   "execution_count": 199,
   "id": "e6c14c92-c174-43ed-b566-4d14d213b187",
   "metadata": {
    "editable": true,
    "slideshow": {
     "slide_type": "slide"
    },
    "tags": [
     "slice"
    ]
   },
   "outputs": [],
   "source": [
    "from statsmodels.tsa.stattools import kpss, adfuller\n",
    "\n",
    "\n",
    "def adf_test(timeseries):\n",
    "    print(\"Results of Dickey-Fuller Test:\")\n",
    "    dftest = adfuller(timeseries, autolag=\"AIC\")\n",
    "    dfoutput = pd.Series(\n",
    "        dftest[0:4],\n",
    "        index=[\n",
    "            \"Test Statistic\",\n",
    "            \"p-value\",\n",
    "            \"#Lags Used\",\n",
    "            \"Number of Observations Used\",\n",
    "        ],\n",
    "    )\n",
    "    for key, value in dftest[4].items():\n",
    "        dfoutput[\"Critical Value (%s)\" % key] = value\n",
    "    print(dfoutput)\n",
    "\n",
    "def kpss_test(timeseries):\n",
    "    print(\"Results of KPSS Test:\")\n",
    "    kpsstest = kpss(timeseries, regression=\"c\", nlags=\"auto\")\n",
    "    kpss_output = pd.Series(\n",
    "        kpsstest[0:3], index=[\"Test Statistic\", \"p-value\", \"Lags Used\"]\n",
    "    )\n",
    "    for key, value in kpsstest[3].items():\n",
    "        kpss_output[\"Critical Value (%s)\" % key] = value\n",
    "    print(kpss_output)"
   ]
  },
  {
   "cell_type": "code",
   "execution_count": 200,
   "id": "b620e45a-bea8-4b50-84ad-1dd087d98274",
   "metadata": {
    "editable": true,
    "slideshow": {
     "slide_type": "slide"
    },
    "tags": [
     "slice"
    ]
   },
   "outputs": [
    {
     "name": "stdout",
     "output_type": "stream",
     "text": [
      "Results of Dickey-Fuller Test:\n",
      "Test Statistic                   1.549912\n",
      "p-value                          0.997699\n",
      "#Lags Used                       4.000000\n",
      "Number of Observations Used    198.000000\n",
      "Critical Value (1%)             -3.463815\n",
      "Critical Value (5%)             -2.876251\n",
      "Critical Value (10%)            -2.574611\n",
      "dtype: float64\n",
      "Results of KPSS Test:\n",
      "Test Statistic           2.050711\n",
      "p-value                  0.010000\n",
      "Lags Used                9.000000\n",
      "Critical Value (10%)     0.347000\n",
      "Critical Value (5%)      0.463000\n",
      "Critical Value (2.5%)    0.574000\n",
      "Critical Value (1%)      0.739000\n",
      "dtype: float64\n"
     ]
    },
    {
     "name": "stderr",
     "output_type": "stream",
     "text": [
      "/tmp/ipykernel_3212767/369695744.py:22: InterpolationWarning: The test statistic is outside of the range of p-values available in the\n",
      "look-up table. The actual p-value is smaller than the p-value returned.\n",
      "\n",
      "  kpsstest = kpss(timeseries, regression=\"c\", nlags=\"auto\")\n"
     ]
    }
   ],
   "source": [
    "adf_test(data.realcons)\n",
    "kpss_test(data.realcons)"
   ]
  },
  {
   "cell_type": "markdown",
   "id": "ba84c08c-02cf-41e9-b922-ccb5e90d18f7",
   "metadata": {
    "editable": true,
    "slideshow": {
     "slide_type": "slide"
    },
    "tags": [
     "slice"
    ]
   },
   "source": [
    "## Differencing time series to restore stationarity\n",
    "\n",
    "To prepare the data for time series regression analysis, we need to apply a transformation to the data to ensure the data are stationary. \n",
    "\n",
    "One commonly used strategy is differencing. This strategy is basically to subtract the data at time $t$ by the data at time $t-1$.\n",
    "\n",
    "$$\n",
    "Y_t' = Y_t - Y_{t-1}\n",
    "$$\n",
    "\n",
    "In most cases, order one differencing is sufficient to restore the stationarity, but sometimes you might need to use order two differencing \n",
    "\n",
    "$$\n",
    "Y_t'' = Y_t' - Y_{t-1}' = Y_t - 2Y_{t-1} + Y_{t-2}\n",
    "$$"
   ]
  },
  {
   "cell_type": "markdown",
   "id": "025d8ad0-980a-44f6-a3ae-0335546a4fc9",
   "metadata": {
    "editable": true,
    "slideshow": {
     "slide_type": "slide"
    },
    "tags": [
     "slice"
    ]
   },
   "source": [
    "## Dynamic regression model\n",
    "\n",
    "To estimate a regression model for time series data, we need to specify a dynamic regression model, where the collected samples are denoted by time \n",
    "\n",
    "$$\n",
    "Y_t = \\beta_0 + \\beta_1 X_t + \\epsilon_t\n",
    "$$\n",
    "\n",
    "In order to account for the autocorrelation effects, we need to add additional regressors to account for the time related dependencies in our data. Some commonly added regressors:\n",
    "\n",
    "1. Trend $t$\n",
    "2. Autoregressors $Y_{t-1}, Y_{t-2}...$\n",
    "3. Moving averages regressors\n",
    "4. Seasonality: Dummy-coded season indicators such as day of week"
   ]
  },
  {
   "cell_type": "markdown",
   "id": "34d6bb74-52a3-4ce9-a71e-aeea4ac805a1",
   "metadata": {
    "editable": true,
    "slideshow": {
     "slide_type": "slide"
    },
    "tags": [
     "slice"
    ]
   },
   "source": [
    "## Detrend by adding trend variable into the model\n",
    "\n",
    "A simpler method is to detrend the time series, which involves fitting a trend line, and obtaining the residuals of the trend model as the detrended data samples. \n",
    "\n",
    "Or usually, we can normally add a trend regressor into the model to account for the effect of trends. \n",
    "\n",
    "$$\n",
    "Y_t = \\beta_0 + \\beta_1 t + ... + \\epsilon_t\n",
    "$$\n",
    "\n",
    "![detrend](./img/detrend.png)"
   ]
  },
  {
   "cell_type": "markdown",
   "id": "d535e09b-b4d9-4a2b-9524-77620a208704",
   "metadata": {
    "editable": true,
    "slideshow": {
     "slide_type": "slide"
    },
    "tags": [
     "slice"
    ]
   },
   "source": [
    "## Autoregressor (AR)\n",
    "\n",
    "When fitting a regression model with expected autoregression effects, we should add autoregressors in our regression model, denoted as $AR$.\n",
    "\n",
    "For instance, we can add a regressor by specifying the dependent variable at the previous time $t-1$ as an independent variable in our model. \n",
    "\n",
    "$$\n",
    "Y_t = \\beta_0 + \\beta_1 Y_{t-1} + \\beta_2 X_1 + \\epsilon_i\n",
    "$$\n",
    "\n",
    "For higher order autoregressors such as $AR(2)$, we may add additional independent variables such as $Y_{t-1}$\n",
    "\n",
    "$$\n",
    "Y_t = \\beta_0 + \\beta_1 Y_{t-1} + \\beta_2 Y_{t-2} + \\beta_3 X_1 + \\epsilon_i\n",
    "$$"
   ]
  },
  {
   "cell_type": "markdown",
   "id": "03644125-0ddd-49a9-a581-eaab8a22a1c3",
   "metadata": {
    "editable": true,
    "slideshow": {
     "slide_type": "slide"
    },
    "tags": [
     "slice"
    ]
   },
   "source": [
    "## Moving average regressor (MA)\n",
    "\n",
    "Moving average regressors, different from autoregressors (AR), specify that the dependent variable is correlated with previous random errors, which are not directly observable. \n",
    "\n",
    "A moving average model with order $q$ is specified as \n",
    "\n",
    "$$\n",
    "Y_t = \\beta_0 + \\epsilon_t + \\beta_1 \\epsilon_{t-1} + \\beta_2 \\epsilon_{t-2} + ... + \\beta_{q} \\epsilon_{t-q}\n",
    "$$\n",
    "\n",
    "Here $\\epsilon_t$ are model errors or white noise at time point $t$. Thus, the $MA$ model uses the model errors of its past data samples to explain its future data samples, which is not unusual than regression models we have learned previously. "
   ]
  },
  {
   "cell_type": "markdown",
   "id": "45150805-6368-47bc-b43a-2871d9cc11f1",
   "metadata": {
    "editable": true,
    "slideshow": {
     "slide_type": "slide"
    },
    "tags": [
     "slice"
    ]
   },
   "source": [
    "## Dynamic Regression Model with ARIMA model\n",
    "\n",
    "A dynamic regression model combines these techniques to explain and account for the time dependencies and autocorrelations in our data. \n",
    "\n",
    "Such regression models can consist of the following regressors or preprocessing techniques:\n",
    "\n",
    "- Trend\n",
    "- Seasonality\n",
    "- Independent Variables\n",
    "- First differencing of both dependent variables and independent variables\n",
    "- Autoregressor of past dependent variables\n",
    "- Moving average regressors of past model errors\n",
    "\n",
    "By defining the order of each regressor or technique, we can obtain a dynamic regression model that best describes our data. \n",
    "\n",
    "Here is a [practical guide](https://people.duke.edu/~rnau/arimrule.htm) for how to choose these orders. "
   ]
  }
 ],
 "metadata": {
  "kernelspec": {
   "display_name": "Python 3 (ipykernel)",
   "language": "python",
   "name": "python3"
  },
  "language_info": {
   "codemirror_mode": {
    "name": "ipython",
    "version": 3
   },
   "file_extension": ".py",
   "mimetype": "text/x-python",
   "name": "python",
   "nbconvert_exporter": "python",
   "pygments_lexer": "ipython3",
   "version": "3.11.6"
  }
 },
 "nbformat": 4,
 "nbformat_minor": 5
}
